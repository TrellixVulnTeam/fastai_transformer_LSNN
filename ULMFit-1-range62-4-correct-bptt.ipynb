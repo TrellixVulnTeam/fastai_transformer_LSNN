{
 "cells": [
  {
   "cell_type": "markdown",
   "metadata": {},
   "source": [
    "# Music"
   ]
  },
  {
   "cell_type": "code",
   "execution_count": 1,
   "metadata": {},
   "outputs": [],
   "source": [
    "%reload_ext autoreload\n",
    "%autoreload 2\n",
    "%matplotlib inline"
   ]
  },
  {
   "cell_type": "code",
   "execution_count": 2,
   "metadata": {},
   "outputs": [],
   "source": [
    "from fastai.text import *"
   ]
  },
  {
   "cell_type": "code",
   "execution_count": 3,
   "metadata": {},
   "outputs": [],
   "source": [
    "import music21\n",
    "from music21 import *\n",
    "from IPython.display import Image, Audio"
   ]
  },
  {
   "cell_type": "code",
   "execution_count": 4,
   "metadata": {},
   "outputs": [
    {
     "data": {
      "text/plain": [
       "[PosixPath('data/composers/notewise/piano_solo/note_range62/sample_freq12/jazz'),\n",
       " PosixPath('data/composers/notewise/piano_solo/note_range62/sample_freq12/ravel'),\n",
       " PosixPath('data/composers/notewise/piano_solo/note_range62/sample_freq12/bach'),\n",
       " PosixPath('data/composers/notewise/piano_solo/note_range62/sample_freq12/schumann'),\n",
       " PosixPath('data/composers/notewise/piano_solo/note_range62/sample_freq12/liszt')]"
      ]
     },
     "execution_count": 4,
     "metadata": {},
     "output_type": "execute_result"
    }
   ],
   "source": [
    "path = Path('data/composers/notewise/piano_solo/note_range62/sample_freq12')\n",
    "path.ls()[:5]"
   ]
  },
  {
   "cell_type": "markdown",
   "metadata": {},
   "source": [
    "https://hpml2018.github.io/HPML2018_1.pdf\n",
    "\n",
    "This paper suggests linear scaling rule does not work with RNNs. 3e-3 seems to be the magical number for 2k-8k\n",
    "\n",
    "However, they didn't use schedule warmup, so I doubt they optimized the learning rate enough"
   ]
  },
  {
   "cell_type": "code",
   "execution_count": 5,
   "metadata": {},
   "outputs": [],
   "source": [
    "bs=512\n",
    "bptt=250"
   ]
  },
  {
   "cell_type": "code",
   "execution_count": 6,
   "metadata": {},
   "outputs": [
    {
     "data": {
      "text/plain": [
       "('xxbos wait25 wait25 wait25 wait25 wait25 wait25 wa',\n",
       " array([  2, 124, 124, 124, ...,   9, 105,   9, 157]))"
      ]
     },
     "execution_count": 6,
     "metadata": {},
     "output_type": "execute_result"
    }
   ],
   "source": [
    "data = TextLMDataBunch.load(path, bs=bs, bptt=bptt)\n",
    "t = data.train_ds[0][0]\n",
    "t.text[:50], t.data"
   ]
  },
  {
   "cell_type": "code",
   "execution_count": 7,
   "metadata": {},
   "outputs": [
    {
     "data": {
      "text/plain": [
       "torch.Size([512, 275])"
      ]
     },
     "execution_count": 7,
     "metadata": {},
     "output_type": "execute_result"
    }
   ],
   "source": [
    "out = data.one_batch(); out[0].shape"
   ]
  },
  {
   "cell_type": "markdown",
   "metadata": {},
   "source": [
    "### Load Learner"
   ]
  },
  {
   "cell_type": "code",
   "execution_count": 8,
   "metadata": {},
   "outputs": [],
   "source": [
    "learn = language_model_learner(data, drop_mult=1, clip=.2, bptt=bptt)"
   ]
  },
  {
   "cell_type": "code",
   "execution_count": 9,
   "metadata": {},
   "outputs": [],
   "source": [
    "# https://devblogs.nvidia.com/mixed-precision-training-deep-neural-networks/ - nvidia used 128 \n",
    "learn = learn.to_fp16()"
   ]
  },
  {
   "cell_type": "code",
   "execution_count": 10,
   "metadata": {},
   "outputs": [],
   "source": [
    "# From old code\n",
    "# learner.reg_fn = partial(seq2seq_reg, alpha=2, beta=1)    # Applying regularization\n",
    "# learner.clip=0.3                                          # Clip the gradients  "
   ]
  },
  {
   "cell_type": "markdown",
   "metadata": {},
   "source": [
    "### Load second run from last notebook"
   ]
  },
  {
   "cell_type": "code",
   "execution_count": 11,
   "metadata": {},
   "outputs": [],
   "source": [
    "learn.load('bs1024_lr6en3_run2');"
   ]
  },
  {
   "cell_type": "markdown",
   "metadata": {},
   "source": [
    "1e-3 diverges first epoch\n",
    "5e-5 also diverges on first epoch"
   ]
  },
  {
   "cell_type": "code",
   "execution_count": 12,
   "metadata": {},
   "outputs": [
    {
     "data": {
      "text/html": [
       "Total time: 4:56:44 <p><table style='width:300px; margin-bottom:10px'>\n",
       "  <tr>\n",
       "    <th>epoch</th>\n",
       "    <th>train_loss</th>\n",
       "    <th>valid_loss</th>\n",
       "    <th>accuracy</th>\n",
       "  </tr>\n",
       "  <tr>\n",
       "    <th>1</th>\n",
       "    <th>0.909951</th>\n",
       "    <th>0.968778</th>\n",
       "    <th>0.712085</th>\n",
       "  </tr>\n",
       "  <tr>\n",
       "    <th>2</th>\n",
       "    <th>0.907246</th>\n",
       "    <th>0.968937</th>\n",
       "    <th>0.712072</th>\n",
       "  </tr>\n",
       "  <tr>\n",
       "    <th>3</th>\n",
       "    <th>0.911594</th>\n",
       "    <th>0.968570</th>\n",
       "    <th>0.712057</th>\n",
       "  </tr>\n",
       "  <tr>\n",
       "    <th>4</th>\n",
       "    <th>0.900045</th>\n",
       "    <th>0.968047</th>\n",
       "    <th>0.712168</th>\n",
       "  </tr>\n",
       "  <tr>\n",
       "    <th>5</th>\n",
       "    <th>0.897034</th>\n",
       "    <th>0.967810</th>\n",
       "    <th>0.712207</th>\n",
       "  </tr>\n",
       "  <tr>\n",
       "    <th>6</th>\n",
       "    <th>0.905886</th>\n",
       "    <th>0.968272</th>\n",
       "    <th>0.712163</th>\n",
       "  </tr>\n",
       "  <tr>\n",
       "    <th>7</th>\n",
       "    <th>0.902153</th>\n",
       "    <th>0.968056</th>\n",
       "    <th>0.712173</th>\n",
       "  </tr>\n",
       "  <tr>\n",
       "    <th>8</th>\n",
       "    <th>0.908315</th>\n",
       "    <th>0.967418</th>\n",
       "    <th>0.712352</th>\n",
       "  </tr>\n",
       "  <tr>\n",
       "    <th>9</th>\n",
       "    <th>0.879908</th>\n",
       "    <th>0.973255</th>\n",
       "    <th>0.711202</th>\n",
       "  </tr>\n",
       "  <tr>\n",
       "    <th>10</th>\n",
       "    <th>0.883573</th>\n",
       "    <th>0.966803</th>\n",
       "    <th>0.712475</th>\n",
       "  </tr>\n",
       "  <tr>\n",
       "    <th>11</th>\n",
       "    <th>0.904808</th>\n",
       "    <th>0.967557</th>\n",
       "    <th>0.712307</th>\n",
       "  </tr>\n",
       "  <tr>\n",
       "    <th>12</th>\n",
       "    <th>nan</th>\n",
       "    <th>nan</th>\n",
       "    <th>0.000000</th>\n",
       "  </tr>\n",
       "</table>\n"
      ],
      "text/plain": [
       "<IPython.core.display.HTML object>"
      ]
     },
     "metadata": {},
     "output_type": "display_data"
    }
   ],
   "source": [
    "learn.unfreeze()\n",
    "learn.fit_one_cycle(12, 1e-6, moms=(0.7,0.5))"
   ]
  },
  {
   "cell_type": "code",
   "execution_count": null,
   "metadata": {},
   "outputs": [],
   "source": [
    "learn.recorder.plot_lr()"
   ]
  },
  {
   "cell_type": "code",
   "execution_count": null,
   "metadata": {},
   "outputs": [],
   "source": [
    "learn.recorder.plot_losses()"
   ]
  },
  {
   "cell_type": "code",
   "execution_count": null,
   "metadata": {
    "scrolled": false
   },
   "outputs": [],
   "source": [
    "learn.save('bs1024_lr1en3_run3_bptt250');"
   ]
  },
  {
   "cell_type": "markdown",
   "metadata": {},
   "source": [
    "## Done"
   ]
  },
  {
   "cell_type": "code",
   "execution_count": 15,
   "metadata": {},
   "outputs": [],
   "source": [
    "out = learn.pred_batch()"
   ]
  },
  {
   "cell_type": "code",
   "execution_count": 16,
   "metadata": {
    "scrolled": true
   },
   "outputs": [
    {
     "data": {
      "text/html": [
       "<table>  <col width='34%'>  <col width='33%'>  <col width='33%'>  <tr>\n",
       "    <th>text</th>\n",
       "    <th>target</th>\n",
       "    <th>pred</th>\n",
       "  </tr>\n",
       "  <tr>\n",
       "    <th>xxbos wait24 p32 wait3 endp32 wait9 p16 p32 wait5 endp16 endp32 wait7 p18 p33 wait5 endp18 endp33 wait7 p20 p35 wait5 endp20 endp35 wait7 p20</th>\n",
       "    <th>wait8 endp20 endp35 wait4 p18 p33 wait5 endp18 endp33 wait19 p15 p30 wait5 endp15 endp30 wait7 p16 p32 wait5 endp16 endp32 wait7 p18 p33 wait5</th>\n",
       "    <th>wait3 endp20 endp35 wait4 p21 p33 wait5 endp18 endp33 wait7 p16 p30 wait8 endp15 endp30 wait7 p16 p32 wait5 endp16 endp32 wait7 p18 p33 wait5</th>\n",
       "  </tr>\n",
       "  <tr>\n",
       "    <th>endp23 endp30 wait1 p9 p11 wait5 endp9 wait1 p4 p7 p11 p16 wait6 p7 p11 p16 wait5 endp7 wait1 p11 p16 p19 wait5 endp16 endp19</th>\n",
       "    <th>p11 p18 p21 wait5 endp18 endp21 wait1 p4 p11 p16 p19 p23 wait5 endp11 endp19 endp23 wait1 p16 endp16 p18 endp18 p21 endp21 wait2 p16</th>\n",
       "    <th>p4 p15 p21 wait5 endp18 endp21 wait1 p11 p11 p16 p19 wait5 wait5 endp4 endp16 endp23 wait1 p4 p21 p18 endp18 p21 endp21 wait3 endp4</th>\n",
       "  </tr>\n",
       "  <tr>\n",
       "    <th>wait5 endp16 wait1 p14 wait5 endp19 wait1 p9 wait5 endp9 wait1 p19 wait5 endp14 wait1 p12 wait5 endp19 wait1 p17 wait5 endp17 wait1 p19 wait5</th>\n",
       "    <th>wait1 p11 wait5 endp19 wait1 p16 wait5 endp16 wait1 p19 wait5 endp11 wait1 p9 wait5 endp19 wait1 p14 wait5 endp14 wait1 p19 wait5 endp9 wait1</th>\n",
       "    <th>endp19 p11 wait5 endp11 wait1 p17 wait5 endp16 wait1 p17 wait5 endp11 endp19 p12 wait5 endp19 wait1 p17 wait5 endp14 wait1 p12 wait5 endp9 wait1</th>\n",
       "  </tr>\n",
       "  <tr>\n",
       "    <th>endp16 endp21 endp28 wait1 p19 p22 p24 wait5 endp19 endp22 wait1 p12 p18 p21 wait2 endp12 endp18 endp21 wait4 p12 p18 p21 wait2 endp12 endp18</th>\n",
       "    <th>wait4 p4 p12 wait2 endp4 endp12 wait4 p33 wait11 endp33 wait1 p18 p21 p24 wait2 endp18 endp21 wait4 p12 p17 p20 wait2 endp12 endp17 endp20</th>\n",
       "    <th>wait4 p12 p12 p19 endp4 endp12 wait4 p4 wait2 endp33 wait1 p12 p21 p24 wait2 endp18 endp21 endp24 p18 p18 wait2 wait2 endp12 endp17 endp20</th>\n",
       "  </tr>\n",
       "  <tr>\n",
       "    <th>endp8 wait1 p10 wait1 p11 wait1 endp10 wait1 endp11 p13 p19 endp19 p31 endp31 wait2 p11 endp13 wait1 p10 wait1 endp11 wait1 endp10 wait1 p8</th>\n",
       "    <th>endp20 p32 endp32 wait2 endp8 wait4 p3 p32 endp32 wait2 endp3 p5 wait1 p7 wait1 endp5 wait1 endp7 wait1 p8 p35 endp35 wait2 endp8 wait1</th>\n",
       "    <th>p32 wait2 endp32 wait2 endp8 wait1 p7 p31 endp32 wait2 endp3 wait1 wait1 p7 wait1 endp5 wait1 endp7 wait1 p8 wait2 wait2 wait2 endp8 wait1</th>\n",
       "  </tr>\n",
       "</table>\n"
      ],
      "text/plain": [
       "<IPython.core.display.HTML object>"
      ]
     },
     "metadata": {},
     "output_type": "display_data"
    }
   ],
   "source": [
    "learn.show_results(rows=5, max_len=25)"
   ]
  },
  {
   "cell_type": "code",
   "execution_count": 40,
   "metadata": {},
   "outputs": [
    {
     "data": {
      "text/plain": [
       "(33,\n",
       " 12,\n",
       " PosixPath('data/composers/notewise/piano_solo/note_range62/sample_freq12/bach/813_5bm2.txt'))"
      ]
     },
     "execution_count": 40,
     "metadata": {},
     "output_type": "execute_result"
    }
   ],
   "source": [
    "idx = 12\n",
    "folder_idx = 2 # 2 = bach\n",
    "seed_len = 250\n",
    "\n",
    "file = path.ls()[folder_idx].ls()[idx]\n",
    "with open(file, 'r') as f:\n",
    "    txt_out = f.read()\n",
    "notes = txt_out.split(' ')\n",
    "seed = ' '.join(notes[:seed_len])\n",
    "\n",
    "note_offset = 45 if 'note_range38' in str(file) else 33\n",
    "sample_freq = 12 if 'sample_freq12' in str(file) else 4\n",
    "\n",
    "note_offset, sample_freq, file"
   ]
  },
  {
   "cell_type": "code",
   "execution_count": 41,
   "metadata": {},
   "outputs": [],
   "source": [
    "pred_out = learn.predict(seed, n_words=500)"
   ]
  },
  {
   "cell_type": "markdown",
   "metadata": {},
   "source": [
    "### Testing"
   ]
  },
  {
   "cell_type": "code",
   "execution_count": null,
   "metadata": {},
   "outputs": [],
   "source": [
    "seed"
   ]
  },
  {
   "cell_type": "code",
   "execution_count": null,
   "metadata": {},
   "outputs": [],
   "source": [
    "pred_only = pred_out.replace(seed, '').strip(); pred_only"
   ]
  },
  {
   "cell_type": "markdown",
   "metadata": {},
   "source": [
    "### Generate from predictions"
   ]
  },
  {
   "cell_type": "code",
   "execution_count": 44,
   "metadata": {},
   "outputs": [],
   "source": [
    "from utils import *"
   ]
  },
  {
   "cell_type": "code",
   "execution_count": 53,
   "metadata": {},
   "outputs": [],
   "source": [
    "pred_format = pred_out.replace('xxbos ', '')"
   ]
  },
  {
   "cell_type": "code",
   "execution_count": 54,
   "metadata": {},
   "outputs": [],
   "source": [
    "note_stream = arrToStreamNotewise(pred_format.split(' '), sample_freq=sample_freq/2, note_offset=45)"
   ]
  },
  {
   "cell_type": "code",
   "execution_count": 55,
   "metadata": {},
   "outputs": [
    {
     "data": {
      "text/plain": [
       "<music21.stream.Stream 0x7f6f1b5b1828>"
      ]
     },
     "execution_count": 55,
     "metadata": {},
     "output_type": "execute_result"
    }
   ],
   "source": [
    "note_stream"
   ]
  },
  {
   "cell_type": "code",
   "execution_count": 56,
   "metadata": {},
   "outputs": [
    {
     "data": {
      "image/png": "[encoded data removed]",
      "text/plain": [
       "<IPython.core.display.Image object>"
      ]
     },
     "execution_count": 56,
     "metadata": {},
     "output_type": "execute_result"
    }
   ],
   "source": [
    "Image(filename=str(note_stream.write('lily.png')))"
   ]
  },
  {
   "cell_type": "code",
   "execution_count": 57,
   "metadata": {},
   "outputs": [
    {
     "data": {
      "text/html": [
       "\n",
       "                <div id='midiPlayerDiv6567'></div>\n",
       "                <link rel=\"stylesheet\" href=\"//cuthbertLab.github.io/music21j/css/m21.css\"\n",
       "                    type=\"text/css\" />\n",
       "                <script>\n",
       "                require.config({\n",
       "                    paths: {'music21': '//cuthbertLab.github.io/music21j/src/music21'}\n",
       "                });\n",
       "                require(['music21'], function() {\n",
       "                               mp = new music21.miditools.MidiPlayer();\n",
       "                               mp.addPlayer('#midiPlayerDiv6567');\n",
       "                               mp.base64Load('data:audio/midi;base64,TVRoZAAAAAYAAQABBABNVHJrAAAHrQD/AwAA4ABAAJBCWgCQXVqIAIBdAACQVVqIAIBCAACAVQAAkE5aAJBdWogAgF0AAJBVWogAgE4AAIBVAACQTFoAkFxaiACAXAAAkFVaiACATAAAgFUAAJBKWgCQWlqIAIBaAACQWFqIAIBYAACQVlqIAIBKAACAVgAAkExaAJBVWogAgEwAAIBVAACQSloAkFNaiACASgAAgFMAAJBJWgCQXVqIAIBJAACAXQAAkEdaAJBcWogAgFwAAJBaWogAgEcAAIBaAACQSVoAkFlaiACAWQAAkFpaiACASQAAkEJaAJBaWoErgFoAhlWAWgAAkFlahACAWQAAkFpahACAQgAAgFoAAJA9WgCQXFqIAIBcAACQWlqIAIA9AACAWgAAkElaAJBcWogAgFwAAJBdWogAgEkAAIBdAACQQVoAkF9aiACAXwAAkFxaiACAQQAAgFwAAJBCWgCQXVqIAIBdAACQVVqIAIBCAACAVQAAkE5aAJBdWogAgF0AAJBVWogAgE4AAIBVAACQTFoAkFxaiACAXAAAkFVaiACATAAAgFUAAJBLWgCQWlqIAIBaAACQVVqIAIBVAACQVFqIAIBLAACAVAAAkElaAJBXWogAgEkAAIBXAACQSFoAkFBaiACASAAAgFAAAJBEWgCQWlqIAIBEAACAWgAAkElaAJBYWpAAgEkAAIBYAACQUFoAkFdaiACAVwAAkFVaiACAUAAAgFUAAJBEWgCQV1qIAIBXAACQVFqIAIBEAACAVAAAkElaAJBVWogAgEkAAJA9WogAgD0AAJBJWogAgEkAAJBHWogAgEcAAJBFWogAgEUAAJBEWogAgFUAAIBEAACQQloAkF1aiACAXQAAkFVaiACAQgAAgFUAAJBOWgCQYVqIAIBhAACQVVqIAIBOAACAVQAAkFBaAJBfWogAgF8AAJBVWogAgFAAAIBVAACQTloAkF1aiACATgAAkEdaiACARwAAkElaiACASQAAkERaiACAXQAAgEQAAJBFWgCQWlqIAIBFAACQQlqIAIBaAACAQgAAkEdaAJBXWpAAgEcAAIBXAACQQloAkFVaiACAVQAAkFNaiACAQgAAgFMAAJBHWgCQWlqIAIBaAACQWFqIAIBHAACAWAAAkDtaAJBXWogAgFcAAJBTWogAgDsAAIBTAACQR1oAkF1akACARwAAgF0AAJBFWgCQV1qIAIBXAACQU1qIAIBFAACAUwAAkERaAJBYWogAgFgAAJBTWogAgEQAAIBTAACQQloAkF1aiACAXQAAkFVaiACAQgAAgFUAAJBBWgCQXFqIAIBcAACQVVqIAIBBAACAVQAAkEJaAJBdWpAAgEIAAJA2WogAgF0AAJBcWogAgDYAAIBcAACQQloAkF1aiACAXQAAkFpaiACAQgAAgFoAAJBEWgCQVVqIAIBVAACQYVqIAIBEAACAYQAAkEVaAJBgWogAgGAAAJBcWogAgEUAAIBcAACQQloAkGFaiACAYQAAkFpaiACAQgAAgFoAAJBEWgCQYFqIAIBgAACQWlqIAIBEAACAWgAAkEhaAJBhWogAgGEAAJBaWogAgEgAAIBaAACQSVoAkFlaiACAWQAAkGFaiACASQAAgGEAAJA9WgCQXFqIAIBcAACQWVqIAIA9AACAWQAAkElaAJBlWogAgGUAAJBcWogAgEkAAIBcAACQTloAkGlaiACAaQAAkGFaiACATgAAgGEAAJBCWgCQaFqIAIBoAACQXVqIAIBCAACAXQAAkElaAJBqWogAgGoAAJBcWogAgEkAAIBcAACQQVoAkGhaiACAaAAAkFxaiACAQQAAgFwAAJBLWgCQZlqIAIBmAACQXVqIAIBLAACAXQAAkExaAJBoWogAgGgAAJBdWogAgEwAAIBdAACQR1oAkGhaiACAaAAAkFxaiACARwAAgFwAAJBIWgCQY1qIAIBjAACQXVqQAIBIAACAXQAAkEdaAJBcWogAgFwAAJBdWogAgEcAAIBdAACQRVoAkGFaiACAYQAAkFpaiACARQAAgFoAAJBEWgCQX1qIAIBfAACQWVqIAIBEAACAWQAAkEVaAJBhWogAgGEAAJBaWogAgEUAAIBaAACQR1oAkGBaiACAYAAAkFlaiACARwAAgFkAAJBIWgCQY1qIAIBjAACQWlqIAIBIAACAWgAAkElaAJBkWogAgGQAAJBaWogAgEkAAIBaAACQSFoAkGNaiACAYwAAkFpaiACASAAAgFoAAJBJWgCQZFqIAIBkAACQWlqIAIBJAACAWgAAkExaAJBmWogAgGYAAJBYWogAgEwAAIBYAACQUFoAkFNaiACAUwAAkFhaiACAUAAAgFgAAJBMWgCQWlqIAIBaAACQXFqIAIBMAACAXAAAkElaAJBRWogAgFEAAJBYWogAgEkAAIBYAACQR1oAkFdaiACAVwAAkFhaiACARwAAgFgAAJBFWgCQWlqIAIBaAACQWFqIAIBFAACAWAAAkEdaAJBXWogAgFcAAJBYWogAgEcAAIBYAACQQFoAkFxaiACAXAAAkFdaiACAQAAAgFcAAJBYWogAgFgAAJBQWogAgFAAAJBCWgCQUVqIAIBRAACQVVqIAIBCAACAVQCIAP8vAA==');\n",
       "                        });\n",
       "                </script>"
      ],
      "text/plain": [
       "<IPython.core.display.HTML object>"
      ]
     },
     "metadata": {},
     "output_type": "display_data"
    }
   ],
   "source": [
    "note_stream.show('midi')"
   ]
  }
 ],
 "metadata": {
  "kernelspec": {
   "display_name": "Python 3",
   "language": "python",
   "name": "python3"
  },
  "language_info": {
   "codemirror_mode": {
    "name": "ipython",
    "version": 3
   },
   "file_extension": ".py",
   "mimetype": "text/x-python",
   "name": "python",
   "nbconvert_exporter": "python",
   "pygments_lexer": "ipython3",
   "version": "3.7.1"
  }
 },
 "nbformat": 4,
 "nbformat_minor": 2
}
