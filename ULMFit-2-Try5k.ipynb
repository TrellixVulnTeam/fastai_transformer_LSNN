{
 "cells": [
  {
   "cell_type": "code",
   "execution_count": 1,
   "metadata": {},
   "outputs": [],
   "source": [
    "%reload_ext autoreload\n",
    "%autoreload 2"
   ]
  },
  {
   "cell_type": "code",
   "execution_count": 2,
   "metadata": {},
   "outputs": [],
   "source": [
    "import sys, os, re, csv, codecs, numpy as np, pandas as pd\n",
    "from fastai import *        # Quick accesss to most common functionality\n",
    "from fastai.text import *   # Quick accesss to NLP functionality\n",
    "import html"
   ]
  },
  {
   "cell_type": "markdown",
   "metadata": {},
   "source": [
    "## Data"
   ]
  },
  {
   "cell_type": "markdown",
   "metadata": {},
   "source": [
    "## Loading data"
   ]
  },
  {
   "cell_type": "code",
   "execution_count": 3,
   "metadata": {},
   "outputs": [],
   "source": [
    "PATH=Path('data/wikitext-2-raw')"
   ]
  },
  {
   "cell_type": "code",
   "execution_count": 4,
   "metadata": {},
   "outputs": [],
   "source": [
    "bs = 64\n",
    "bptt = 70"
   ]
  },
  {
   "cell_type": "code",
   "execution_count": 7,
   "metadata": {},
   "outputs": [],
   "source": [
    "data = TextLMDataBunch.load(PATH, cache_name='tmp_5k', bs=bs, bptt=bptt)"
   ]
  },
  {
   "cell_type": "code",
   "execution_count": 8,
   "metadata": {},
   "outputs": [],
   "source": [
    "learn = language_model_learner(data, clip=0.1)"
   ]
  },
  {
   "cell_type": "code",
   "execution_count": 9,
   "metadata": {},
   "outputs": [],
   "source": [
    "# learn.opt_fn = partial(optim.Adam, betas=(0.8,0.99))\n",
    "# learn.callback_fns.extend([partial(GradientClipping, clip=0.12)])"
   ]
  },
  {
   "cell_type": "code",
   "execution_count": 9,
   "metadata": {},
   "outputs": [],
   "source": [
    "epoch = 28\n",
    "lr = 1e-3\n",
    "momentum = (0.8,0.7)\n",
    "weight_decay = 1.2e-6"
   ]
  },
  {
   "cell_type": "code",
   "execution_count": 8,
   "metadata": {
    "scrolled": true
   },
   "outputs": [
    {
     "data": {
      "text/html": [
       "Total time: 33:02 <p><table style='width:300px; margin-bottom:10px'>\n",
       "  <tr>\n",
       "    <th>epoch</th>\n",
       "    <th>train_loss</th>\n",
       "    <th>valid_loss</th>\n",
       "    <th>accuracy</th>\n",
       "  </tr>\n",
       "  <tr>\n",
       "    <th>1</th>\n",
       "    <th>6.421967</th>\n",
       "    <th>6.109764</th>\n",
       "    <th>0.149672</th>\n",
       "  </tr>\n",
       "  <tr>\n",
       "    <th>2</th>\n",
       "    <th>5.937316</th>\n",
       "    <th>5.650622</th>\n",
       "    <th>0.220175</th>\n",
       "  </tr>\n",
       "  <tr>\n",
       "    <th>3</th>\n",
       "    <th>5.522918</th>\n",
       "    <th>5.253916</th>\n",
       "    <th>0.251723</th>\n",
       "  </tr>\n",
       "  <tr>\n",
       "    <th>4</th>\n",
       "    <th>5.166613</th>\n",
       "    <th>4.922306</th>\n",
       "    <th>0.279012</th>\n",
       "  </tr>\n",
       "  <tr>\n",
       "    <th>5</th>\n",
       "    <th>4.880330</th>\n",
       "    <th>4.675484</th>\n",
       "    <th>0.291750</th>\n",
       "  </tr>\n",
       "  <tr>\n",
       "    <th>6</th>\n",
       "    <th>4.627527</th>\n",
       "    <th>4.491256</th>\n",
       "    <th>0.303821</th>\n",
       "  </tr>\n",
       "  <tr>\n",
       "    <th>7</th>\n",
       "    <th>4.450860</th>\n",
       "    <th>4.346333</th>\n",
       "    <th>0.313467</th>\n",
       "  </tr>\n",
       "  <tr>\n",
       "    <th>8</th>\n",
       "    <th>4.321472</th>\n",
       "    <th>4.237177</th>\n",
       "    <th>0.321057</th>\n",
       "  </tr>\n",
       "  <tr>\n",
       "    <th>9</th>\n",
       "    <th>4.158375</th>\n",
       "    <th>4.171110</th>\n",
       "    <th>0.324715</th>\n",
       "  </tr>\n",
       "  <tr>\n",
       "    <th>10</th>\n",
       "    <th>4.041314</th>\n",
       "    <th>4.115036</th>\n",
       "    <th>0.328819</th>\n",
       "  </tr>\n",
       "  <tr>\n",
       "    <th>11</th>\n",
       "    <th>3.920109</th>\n",
       "    <th>4.081463</th>\n",
       "    <th>0.329220</th>\n",
       "  </tr>\n",
       "  <tr>\n",
       "    <th>12</th>\n",
       "    <th>3.849211</th>\n",
       "    <th>4.052907</th>\n",
       "    <th>0.332261</th>\n",
       "  </tr>\n",
       "  <tr>\n",
       "    <th>13</th>\n",
       "    <th>3.764319</th>\n",
       "    <th>4.035133</th>\n",
       "    <th>0.331444</th>\n",
       "  </tr>\n",
       "  <tr>\n",
       "    <th>14</th>\n",
       "    <th>3.697784</th>\n",
       "    <th>4.022685</th>\n",
       "    <th>0.332450</th>\n",
       "  </tr>\n",
       "  <tr>\n",
       "    <th>15</th>\n",
       "    <th>3.637465</th>\n",
       "    <th>4.012992</th>\n",
       "    <th>0.333393</th>\n",
       "  </tr>\n",
       "  <tr>\n",
       "    <th>16</th>\n",
       "    <th>3.554732</th>\n",
       "    <th>4.013902</th>\n",
       "    <th>0.333666</th>\n",
       "  </tr>\n",
       "  <tr>\n",
       "    <th>17</th>\n",
       "    <th>3.483800</th>\n",
       "    <th>4.014801</th>\n",
       "    <th>0.333812</th>\n",
       "  </tr>\n",
       "  <tr>\n",
       "    <th>18</th>\n",
       "    <th>3.431794</th>\n",
       "    <th>4.020704</th>\n",
       "    <th>0.332298</th>\n",
       "  </tr>\n",
       "  <tr>\n",
       "    <th>19</th>\n",
       "    <th>3.346071</th>\n",
       "    <th>4.024823</th>\n",
       "    <th>0.332513</th>\n",
       "  </tr>\n",
       "  <tr>\n",
       "    <th>20</th>\n",
       "    <th>3.322064</th>\n",
       "    <th>4.025228</th>\n",
       "    <th>0.332385</th>\n",
       "  </tr>\n",
       "  <tr>\n",
       "    <th>21</th>\n",
       "    <th>3.294196</th>\n",
       "    <th>4.026865</th>\n",
       "    <th>0.332814</th>\n",
       "  </tr>\n",
       "  <tr>\n",
       "    <th>22</th>\n",
       "    <th>3.242928</th>\n",
       "    <th>4.030427</th>\n",
       "    <th>0.331828</th>\n",
       "  </tr>\n",
       "  <tr>\n",
       "    <th>23</th>\n",
       "    <th>3.226596</th>\n",
       "    <th>4.035573</th>\n",
       "    <th>0.331575</th>\n",
       "  </tr>\n",
       "  <tr>\n",
       "    <th>24</th>\n",
       "    <th>3.210298</th>\n",
       "    <th>4.034184</th>\n",
       "    <th>0.331541</th>\n",
       "  </tr>\n",
       "  <tr>\n",
       "    <th>25</th>\n",
       "    <th>3.186777</th>\n",
       "    <th>4.039675</th>\n",
       "    <th>0.331167</th>\n",
       "  </tr>\n",
       "  <tr>\n",
       "    <th>26</th>\n",
       "    <th>3.198434</th>\n",
       "    <th>4.043818</th>\n",
       "    <th>0.331123</th>\n",
       "  </tr>\n",
       "  <tr>\n",
       "    <th>27</th>\n",
       "    <th>3.169790</th>\n",
       "    <th>4.042999</th>\n",
       "    <th>0.331397</th>\n",
       "  </tr>\n",
       "  <tr>\n",
       "    <th>28</th>\n",
       "    <th>3.154754</th>\n",
       "    <th>4.043036</th>\n",
       "    <th>0.331194</th>\n",
       "  </tr>\n",
       "</table>\n"
      ],
      "text/plain": [
       "<IPython.core.display.HTML object>"
      ]
     },
     "metadata": {},
     "output_type": "display_data"
    }
   ],
   "source": [
    "learn.fit_one_cycle(epoch, lr, moms=momentum, wd=weight_decay)"
   ]
  },
  {
   "cell_type": "code",
   "execution_count": 10,
   "metadata": {},
   "outputs": [
    {
     "data": {
      "image/png": "[encoded data removed]",
      "text/plain": [
       "<Figure size 432x288 with 1 Axes>"
      ]
     },
     "metadata": {
      "needs_background": "light"
     },
     "output_type": "display_data"
    }
   ],
   "source": [
    "learn.recorder.plot_losses()"
   ]
  },
  {
   "cell_type": "code",
   "execution_count": 11,
   "metadata": {},
   "outputs": [],
   "source": [
    "learn.save('lstm_wt2')"
   ]
  },
  {
   "cell_type": "markdown",
   "metadata": {},
   "source": [
    "### Testing (for fun)"
   ]
  },
  {
   "cell_type": "code",
   "execution_count": 12,
   "metadata": {},
   "outputs": [],
   "source": [
    "learn.load('lstm_wt2'); learn.model.eval();"
   ]
  },
  {
   "cell_type": "code",
   "execution_count": 16,
   "metadata": {},
   "outputs": [],
   "source": [
    "x_str = \"The online encyclopedia project Wikipedia is the most popular wiki-based website, and is\""
   ]
  },
  {
   "cell_type": "code",
   "execution_count": 17,
   "metadata": {},
   "outputs": [],
   "source": [
    "pred_out = learn.predict(x_str, n_words=500)"
   ]
  },
  {
   "cell_type": "code",
   "execution_count": 18,
   "metadata": {},
   "outputs": [
    {
     "data": {
      "text/plain": [
       "'The online encyclopedia project Wikipedia is the most popular wiki-based website, and is placed in 1965 on xxup cbs , xxmaj israel , xxmaj michigan , and xxmaj guatemala . xxbos = = = xxmaj losses = = = xxbos xxmaj the xxmaj assembly xxmaj rooms of the xxmaj state of xxmaj maryland established in the israel being located outside the parish \\'s adjoining mud industry from the summer of 1656 to 1890s . xxmaj their survey novels xxmaj john xxmaj berlin and the local historian xxmaj peter xxmaj baker intracellular offerings in the city \\'s parliament , including the city of xxmaj westminster . xxmaj the xxmaj archaeology of xxmaj fine xxmaj arts and the xxmaj removes xxmaj tooth of the xxmaj old xxmaj king , the xxmaj ancient xxmaj society des xxmaj san xxmaj francisco , who was known as the xxmaj city of xxmaj london , volunteered for legal popularity . xxmaj one collection of constitution speaks of xxmaj oldham , with aim of archaeology , describes its grasp and power to improve the attention of the museum . xxbos = = = xxmaj pursuing xxmaj free xxmaj state = = = xxbos xxmaj the administration moved from the xxmaj post xxmaj office company funds in xxmaj june 1941 to marry the xxmaj incumbent xxmaj department of xxmaj staff is opposed to the constitution . xxmaj the three shop residents often granted money to fund chapters , allowing xxmaj pennsylvania to return to the government chosen for the funds of the program . xxmaj the xxmaj canadian xxmaj red xxmaj cross commented that the xxup missionaries \\'s xxmaj tactics xxmaj bandicoot xxmaj committee would have demanded an entire plotting and stated that the new rights would be responsible for support xxmaj ali xxmaj kusanagi on the campaign . xxmaj the group also stated that \" after we were kusanagi and distract the puppet \" , they could not publish the results by tenths of them . xxmaj to suggest that two deadly patrons had been single to share in the paper number , xxmaj gordon abandoned the idea , deep to the concrete centre , and explained the original was \" kidnapped \" . xxmaj his photograph at the time was well established , and xxmaj weir explained — \" i make a section of my action disadvantages , i endeavor it \\' , largely \" . xxmaj wilde was also signed to present the camp , over which he protected the new - name company \\'s successor xxmaj paul xxmaj romero , who would match the pint quality of a new dissenting wrought critically called \" xxmaj salary xxmaj down \" . xxmaj innis died in recognition of the management \\'s membership , and was a xxup ghq member of the xxmaj 1947 xxmaj cabinet until the 1968 election . xxbos xxmaj named as kitsune , can be described as tend in the ground . xxmaj grade and age of piano stores are mentioned in the expansion of high school - colored bodies , observed , and meaning .'"
      ]
     },
     "execution_count": 18,
     "metadata": {},
     "output_type": "execute_result"
    }
   ],
   "source": [
    "pred_out"
   ]
  }
 ],
 "metadata": {
  "kernelspec": {
   "display_name": "Python 3",
   "language": "python",
   "name": "python3"
  },
  "language_info": {
   "codemirror_mode": {
    "name": "ipython",
    "version": 3
   },
   "file_extension": ".py",
   "mimetype": "text/x-python",
   "name": "python",
   "nbconvert_exporter": "python",
   "pygments_lexer": "ipython3",
   "version": "3.7.1"
  }
 },
 "nbformat": 4,
 "nbformat_minor": 2
}
