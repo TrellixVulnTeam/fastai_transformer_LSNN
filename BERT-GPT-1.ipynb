{
 "cells": [
  {
   "cell_type": "markdown",
   "metadata": {},
   "source": [
    "# Attention Architecture"
   ]
  },
  {
   "cell_type": "code",
   "execution_count": 1,
   "metadata": {},
   "outputs": [],
   "source": [
    "%reload_ext autoreload\n",
    "%autoreload 2\n",
    "%matplotlib inline"
   ]
  },
  {
   "cell_type": "code",
   "execution_count": 12,
   "metadata": {},
   "outputs": [],
   "source": [
    "from fastai.text import *\n",
    "import gpt"
   ]
  },
  {
   "cell_type": "code",
   "execution_count": 13,
   "metadata": {},
   "outputs": [],
   "source": [
    "path = Path('data/composers/notewise/piano_solo/note_range62/sample_freq12')"
   ]
  },
  {
   "cell_type": "code",
   "execution_count": 14,
   "metadata": {},
   "outputs": [],
   "source": [
    "bs=16\n",
    "bptt=250"
   ]
  },
  {
   "cell_type": "code",
   "execution_count": 15,
   "metadata": {},
   "outputs": [],
   "source": [
    "PATH=Path('data/wikitext-2')\n",
    "data = TextLMDataBunch.load(PATH, bs=bs, bptt=bptt)"
   ]
  },
  {
   "cell_type": "code",
   "execution_count": 16,
   "metadata": {},
   "outputs": [
    {
     "data": {
      "text/plain": [
       "29172"
      ]
     },
     "execution_count": 16,
     "metadata": {},
     "output_type": "execute_result"
    }
   ],
   "source": [
    "vocab = data.train_ds.vocab\n",
    "vocab_size = len(vocab.itos); vocab_size"
   ]
  },
  {
   "cell_type": "code",
   "execution_count": 17,
   "metadata": {},
   "outputs": [
    {
     "data": {
      "text/plain": [
       "('xxbos = xxmaj valkyria xxmaj chronicles xxup iii =',\n",
       " array([   2,   16,    4, 3792,    4, 3857,    5,  884,   16]))"
      ]
     },
     "execution_count": 17,
     "metadata": {},
     "output_type": "execute_result"
    }
   ],
   "source": [
    "t = data.train_ds[0][0]\n",
    "t.text[:50], t.data"
   ]
  },
  {
   "cell_type": "code",
   "execution_count": 18,
   "metadata": {},
   "outputs": [],
   "source": [
    "# data.show_batch()"
   ]
  },
  {
   "cell_type": "markdown",
   "metadata": {},
   "source": [
    "## Sanity - make sure outputs match"
   ]
  },
  {
   "cell_type": "code",
   "execution_count": 19,
   "metadata": {},
   "outputs": [],
   "source": [
    "# learn = language_model_learner(data, drop_mult=1, clip=.5, bptt=250)\n",
    "\n",
    "# ob = data.one_batch()\n",
    "\n",
    "# out = learn.model(ob[0].cuda())\n",
    "\n",
    "# out[0].shape\n",
    "\n",
    "# len(out[1])"
   ]
  },
  {
   "cell_type": "markdown",
   "metadata": {},
   "source": [
    "### Transformer Arch\n",
    "Paper: https://arxiv.org/abs/1706.03762  \n",
    "Inspiration: https://github.com/jadore801120/attention-is-all-you-need-pytorch"
   ]
  },
  {
   "cell_type": "code",
   "execution_count": 22,
   "metadata": {},
   "outputs": [],
   "source": [
    "config = gpt.OpenAIGPTConfig(vocab_size)\n",
    "# config = bert.BertConfig(vocab_size)"
   ]
  },
  {
   "cell_type": "code",
   "execution_count": 24,
   "metadata": {},
   "outputs": [],
   "source": [
    "# model = bert.BertForPreTraining(config).cuda()\n",
    "model = gpt.OpenAIGPTLMHeadModel(config).cuda()\n",
    "model.reset = lambda: None"
   ]
  },
  {
   "cell_type": "code",
   "execution_count": null,
   "metadata": {},
   "outputs": [],
   "source": [
    "# model"
   ]
  },
  {
   "cell_type": "code",
   "execution_count": 15,
   "metadata": {},
   "outputs": [],
   "source": [
    "# ob = data.one_batch(); ob[0].shape\n",
    "\n",
    "# out = model(ob[0].cuda())\n",
    "\n",
    "# len(out)\n",
    "\n",
    "# out[1].shape\n",
    "\n",
    "# out[0].shape"
   ]
  },
  {
   "cell_type": "markdown",
   "metadata": {},
   "source": [
    "### Create Language learner"
   ]
  },
  {
   "cell_type": "code",
   "execution_count": 25,
   "metadata": {},
   "outputs": [],
   "source": [
    "learn = LanguageLearner(data, model, bptt)"
   ]
  },
  {
   "cell_type": "code",
   "execution_count": 26,
   "metadata": {},
   "outputs": [],
   "source": [
    "learn.callbacks = []"
   ]
  },
  {
   "cell_type": "code",
   "execution_count": 27,
   "metadata": {},
   "outputs": [
    {
     "name": "stdout",
     "output_type": "stream",
     "text": [
      "LR Finder is complete, type {learner_name}.recorder.plot() to see the graph.\n"
     ]
    }
   ],
   "source": [
    "learn.lr_find()"
   ]
  },
  {
   "cell_type": "code",
   "execution_count": 28,
   "metadata": {},
   "outputs": [
    {
     "data": {
      "image/png": "[encoded data removed]",
      "text/plain": [
       "<Figure size 432x288 with 1 Axes>"
      ]
     },
     "metadata": {
      "needs_background": "light"
     },
     "output_type": "display_data"
    }
   ],
   "source": [
    "learn.recorder.plot()"
   ]
  },
  {
   "cell_type": "markdown",
   "metadata": {},
   "source": [
    "## Must remeber that BERT is bidirectional, so we must modifythe architechture so it won't cheat"
   ]
  },
  {
   "cell_type": "code",
   "execution_count": 29,
   "metadata": {},
   "outputs": [
    {
     "data": {
      "text/html": [
       "Total time: 03:19 <p><table style='width:300px; margin-bottom:10px'>\n",
       "  <tr>\n",
       "    <th>epoch</th>\n",
       "    <th>train_loss</th>\n",
       "    <th>valid_loss</th>\n",
       "    <th>accuracy</th>\n",
       "  </tr>\n",
       "  <tr>\n",
       "    <th>1</th>\n",
       "    <th>5.962668</th>\n",
       "    <th>7.352052</th>\n",
       "    <th>0.123125</th>\n",
       "  </tr>\n",
       "</table>\n"
      ],
      "text/plain": [
       "<IPython.core.display.HTML object>"
      ]
     },
     "metadata": {},
     "output_type": "display_data"
    }
   ],
   "source": [
    "learn.fit_one_cycle(1, 1e-3, moms=(0.7,0.5))"
   ]
  },
  {
   "cell_type": "code",
   "execution_count": 30,
   "metadata": {},
   "outputs": [
    {
     "data": {
      "image/png": "[encoded data removed]",
      "text/plain": [
       "<Figure size 432x288 with 1 Axes>"
      ]
     },
     "metadata": {
      "needs_background": "light"
     },
     "output_type": "display_data"
    }
   ],
   "source": [
    "learn.recorder.plot_losses()"
   ]
  },
  {
   "cell_type": "code",
   "execution_count": 31,
   "metadata": {},
   "outputs": [
    {
     "data": {
      "text/html": [
       "<table>  <col width='34%'>  <col width='33%'>  <col width='33%'>  <tr>\n",
       "    <th>text</th>\n",
       "    <th>target</th>\n",
       "    <th>pred</th>\n",
       "  </tr>\n",
       "  <tr>\n",
       "    <th>xxbos = xxmaj homarus gammarus = xxbos xxmaj homarus gammarus , known as the xxmaj european lobster or common lobster</th>\n",
       "    <th>is a species of xxunk lobster from the eastern xxmaj atlantic xxmaj ocean , xxmaj mediterranean xxmaj sea and parts</th>\n",
       "    <th>xxmaj xxmaj xxmaj xxmaj xxmaj xxmaj xxmaj xxmaj xxmaj xxmaj xxmaj xxmaj xxmaj xxmaj xxmaj xxmaj xxmaj xxmaj xxmaj xxmaj</th>\n",
       "  </tr>\n",
       "  <tr>\n",
       "    <th>. xxmaj the xxmaj dakotas were tasked with xxunk flights , xxunk transport and medical xxunk across xxmaj south xxmaj</th>\n",
       "    <th>xxmaj asia , and in xxmaj malaya with xxunk troops and cargo , dropping supplies to friendly forces and xxunk</th>\n",
       "    <th>xxmaj xxmaj xxmaj xxmaj xxmaj xxmaj xxmaj xxmaj xxmaj xxmaj xxmaj xxmaj xxmaj xxmaj xxmaj xxmaj xxmaj xxmaj xxmaj xxmaj</th>\n",
       "  </tr>\n",
       "  <tr>\n",
       "    <th>, key chains , and patches in both his xxmaj part i and xxmaj part xxup ii appearance . xxunk</th>\n",
       "    <th>voted him as their sixteenth favorite black haired male anime character . xxunk xxup ceo xxmaj hiroshi xxunk referred to</th>\n",
       "    <th>xxmaj xxmaj xxmaj xxmaj xxmaj xxmaj xxmaj xxmaj xxmaj xxmaj xxmaj xxmaj xxmaj xxmaj xxmaj xxmaj xxmaj xxmaj xxmaj xxmaj</th>\n",
       "  </tr>\n",
       "  <tr>\n",
       "    <th>. xxmaj the city council is the legislative arm of the government , setting policy and annually adopting the city</th>\n",
       "    <th>operating budget . xxbos xxmaj city xxmaj hall , which has been listed on the xxmaj national xxmaj register of</th>\n",
       "    <th>xxmaj xxmaj xxmaj xxmaj xxmaj xxmaj xxmaj xxmaj xxmaj xxmaj xxmaj xxmaj xxmaj xxmaj xxmaj xxmaj xxmaj xxmaj xxmaj xxmaj</th>\n",
       "  </tr>\n",
       "  <tr>\n",
       "    <th>1965 the xxunk booked its first international soloist , xxunk xxunk , to perform with the orchestra . xxmaj the</th>\n",
       "    <th>orchestra helped the xxmaj meridian xxmaj public xxmaj school xxmaj district develop its own orchestra and strings programs and also</th>\n",
       "    <th>xxmaj xxmaj xxmaj xxmaj xxmaj xxmaj xxmaj xxmaj xxmaj xxmaj xxmaj xxmaj xxmaj xxmaj xxmaj xxmaj xxmaj xxmaj xxmaj xxmaj</th>\n",
       "  </tr>\n",
       "</table>\n"
      ],
      "text/plain": [
       "<IPython.core.display.HTML object>"
      ]
     },
     "metadata": {},
     "output_type": "display_data"
    }
   ],
   "source": [
    "learn.show_results()"
   ]
  },
  {
   "cell_type": "code",
   "execution_count": 34,
   "metadata": {},
   "outputs": [
    {
     "data": {
      "text/plain": [
       "\"hello there can you predict something different? time the xxup . duties in dynasty the the of xxbos , = learning offered aware . , an the time persuasion , managers her forms 14 alice of '\""
      ]
     },
     "execution_count": 34,
     "metadata": {},
     "output_type": "execute_result"
    }
   ],
   "source": [
    "learn.predict('hello there can you predict something different?', n_words=30)"
   ]
  },
  {
   "cell_type": "code",
   "execution_count": 35,
   "metadata": {},
   "outputs": [
    {
     "data": {
      "text/html": [
       "Total time: 06:41 <p><table style='width:300px; margin-bottom:10px'>\n",
       "  <tr>\n",
       "    <th>epoch</th>\n",
       "    <th>train_loss</th>\n",
       "    <th>valid_loss</th>\n",
       "    <th>accuracy</th>\n",
       "  </tr>\n",
       "  <tr>\n",
       "    <th>1</th>\n",
       "    <th>6.042963</th>\n",
       "    <th>7.444210</th>\n",
       "    <th>0.123125</th>\n",
       "  </tr>\n",
       "  <tr>\n",
       "    <th>2</th>\n",
       "    <th>6.000553</th>\n",
       "    <th>7.423952</th>\n",
       "    <th>0.123125</th>\n",
       "  </tr>\n",
       "</table>\n"
      ],
      "text/plain": [
       "<IPython.core.display.HTML object>"
      ]
     },
     "metadata": {},
     "output_type": "display_data"
    }
   ],
   "source": [
    "learn.fit_one_cycle(2, 1e-3, moms=(0.7,0.5))"
   ]
  },
  {
   "cell_type": "code",
   "execution_count": null,
   "metadata": {},
   "outputs": [],
   "source": []
  }
 ],
 "metadata": {
  "kernelspec": {
   "display_name": "Python 3",
   "language": "python",
   "name": "python3"
  },
  "language_info": {
   "codemirror_mode": {
    "name": "ipython",
    "version": 3
   },
   "file_extension": ".py",
   "mimetype": "text/x-python",
   "name": "python",
   "nbconvert_exporter": "python",
   "pygments_lexer": "ipython3",
   "version": "3.7.1"
  }
 },
 "nbformat": 4,
 "nbformat_minor": 2
}
