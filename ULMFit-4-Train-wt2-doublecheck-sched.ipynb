{
 "cells": [
  {
   "cell_type": "code",
   "execution_count": 1,
   "metadata": {},
   "outputs": [],
   "source": [
    "%reload_ext autoreload\n",
    "%autoreload 2"
   ]
  },
  {
   "cell_type": "code",
   "execution_count": 2,
   "metadata": {},
   "outputs": [],
   "source": [
    "import sys, os, re, csv, codecs, numpy as np, pandas as pd\n",
    "from fastai import *        # Quick accesss to most common functionality\n",
    "from fastai.text import *   # Quick accesss to NLP functionality\n",
    "import html"
   ]
  },
  {
   "cell_type": "markdown",
   "metadata": {},
   "source": [
    "## Data"
   ]
  },
  {
   "cell_type": "markdown",
   "metadata": {},
   "source": [
    "## Loading data"
   ]
  },
  {
   "cell_type": "code",
   "execution_count": 3,
   "metadata": {},
   "outputs": [],
   "source": [
    "PATH=Path('data/wikitext-2')"
   ]
  },
  {
   "cell_type": "code",
   "execution_count": 4,
   "metadata": {},
   "outputs": [],
   "source": [
    "bs = 64\n",
    "bptt = 70"
   ]
  },
  {
   "cell_type": "code",
   "execution_count": 5,
   "metadata": {},
   "outputs": [],
   "source": [
    "data = TextLMDataBunch.load(PATH, bs=bs, bptt=bptt)"
   ]
  },
  {
   "cell_type": "code",
   "execution_count": 6,
   "metadata": {},
   "outputs": [],
   "source": [
    "learn = language_model_learner(data, clip=0.2)"
   ]
  },
  {
   "cell_type": "code",
   "execution_count": 7,
   "metadata": {},
   "outputs": [],
   "source": [
    "# learn.opt_fn = partial(optim.Adam, betas=(0.8,0.99))\n",
    "# learn.callback_fns.extend([partial(GradientClipping, clip=0.12)])"
   ]
  },
  {
   "cell_type": "code",
   "execution_count": 8,
   "metadata": {},
   "outputs": [],
   "source": [
    "epoch = 12\n",
    "lr = 1e-3\n",
    "momentum = (0.8,0.7)\n",
    "weight_decay = 1.2e-6"
   ]
  },
  {
   "cell_type": "code",
   "execution_count": 9,
   "metadata": {
    "scrolled": true
   },
   "outputs": [
    {
     "data": {
      "text/html": [
       "Total time: 12:59 <p><table style='width:300px; margin-bottom:10px'>\n",
       "  <tr>\n",
       "    <th>epoch</th>\n",
       "    <th>train_loss</th>\n",
       "    <th>valid_loss</th>\n",
       "    <th>accuracy</th>\n",
       "  </tr>\n",
       "  <tr>\n",
       "    <th>1</th>\n",
       "    <th>6.199828</th>\n",
       "    <th>5.967162</th>\n",
       "    <th>0.140672</th>\n",
       "  </tr>\n",
       "  <tr>\n",
       "    <th>2</th>\n",
       "    <th>5.515712</th>\n",
       "    <th>5.262963</th>\n",
       "    <th>0.222789</th>\n",
       "  </tr>\n",
       "  <tr>\n",
       "    <th>3</th>\n",
       "    <th>4.974468</th>\n",
       "    <th>4.794185</th>\n",
       "    <th>0.260039</th>\n",
       "  </tr>\n",
       "  <tr>\n",
       "    <th>4</th>\n",
       "    <th>4.648257</th>\n",
       "    <th>4.537056</th>\n",
       "    <th>0.275171</th>\n",
       "  </tr>\n",
       "  <tr>\n",
       "    <th>5</th>\n",
       "    <th>4.421614</th>\n",
       "    <th>4.382807</th>\n",
       "    <th>0.286537</th>\n",
       "  </tr>\n",
       "  <tr>\n",
       "    <th>6</th>\n",
       "    <th>4.255236</th>\n",
       "    <th>4.282856</th>\n",
       "    <th>0.292490</th>\n",
       "  </tr>\n",
       "  <tr>\n",
       "    <th>7</th>\n",
       "    <th>4.132721</th>\n",
       "    <th>4.214992</th>\n",
       "    <th>0.297936</th>\n",
       "  </tr>\n",
       "  <tr>\n",
       "    <th>8</th>\n",
       "    <th>4.008338</th>\n",
       "    <th>4.178071</th>\n",
       "    <th>0.300871</th>\n",
       "  </tr>\n",
       "  <tr>\n",
       "    <th>9</th>\n",
       "    <th>3.945325</th>\n",
       "    <th>4.154649</th>\n",
       "    <th>0.302996</th>\n",
       "  </tr>\n",
       "  <tr>\n",
       "    <th>10</th>\n",
       "    <th>3.881678</th>\n",
       "    <th>4.144205</th>\n",
       "    <th>0.304584</th>\n",
       "  </tr>\n",
       "  <tr>\n",
       "    <th>11</th>\n",
       "    <th>3.826638</th>\n",
       "    <th>4.144291</th>\n",
       "    <th>0.304059</th>\n",
       "  </tr>\n",
       "  <tr>\n",
       "    <th>12</th>\n",
       "    <th>3.812235</th>\n",
       "    <th>4.139431</th>\n",
       "    <th>0.304812</th>\n",
       "  </tr>\n",
       "</table>\n"
      ],
      "text/plain": [
       "<IPython.core.display.HTML object>"
      ]
     },
     "metadata": {},
     "output_type": "display_data"
    }
   ],
   "source": [
    "learn.fit_one_cycle(epoch, lr, moms=momentum, wd=weight_decay)"
   ]
  },
  {
   "cell_type": "code",
   "execution_count": 10,
   "metadata": {},
   "outputs": [
    {
     "data": {
      "image/png": "[encoded data removed]",
      "text/plain": [
       "<Figure size 432x288 with 1 Axes>"
      ]
     },
     "metadata": {
      "needs_background": "light"
     },
     "output_type": "display_data"
    }
   ],
   "source": [
    "learn.recorder.plot_losses()"
   ]
  },
  {
   "cell_type": "code",
   "execution_count": 11,
   "metadata": {},
   "outputs": [],
   "source": [
    "learn.save('lstm_wt2')"
   ]
  },
  {
   "cell_type": "markdown",
   "metadata": {},
   "source": [
    "### Testing (for fun)"
   ]
  },
  {
   "cell_type": "code",
   "execution_count": 9,
   "metadata": {},
   "outputs": [],
   "source": [
    "learn.load('lstm_wt2'); learn.model.eval();"
   ]
  },
  {
   "cell_type": "code",
   "execution_count": 10,
   "metadata": {},
   "outputs": [
    {
     "data": {
      "text/html": [
       "<table>  <col width='34%'>  <col width='33%'>  <col width='33%'>  <tr>\n",
       "    <th>text</th>\n",
       "    <th>target</th>\n",
       "    <th>pred</th>\n",
       "  </tr>\n",
       "  <tr>\n",
       "    <th>xxbos = xxmaj homarus gammarus = xxbos xxmaj homarus gammarus , known as the xxmaj european lobster or common lobster</th>\n",
       "    <th>is a species of xxunk lobster from the eastern xxmaj atlantic xxmaj ocean , xxmaj mediterranean xxmaj sea and parts</th>\n",
       "    <th>is a species of xxunk , , the xxmaj xxmaj pacific xxmaj ocean . and north xxmaj ocean , xxmaj</th>\n",
       "  </tr>\n",
       "  <tr>\n",
       "    <th>. xxmaj the xxmaj dakotas were tasked with xxunk flights , xxunk transport and medical xxunk across xxmaj south xxmaj</th>\n",
       "    <th>xxmaj asia , and in xxmaj malaya with xxunk troops and cargo , dropping supplies to friendly forces and xxunk</th>\n",
       "    <th>xxmaj wales . and the xxmaj january , the and , xxunk . and the and the them . xxunk</th>\n",
       "  </tr>\n",
       "  <tr>\n",
       "    <th>, key chains , and patches in both his xxmaj part i and xxmaj part xxup ii appearance . xxunk</th>\n",
       "    <th>voted him as their sixteenth favorite black haired male anime character . xxunk xxup ceo xxmaj hiroshi xxunk referred to</th>\n",
       "    <th>are to the the best - in - , school . . xxmaj , tv xxmaj david xxunk , to</th>\n",
       "  </tr>\n",
       "  <tr>\n",
       "    <th>. xxmaj the city council is the legislative arm of the government , setting policy and annually adopting the city</th>\n",
       "    <th>operating budget . xxbos xxmaj city xxmaj hall , which has been listed on the xxmaj national xxmaj register of</th>\n",
       "    <th>government community . xxmaj xxmaj the xxmaj route 's xxmaj is been a in the xxmaj national xxmaj register of</th>\n",
       "  </tr>\n",
       "  <tr>\n",
       "    <th>1965 the xxunk booked its first international soloist , xxunk xxunk , to perform with the orchestra . xxmaj the</th>\n",
       "    <th>orchestra helped the xxmaj meridian xxmaj public xxmaj school xxmaj district develop its own orchestra and strings programs and also</th>\n",
       "    <th>new of to film university xxmaj theatre xxmaj company to company to the own xxmaj , was . . the</th>\n",
       "  </tr>\n",
       "</table>\n"
      ],
      "text/plain": [
       "<IPython.core.display.HTML object>"
      ]
     },
     "metadata": {},
     "output_type": "display_data"
    }
   ],
   "source": [
    "learn.show_results()"
   ]
  },
  {
   "cell_type": "code",
   "execution_count": 13,
   "metadata": {},
   "outputs": [],
   "source": [
    "x_str = \"The online encyclopedia project Wikipedia is the most popular wiki-based website, and is\""
   ]
  },
  {
   "cell_type": "code",
   "execution_count": 14,
   "metadata": {},
   "outputs": [],
   "source": [
    "pred_out = learn.predict(x_str, n_words=500)"
   ]
  },
  {
   "cell_type": "code",
   "execution_count": 15,
   "metadata": {},
   "outputs": [
    {
     "data": {
      "text/plain": [
       "'The online encyclopedia project Wikipedia is the most popular wiki-based website, and is similar to xxup apf \\'s best piano television series . xxbos xxmaj sarnia is located over commencement of the xxmaj ganges . xxmaj there is xxmaj oldham xxmaj isesi and exist coastal construction in the xxmaj everglades . xxmaj the xxmaj canterbury xxmaj foundation is one of the most popular factions in the building . xxbos xxmaj next to the penetrate activity \" xxmaj iron xxmaj dog \" sarcophagus was assembled in the 21st century by xxmaj emperor xxmaj kung xxmaj kama for xxmaj hollinwood and a handful of names as well . xxmaj the iowa chapter , which demonstrates the alien circle of xxmaj fort xxmaj francisco , grew more significantly . xxmaj eventually , a short supply than a blood shell and a number of were bounded . xxmaj the criticized patronage of the xxmaj saint xxmaj denis \\' shrine , xxmaj eshmun and xxmaj sidonian language were not shown . xxmaj whereas the name ridiculed by the cathedral had a smaller population of trees , it either stopped daniel . xxmaj it scientists chevalier the provision by particular the effort of crossing maryang xxmaj china and its anti - projects , and envisaged it as a passenger for xxmaj general xxmaj general . xxmaj not after the hearing of the xxmaj persian retirement , xxmaj french settlers were coming out of heat to help stabilize the threatening boat . xxbos xxmaj following the fighting , xxmaj maeda was offered the name \" full - quality \" where he emitted this title . xxmaj no . 12 xxmaj squadron was one of the previous newly captured duties affected by the diction of the villa to draw 100 them north of xxmaj port xxmaj moresby . xxbos xxmaj nerys xxmaj tjoa as xxmaj jack xxmaj gives xxmaj no . 64 ( xxmaj alien xxmaj inlet ) – fauna xxmaj latin xxmaj emmanuel xxmaj university xxbos xxmaj during its winter , a contemporary storm was transferred for the xxmaj hill to a regional base in xxmaj puerto xxmaj rico . xxmaj the city has eight buildings , which provides studios and buildings . xxmaj small buildings also gain major industries . xxmaj the current road is discontinued , with the xxup us xxmaj forest xxmaj service near xxup ny 368 golf . xxmaj route 2 lincoln was places for a period of long market , and the route was established in 1995 . xxbos xxmaj the xxmaj culinary xxmaj tradition of xxmaj arts ( xxmaj chicago ) was screened by the idiosyncrasies of xxmaj victorian law and advertising ; it was chosen for bid plans and claims as part of the main stock paintings . xxmaj in 1975 the xxmaj chairman of xxmaj college xxup innovations , intended to provide various players and honor families , lost a economic woman in order to attract the grounds of what was made for xxmaj plensa . xxmaj the personnel from the xxmaj united xxmaj states were launched at a major xxmaj british'"
      ]
     },
     "execution_count": 15,
     "metadata": {},
     "output_type": "execute_result"
    }
   ],
   "source": [
    "pred_out"
   ]
  },
  {
   "cell_type": "code",
   "execution_count": null,
   "metadata": {},
   "outputs": [],
   "source": []
  }
 ],
 "metadata": {
  "kernelspec": {
   "display_name": "Python 3",
   "language": "python",
   "name": "python3"
  },
  "language_info": {
   "codemirror_mode": {
    "name": "ipython",
    "version": 3
   },
   "file_extension": ".py",
   "mimetype": "text/x-python",
   "name": "python",
   "nbconvert_exporter": "python",
   "pygments_lexer": "ipython3",
   "version": "3.7.1"
  }
 },
 "nbformat": 4,
 "nbformat_minor": 2
}
