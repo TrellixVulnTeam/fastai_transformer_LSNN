{
 "cells": [
  {
   "cell_type": "code",
   "execution_count": 1,
   "metadata": {},
   "outputs": [],
   "source": [
    "%reload_ext autoreload\n",
    "%autoreload 2"
   ]
  },
  {
   "cell_type": "code",
   "execution_count": 2,
   "metadata": {},
   "outputs": [],
   "source": [
    "import sys, os, re, csv, codecs, numpy as np, pandas as pd\n",
    "from fastai import *        # Quick accesss to most common functionality\n",
    "from fastai.text import *   # Quick accesss to NLP functionality\n",
    "import html"
   ]
  },
  {
   "cell_type": "markdown",
   "metadata": {},
   "source": [
    "## Data"
   ]
  },
  {
   "cell_type": "markdown",
   "metadata": {},
   "source": [
    "## Loading data"
   ]
  },
  {
   "cell_type": "code",
   "execution_count": 3,
   "metadata": {},
   "outputs": [],
   "source": [
    "PATH=Path('data/wikitext-2')"
   ]
  },
  {
   "cell_type": "code",
   "execution_count": 4,
   "metadata": {},
   "outputs": [],
   "source": [
    "bs = 64\n",
    "bptt = 70"
   ]
  },
  {
   "cell_type": "code",
   "execution_count": 5,
   "metadata": {},
   "outputs": [],
   "source": [
    "data = TextLMDataBunch.load(PATH, bs=bs, bptt=bptt)"
   ]
  },
  {
   "cell_type": "code",
   "execution_count": 6,
   "metadata": {},
   "outputs": [],
   "source": [
    "learn = language_model_learner(data, clip=0.2)"
   ]
  },
  {
   "cell_type": "code",
   "execution_count": 6,
   "metadata": {},
   "outputs": [],
   "source": [
    "# learn.opt_fn = partial(optim.Adam, betas=(0.8,0.99))\n",
    "# learn.callback_fns.extend([partial(GradientClipping, clip=0.12)])"
   ]
  },
  {
   "cell_type": "code",
   "execution_count": 7,
   "metadata": {},
   "outputs": [],
   "source": [
    "epoch = 12\n",
    "lr = 1e-3\n",
    "momentum = (0.8,0.7)\n",
    "weight_decay = 1.2e-6"
   ]
  },
  {
   "cell_type": "code",
   "execution_count": 8,
   "metadata": {
    "scrolled": true
   },
   "outputs": [
    {
     "data": {
      "text/html": [
       "Total time: 48:20 <p><table style='width:300px; margin-bottom:10px'>\n",
       "  <tr>\n",
       "    <th>epoch</th>\n",
       "    <th>train_loss</th>\n",
       "    <th>valid_loss</th>\n",
       "    <th>accuracy</th>\n",
       "  </tr>\n",
       "  <tr>\n",
       "    <th>1</th>\n",
       "    <th>1.659695</th>\n",
       "    <th>1.592150</th>\n",
       "    <th>0.769428</th>\n",
       "  </tr>\n",
       "  <tr>\n",
       "    <th>2</th>\n",
       "    <th>1.450114</th>\n",
       "    <th>1.391702</th>\n",
       "    <th>0.789441</th>\n",
       "  </tr>\n",
       "  <tr>\n",
       "    <th>3</th>\n",
       "    <th>1.345355</th>\n",
       "    <th>1.301409</th>\n",
       "    <th>0.794150</th>\n",
       "  </tr>\n",
       "  <tr>\n",
       "    <th>4</th>\n",
       "    <th>1.277250</th>\n",
       "    <th>1.242548</th>\n",
       "    <th>0.799336</th>\n",
       "  </tr>\n",
       "  <tr>\n",
       "    <th>5</th>\n",
       "    <th>1.221575</th>\n",
       "    <th>1.203269</th>\n",
       "    <th>0.802358</th>\n",
       "  </tr>\n",
       "  <tr>\n",
       "    <th>6</th>\n",
       "    <th>1.190979</th>\n",
       "    <th>1.181212</th>\n",
       "    <th>0.804040</th>\n",
       "  </tr>\n",
       "  <tr>\n",
       "    <th>7</th>\n",
       "    <th>1.163385</th>\n",
       "    <th>1.165855</th>\n",
       "    <th>0.805572</th>\n",
       "  </tr>\n",
       "  <tr>\n",
       "    <th>8</th>\n",
       "    <th>1.137971</th>\n",
       "    <th>1.153507</th>\n",
       "    <th>0.806700</th>\n",
       "  </tr>\n",
       "  <tr>\n",
       "    <th>9</th>\n",
       "    <th>1.109951</th>\n",
       "    <th>1.147346</th>\n",
       "    <th>0.807369</th>\n",
       "  </tr>\n",
       "  <tr>\n",
       "    <th>10</th>\n",
       "    <th>1.097416</th>\n",
       "    <th>1.142556</th>\n",
       "    <th>0.807870</th>\n",
       "  </tr>\n",
       "  <tr>\n",
       "    <th>11</th>\n",
       "    <th>1.079160</th>\n",
       "    <th>1.140919</th>\n",
       "    <th>0.808077</th>\n",
       "  </tr>\n",
       "  <tr>\n",
       "    <th>12</th>\n",
       "    <th>1.081306</th>\n",
       "    <th>1.142835</th>\n",
       "    <th>0.807990</th>\n",
       "  </tr>\n",
       "</table>\n"
      ],
      "text/plain": [
       "<IPython.core.display.HTML object>"
      ]
     },
     "metadata": {},
     "output_type": "display_data"
    }
   ],
   "source": [
    "learn.fit_one_cycle(epoch, lr, moms=momentum, wd=weight_decay)"
   ]
  },
  {
   "cell_type": "code",
   "execution_count": 9,
   "metadata": {},
   "outputs": [
    {
     "data": {
      "image/png": "[encoded data removed]",
      "text/plain": [
       "<Figure size 432x288 with 1 Axes>"
      ]
     },
     "metadata": {
      "needs_background": "light"
     },
     "output_type": "display_data"
    }
   ],
   "source": [
    "learn.recorder.plot_losses()"
   ]
  },
  {
   "cell_type": "code",
   "execution_count": 10,
   "metadata": {},
   "outputs": [],
   "source": [
    "learn.save('lstm_wt2')"
   ]
  },
  {
   "cell_type": "markdown",
   "metadata": {},
   "source": [
    "### Testing (for fun)"
   ]
  },
  {
   "cell_type": "code",
   "execution_count": 11,
   "metadata": {},
   "outputs": [],
   "source": [
    "learn.load('lstm_wt2'); learn.model.eval();"
   ]
  },
  {
   "cell_type": "code",
   "execution_count": 12,
   "metadata": {},
   "outputs": [],
   "source": [
    "x_str = \"The online encyclopedia project Wikipedia is the most popular wiki-based website, and is\""
   ]
  },
  {
   "cell_type": "code",
   "execution_count": 13,
   "metadata": {},
   "outputs": [],
   "source": [
    "pred_out = learn.predict(x_str, n_words=500)"
   ]
  },
  {
   "cell_type": "code",
   "execution_count": 14,
   "metadata": {},
   "outputs": [
    {
     "data": {
      "text/plain": [
       "'The online encyclopedia project Wikipedia is the most popular wiki-based website, and is \\' , \\' especially \\' , \\' abusive \\' , \\' and \\' , \\' often \\' , \\' usually \\' , \\' cabaret \\' , \\' . \\' , \\' xxmaj in \\' , \\' a \\' , \\' larger \\' , \\' range \\' , \\' , \\' , \\' there \\' , \\' are \\' , \\' overwhelming \\' , \\' retro \\' , \\' october \\' , \\' for \\' , \\' management \\' , \\' : \\' , \\' if \\' , \\' not \\' , \\' xxmaj fe \\' , \\' does \\' , \\' not \\' , \\' originally \\' , \\' be \\' , \\' distinguished \\' , \\' , \\' , \\' it \\' , \\' is \\' , \\' not \\' , \\' unusual \\' , \\' for \\' , \\' this \\' , \\' species \\' , \\' . \\' ] xxbos [ \\' xxmaj in \\' , \\' addition \\' , \\' to \\' , \\' thousands \\' , \\' as \\' , \\' of \\' , \\' 2006 \\' , \\' the \\' , \\' city \\' , \\' was \\' , \\' the \\' , \\' most \\' , \\' important \\' , \\' test \\' , \\' to \\' , \\' the \\' , \\' xxmaj united \\' , \\' xxmaj states \\' , \\' , \\' , \\' but \\' , \\' no \\' , \\' part \\' , \\' ( \\' , \\' the \\' , \\' party \\' , \\' @-@ \\' , \\' an \\' , \\' abstract \\' , \\' gas \\' , \\' hospital \\' , \\' ) \\' , \\' was \\' , \\' struck \\' , \\' in \\' , \\' the \\' , \\' states \\' , \\' . \\' , \\' xxmaj the \\' , \\' xxmaj social \\' , \\' xxmaj data \\' , \\' xxmaj service \\' , \\' ( \\' , \\' xxup cleverly \\' , \\' specializing \\' , \\' also \\' , \\' grew \\' , \\' only \\' , \\' approximately \\' , \\' 40 \\' , \\' % \\' , \\' of \\' , \\' xxmaj portugal \\' , \" \\'s \" , \\' population \\' , \\' of \\' , \\' 13 \\' , \\' @.@ \\' , \\' xxmaj this \\' , \\' excavation \\' , \\' was \\' , \\' restored \\' , \\' to \\' , \\' the \\' , \\' xxmaj allowing \\' , \\' to \\' , \\' bring \\' , \\' side \\' , \\' multiple \\' , \\' shipping \\' , \\' in \\' , \\' caretaker \\' , \\' @-@ \\' , \\' by \\' , \\' conjunction \\' , \\' with \\' , \\' jan \\' , \\' decisively \\' , \\' reduced \\' , \\' spaces \\' , \\' — \\' , \\' not \\' , \\' scotland \\' , \\' ( \\' , \\' in \\''"
      ]
     },
     "execution_count": 14,
     "metadata": {},
     "output_type": "execute_result"
    }
   ],
   "source": [
    "pred_out"
   ]
  },
  {
   "cell_type": "code",
   "execution_count": null,
   "metadata": {},
   "outputs": [],
   "source": []
  }
 ],
 "metadata": {
  "kernelspec": {
   "display_name": "Python 3",
   "language": "python",
   "name": "python3"
  },
  "language_info": {
   "codemirror_mode": {
    "name": "ipython",
    "version": 3
   },
   "file_extension": ".py",
   "mimetype": "text/x-python",
   "name": "python",
   "nbconvert_exporter": "python",
   "pygments_lexer": "ipython3",
   "version": "3.7.1"
  }
 },
 "nbformat": 4,
 "nbformat_minor": 2
}
