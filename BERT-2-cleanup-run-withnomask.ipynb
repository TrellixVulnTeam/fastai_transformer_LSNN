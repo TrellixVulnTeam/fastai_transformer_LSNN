{
 "cells": [
  {
   "cell_type": "markdown",
   "metadata": {},
   "source": [
    "# Attention Architecture"
   ]
  },
  {
   "cell_type": "code",
   "execution_count": 1,
   "metadata": {},
   "outputs": [],
   "source": [
    "%reload_ext autoreload\n",
    "%autoreload 2\n",
    "%matplotlib inline"
   ]
  },
  {
   "cell_type": "code",
   "execution_count": 2,
   "metadata": {},
   "outputs": [
    {
     "name": "stdout",
     "output_type": "stream",
     "text": [
      "Warning:  apex was installed without --cpp_ext.  Falling back to Python flatten and unflatten.\n",
      "Warning:  apex was installed without --cuda_ext. Fused syncbn kernels will be unavailable.  Python fallbacks will be used instead.\n",
      "Warning:  apex was installed without --cuda_ext.  FusedAdam will be unavailable.\n",
      "Warning:  apex was installed without --cuda_ext.  FusedLayerNorm will be unavailable.\n",
      "Better speed can be achieved with apex installed from https://www.github.com/nvidia/apex.\n"
     ]
    }
   ],
   "source": [
    "from fastai.text import *\n",
    "import bert"
   ]
  },
  {
   "cell_type": "code",
   "execution_count": 3,
   "metadata": {},
   "outputs": [],
   "source": [
    "path = Path('data/composers/notewise/piano_solo/note_range62/sample_freq12')"
   ]
  },
  {
   "cell_type": "code",
   "execution_count": 4,
   "metadata": {},
   "outputs": [],
   "source": [
    "bs=16\n",
    "bptt=250"
   ]
  },
  {
   "cell_type": "code",
   "execution_count": 5,
   "metadata": {},
   "outputs": [],
   "source": [
    "data = TextLMDataBunch.load(path, bs=bs, bptt=bptt)"
   ]
  },
  {
   "cell_type": "code",
   "execution_count": 6,
   "metadata": {},
   "outputs": [
    {
     "data": {
      "text/plain": [
       "158"
      ]
     },
     "execution_count": 6,
     "metadata": {},
     "output_type": "execute_result"
    }
   ],
   "source": [
    "vocab = data.train_ds.vocab\n",
    "vocab_size = len(vocab.itos); vocab_size"
   ]
  },
  {
   "cell_type": "code",
   "execution_count": 13,
   "metadata": {},
   "outputs": [
    {
     "data": {
      "text/plain": [
       "('xxbos wait25 wait25 wait25 wait25 wait25 wait25 wa',\n",
       " array([  2, 124, 124, 124, ...,   9, 105,   9, 157]))"
      ]
     },
     "execution_count": 13,
     "metadata": {},
     "output_type": "execute_result"
    }
   ],
   "source": [
    "t = data.train_ds[0][0]\n",
    "t.text[:50], t.data"
   ]
  },
  {
   "cell_type": "code",
   "execution_count": null,
   "metadata": {},
   "outputs": [],
   "source": [
    "# data.show_batch()"
   ]
  },
  {
   "cell_type": "markdown",
   "metadata": {},
   "source": [
    "## Sanity - make sure outputs match"
   ]
  },
  {
   "cell_type": "code",
   "execution_count": 7,
   "metadata": {},
   "outputs": [],
   "source": [
    "# learn = language_model_learner(data, drop_mult=1, clip=.5, bptt=250)\n",
    "\n",
    "# ob = data.one_batch()\n",
    "\n",
    "# out = learn.model(ob[0].cuda())\n",
    "\n",
    "# out[0].shape\n",
    "\n",
    "# len(out[1])"
   ]
  },
  {
   "cell_type": "markdown",
   "metadata": {},
   "source": [
    "### Transformer Arch\n",
    "Paper: https://arxiv.org/abs/1706.03762  \n",
    "Inspiration: https://github.com/jadore801120/attention-is-all-you-need-pytorch"
   ]
  },
  {
   "cell_type": "code",
   "execution_count": 8,
   "metadata": {},
   "outputs": [],
   "source": [
    "config = bert.BertConfig(vocab_size)"
   ]
  },
  {
   "cell_type": "code",
   "execution_count": 9,
   "metadata": {},
   "outputs": [],
   "source": [
    "model = bert.BertForPreTraining(config).cuda()\n",
    "model.reset = lambda: None"
   ]
  },
  {
   "cell_type": "code",
   "execution_count": null,
   "metadata": {},
   "outputs": [],
   "source": [
    "# model"
   ]
  },
  {
   "cell_type": "code",
   "execution_count": 15,
   "metadata": {},
   "outputs": [],
   "source": [
    "# ob = data.one_batch(); ob[0].shape\n",
    "\n",
    "# out = model(ob[0].cuda())\n",
    "\n",
    "# len(out)\n",
    "\n",
    "# out[1].shape\n",
    "\n",
    "# out[0].shape"
   ]
  },
  {
   "cell_type": "markdown",
   "metadata": {},
   "source": [
    "### Create Language learner"
   ]
  },
  {
   "cell_type": "code",
   "execution_count": 10,
   "metadata": {},
   "outputs": [],
   "source": [
    "learn = LanguageLearner(data, model, bptt)"
   ]
  },
  {
   "cell_type": "code",
   "execution_count": 11,
   "metadata": {},
   "outputs": [],
   "source": [
    "learn.callbacks = []"
   ]
  },
  {
   "cell_type": "code",
   "execution_count": 12,
   "metadata": {},
   "outputs": [
    {
     "name": "stdout",
     "output_type": "stream",
     "text": [
      "LR Finder is complete, type {learner_name}.recorder.plot() to see the graph.\n"
     ]
    }
   ],
   "source": [
    "learn.lr_find()"
   ]
  },
  {
   "cell_type": "code",
   "execution_count": 13,
   "metadata": {},
   "outputs": [
    {
     "data": {
      "image/png": "[encoded data removed]",
      "text/plain": [
       "<Figure size 432x288 with 1 Axes>"
      ]
     },
     "metadata": {
      "needs_background": "light"
     },
     "output_type": "display_data"
    }
   ],
   "source": [
    "learn.recorder.plot()"
   ]
  },
  {
   "cell_type": "markdown",
   "metadata": {},
   "source": [
    "## Must remeber that BERT is bidirectional, so we must modifythe architechture so it won't cheat"
   ]
  },
  {
   "cell_type": "code",
   "execution_count": null,
   "metadata": {},
   "outputs": [
    {
     "data": {
      "text/html": [
       "\n",
       "    <div>\n",
       "        <style>\n",
       "            /* Turns off some styling */\n",
       "            progress {\n",
       "                /* gets rid of default border in Firefox and Opera. */\n",
       "                border: none;\n",
       "                /* Needs to be in here for Safari polyfill so background images work as expected. */\n",
       "                background-size: auto;\n",
       "            }\n",
       "            .progress-bar-interrupted, .progress-bar-interrupted::-webkit-progress-bar {\n",
       "                background: #F44336;\n",
       "            }\n",
       "        </style>\n",
       "      <progress value='0' class='' max='1', style='width:300px; height:20px; vertical-align: middle;'></progress>\n",
       "      0.00% [0/1 00:00<00:00]\n",
       "    </div>\n",
       "    \n",
       "<table style='width:300px; margin-bottom:10px'>\n",
       "  <tr>\n",
       "    <th>epoch</th>\n",
       "    <th>train_loss</th>\n",
       "    <th>valid_loss</th>\n",
       "    <th>accuracy</th>\n",
       "  </tr>\n",
       "</table>\n",
       "\n",
       "\n",
       "    <div>\n",
       "        <style>\n",
       "            /* Turns off some styling */\n",
       "            progress {\n",
       "                /* gets rid of default border in Firefox and Opera. */\n",
       "                border: none;\n",
       "                /* Needs to be in here for Safari polyfill so background images work as expected. */\n",
       "                background-size: auto;\n",
       "            }\n",
       "            .progress-bar-interrupted, .progress-bar-interrupted::-webkit-progress-bar {\n",
       "                background: #F44336;\n",
       "            }\n",
       "        </style>\n",
       "      <progress value='2366' class='' max='37335', style='width:300px; height:20px; vertical-align: middle;'></progress>\n",
       "      6.34% [2366/37335 11:23<2:48:18 4.2816]\n",
       "    </div>\n",
       "    "
      ],
      "text/plain": [
       "<IPython.core.display.HTML object>"
      ]
     },
     "metadata": {},
     "output_type": "display_data"
    }
   ],
   "source": [
    "learn.fit_one_cycle(1, 1e-2, moms=(0.7,0.5))"
   ]
  },
  {
   "cell_type": "code",
   "execution_count": 25,
   "metadata": {},
   "outputs": [
    {
     "name": "stdout",
     "output_type": "stream",
     "text": [
      "> \u001b[0;32m/home/ubuntu/anaconda3/envs/musical_neural_net/lib/python3.7/site-packages/fastai-1.0.40.dev0-py3.7.egg/fastai/callbacks/rnn.py\u001b[0m(27)\u001b[0;36mon_loss_begin\u001b[0;34m()\u001b[0m\n",
      "\u001b[0;32m     25 \u001b[0;31m    \u001b[0;32mdef\u001b[0m \u001b[0mon_loss_begin\u001b[0m\u001b[0;34m(\u001b[0m\u001b[0mself\u001b[0m\u001b[0;34m,\u001b[0m \u001b[0mlast_output\u001b[0m\u001b[0;34m:\u001b[0m\u001b[0mTuple\u001b[0m\u001b[0;34m[\u001b[0m\u001b[0mTensor\u001b[0m\u001b[0;34m,\u001b[0m\u001b[0mTensor\u001b[0m\u001b[0;34m,\u001b[0m\u001b[0mTensor\u001b[0m\u001b[0;34m]\u001b[0m\u001b[0;34m,\u001b[0m \u001b[0;34m**\u001b[0m\u001b[0mkwargs\u001b[0m\u001b[0;34m)\u001b[0m\u001b[0;34m:\u001b[0m\u001b[0;34m\u001b[0m\u001b[0;34m\u001b[0m\u001b[0m\n",
      "\u001b[0m\u001b[0;32m     26 \u001b[0;31m        \u001b[0;34m\"Save the extra outputs for later and only returns the true output.\"\u001b[0m\u001b[0;34m\u001b[0m\u001b[0;34m\u001b[0m\u001b[0m\n",
      "\u001b[0m\u001b[0;32m---> 27 \u001b[0;31m        \u001b[0mself\u001b[0m\u001b[0;34m.\u001b[0m\u001b[0mraw_out\u001b[0m\u001b[0;34m,\u001b[0m\u001b[0mself\u001b[0m\u001b[0;34m.\u001b[0m\u001b[0mout\u001b[0m \u001b[0;34m=\u001b[0m \u001b[0mlast_output\u001b[0m\u001b[0;34m[\u001b[0m\u001b[0;36m1\u001b[0m\u001b[0;34m]\u001b[0m\u001b[0;34m,\u001b[0m\u001b[0mlast_output\u001b[0m\u001b[0;34m[\u001b[0m\u001b[0;36m2\u001b[0m\u001b[0;34m]\u001b[0m\u001b[0;34m\u001b[0m\u001b[0;34m\u001b[0m\u001b[0m\n",
      "\u001b[0m\u001b[0;32m     28 \u001b[0;31m        \u001b[0;32mreturn\u001b[0m \u001b[0mlast_output\u001b[0m\u001b[0;34m[\u001b[0m\u001b[0;36m0\u001b[0m\u001b[0;34m]\u001b[0m\u001b[0;34m\u001b[0m\u001b[0;34m\u001b[0m\u001b[0m\n",
      "\u001b[0m\u001b[0;32m     29 \u001b[0;31m\u001b[0;34m\u001b[0m\u001b[0m\n",
      "\u001b[0m\n",
      "ipdb> out.shape\n",
      "*** NameError: name 'out' is not defined\n",
      "ipdb> up\n",
      "> \u001b[0;32m/home/ubuntu/anaconda3/envs/musical_neural_net/lib/python3.7/site-packages/fastai-1.0.40.dev0-py3.7.egg/fastai/callback.py\u001b[0m(216)\u001b[0;36mon_loss_begin\u001b[0;34m()\u001b[0m\n",
      "\u001b[0;32m    214 \u001b[0;31m        \u001b[0mself\u001b[0m\u001b[0;34m.\u001b[0m\u001b[0mstate_dict\u001b[0m\u001b[0;34m[\u001b[0m\u001b[0;34m'last_output'\u001b[0m\u001b[0;34m]\u001b[0m \u001b[0;34m=\u001b[0m \u001b[0mout\u001b[0m\u001b[0;34m\u001b[0m\u001b[0;34m\u001b[0m\u001b[0m\n",
      "\u001b[0m\u001b[0;32m    215 \u001b[0;31m        \u001b[0;32mfor\u001b[0m \u001b[0mcb\u001b[0m \u001b[0;32min\u001b[0m \u001b[0mself\u001b[0m\u001b[0;34m.\u001b[0m\u001b[0mcallbacks\u001b[0m\u001b[0;34m:\u001b[0m\u001b[0;34m\u001b[0m\u001b[0;34m\u001b[0m\u001b[0m\n",
      "\u001b[0m\u001b[0;32m--> 216 \u001b[0;31m            \u001b[0ma\u001b[0m \u001b[0;34m=\u001b[0m \u001b[0mcb\u001b[0m\u001b[0;34m.\u001b[0m\u001b[0mon_loss_begin\u001b[0m\u001b[0;34m(\u001b[0m\u001b[0;34m**\u001b[0m\u001b[0mself\u001b[0m\u001b[0;34m.\u001b[0m\u001b[0mstate_dict\u001b[0m\u001b[0;34m)\u001b[0m\u001b[0;34m\u001b[0m\u001b[0;34m\u001b[0m\u001b[0m\n",
      "\u001b[0m\u001b[0;32m    217 \u001b[0;31m            \u001b[0;32mif\u001b[0m \u001b[0ma\u001b[0m \u001b[0;32mis\u001b[0m \u001b[0;32mnot\u001b[0m \u001b[0;32mNone\u001b[0m\u001b[0;34m:\u001b[0m \u001b[0mself\u001b[0m\u001b[0;34m.\u001b[0m\u001b[0mstate_dict\u001b[0m\u001b[0;34m[\u001b[0m\u001b[0;34m'last_output'\u001b[0m\u001b[0;34m]\u001b[0m \u001b[0;34m=\u001b[0m \u001b[0ma\u001b[0m\u001b[0;34m\u001b[0m\u001b[0;34m\u001b[0m\u001b[0m\n",
      "\u001b[0m\u001b[0;32m    218 \u001b[0;31m        \u001b[0;32mreturn\u001b[0m \u001b[0mself\u001b[0m\u001b[0;34m.\u001b[0m\u001b[0mstate_dict\u001b[0m\u001b[0;34m[\u001b[0m\u001b[0;34m'last_output'\u001b[0m\u001b[0;34m]\u001b[0m\u001b[0;34m\u001b[0m\u001b[0;34m\u001b[0m\u001b[0m\n",
      "\u001b[0m\n",
      "ipdb> up\n",
      "> \u001b[0;32m/home/ubuntu/anaconda3/envs/musical_neural_net/lib/python3.7/site-packages/fastai-1.0.40.dev0-py3.7.egg/fastai/basic_train.py\u001b[0m(19)\u001b[0;36mloss_batch\u001b[0;34m()\u001b[0m\n",
      "\u001b[0;32m     17 \u001b[0;31m    \u001b[0;32mif\u001b[0m \u001b[0;32mnot\u001b[0m \u001b[0mis_listy\u001b[0m\u001b[0;34m(\u001b[0m\u001b[0myb\u001b[0m\u001b[0;34m)\u001b[0m\u001b[0;34m:\u001b[0m \u001b[0myb\u001b[0m \u001b[0;34m=\u001b[0m \u001b[0;34m[\u001b[0m\u001b[0myb\u001b[0m\u001b[0;34m]\u001b[0m\u001b[0;34m\u001b[0m\u001b[0;34m\u001b[0m\u001b[0m\n",
      "\u001b[0m\u001b[0;32m     18 \u001b[0;31m    \u001b[0mout\u001b[0m \u001b[0;34m=\u001b[0m \u001b[0mmodel\u001b[0m\u001b[0;34m(\u001b[0m\u001b[0;34m*\u001b[0m\u001b[0mxb\u001b[0m\u001b[0;34m)\u001b[0m\u001b[0;34m\u001b[0m\u001b[0;34m\u001b[0m\u001b[0m\n",
      "\u001b[0m\u001b[0;32m---> 19 \u001b[0;31m    \u001b[0mout\u001b[0m \u001b[0;34m=\u001b[0m \u001b[0mcb_handler\u001b[0m\u001b[0;34m.\u001b[0m\u001b[0mon_loss_begin\u001b[0m\u001b[0;34m(\u001b[0m\u001b[0mout\u001b[0m\u001b[0;34m)\u001b[0m\u001b[0;34m\u001b[0m\u001b[0;34m\u001b[0m\u001b[0m\n",
      "\u001b[0m\u001b[0;32m     20 \u001b[0;31m\u001b[0;34m\u001b[0m\u001b[0m\n",
      "\u001b[0m\u001b[0;32m     21 \u001b[0;31m    \u001b[0;32mif\u001b[0m \u001b[0;32mnot\u001b[0m \u001b[0mloss_func\u001b[0m\u001b[0;34m:\u001b[0m \u001b[0;32mreturn\u001b[0m \u001b[0mto_detach\u001b[0m\u001b[0;34m(\u001b[0m\u001b[0mout\u001b[0m\u001b[0;34m)\u001b[0m\u001b[0;34m,\u001b[0m \u001b[0myb\u001b[0m\u001b[0;34m[\u001b[0m\u001b[0;36m0\u001b[0m\u001b[0;34m]\u001b[0m\u001b[0;34m.\u001b[0m\u001b[0mdetach\u001b[0m\u001b[0;34m(\u001b[0m\u001b[0;34m)\u001b[0m\u001b[0;34m\u001b[0m\u001b[0;34m\u001b[0m\u001b[0m\n",
      "\u001b[0m\n",
      "ipdb> out.shape\n",
      "*** AttributeError: 'tuple' object has no attribute 'shape'\n",
      "ipdb> out\n",
      "(tensor([[[ 7.4878e-03, -5.2784e-03,  3.5817e-03,  ..., -1.1903e-03,\n",
      "           1.6944e-03,  4.1723e-03],\n",
      "         [ 6.6542e-03, -2.4281e-03,  4.8706e-03,  ...,  1.1724e-03,\n",
      "           3.1983e-03,  4.3668e-03],\n",
      "         [ 6.7628e-03, -4.0325e-03,  6.7935e-03,  ...,  1.0249e-03,\n",
      "           2.8824e-03,  3.8622e-03],\n",
      "         ...,\n",
      "         [ 5.3815e-03, -3.0283e-03,  5.2786e-03,  ..., -9.7884e-04,\n",
      "           8.1874e-04,  3.7366e-03],\n",
      "         [ 7.0387e-03, -4.5017e-03,  6.0563e-03,  ...,  1.3722e-03,\n",
      "           1.9246e-03,  3.0246e-03],\n",
      "         [ 9.3610e-03, -4.2608e-03,  4.7914e-03,  ...,  2.8972e-04,\n",
      "           4.1444e-03,  5.1735e-03]],\n",
      "\n",
      "        [[ 8.9777e-03, -5.3279e-03,  6.3367e-03,  ..., -2.1927e-03,\n",
      "           3.3105e-03,  4.5680e-03],\n",
      "         [ 8.5900e-03, -5.4835e-03,  4.8252e-03,  ..., -4.4274e-04,\n",
      "           1.1964e-03,  3.8308e-03],\n",
      "         [ 6.9813e-03, -4.5399e-03,  4.7696e-03,  ...,  1.3885e-04,\n",
      "           3.4556e-03,  5.3298e-03],\n",
      "         ...,\n",
      "         [ 9.2155e-03, -5.2126e-03,  7.8025e-03,  ..., -3.0226e-05,\n",
      "           7.8049e-04,  5.5195e-03],\n",
      "         [ 7.9839e-03, -3.6115e-03,  7.1714e-03,  ...,  4.9777e-04,\n",
      "           1.5623e-03,  4.3306e-03],\n",
      "         [ 9.5741e-03, -5.3795e-03,  7.0586e-03,  ..., -1.4825e-03,\n",
      "           3.3067e-03,  5.0171e-03]],\n",
      "\n",
      "        [[ 6.7392e-03, -6.0924e-03,  4.2759e-03,  ...,  1.5046e-03,\n",
      "           2.5268e-03,  5.5606e-03],\n",
      "         [ 7.4562e-03, -5.1208e-03,  5.3750e-03,  ..., -2.8512e-04,\n",
      "           3.7222e-03,  5.1582e-03],\n",
      "         [ 9.5994e-03, -4.5887e-03,  7.2139e-03,  ...,  2.4713e-03,\n",
      "           4.9873e-03,  4.7725e-03],\n",
      "         ...,\n",
      "         [ 7.5314e-03, -2.0562e-03,  6.3239e-03,  ...,  7.4356e-04,\n",
      "           3.0439e-03,  4.7363e-03],\n",
      "         [ 6.1919e-03, -3.2972e-03,  6.9915e-03,  ...,  6.2886e-04,\n",
      "           1.9853e-03,  5.1694e-03],\n",
      "         [ 8.2969e-03, -4.8357e-03,  8.8775e-03,  ..., -4.6631e-05,\n",
      "           1.3357e-03,  4.5112e-03]],\n",
      "\n",
      "        ...,\n",
      "\n",
      "        [[ 6.2895e-03, -2.8451e-03,  3.8056e-03,  ..., -1.0281e-03,\n",
      "           1.4845e-03,  4.3487e-03],\n",
      "         [ 7.1803e-03, -4.5733e-03,  4.7403e-03,  ...,  2.9301e-04,\n",
      "           2.8060e-03,  5.8611e-03],\n",
      "         [ 8.5500e-03, -4.9359e-03,  5.1992e-03,  ..., -8.7203e-04,\n",
      "           3.8461e-03,  3.0365e-03],\n",
      "         ...,\n",
      "         [ 7.5307e-03, -3.0230e-03,  5.9537e-03,  ...,  7.1063e-04,\n",
      "           3.6044e-03,  2.8090e-03],\n",
      "         [ 7.3827e-03, -2.8256e-03,  5.6583e-03,  ...,  2.5973e-03,\n",
      "           2.4161e-03,  1.9303e-03],\n",
      "         [ 6.9288e-03, -2.4346e-03,  5.7677e-03,  ...,  1.7374e-03,\n",
      "           2.3847e-03,  5.0754e-03]],\n",
      "\n",
      "        [[ 7.5757e-03, -4.1739e-03,  4.9926e-03,  ..., -1.4055e-03,\n",
      "           1.3829e-03,  5.9358e-03],\n",
      "         [ 5.5839e-03, -3.0344e-03,  4.1900e-03,  ...,  1.4342e-03,\n",
      "           3.1159e-03,  5.6757e-03],\n",
      "         [ 8.8514e-03, -4.8636e-03,  5.2122e-03,  ...,  2.4402e-04,\n",
      "           4.7520e-03,  4.0518e-03],\n",
      "         ...,\n",
      "         [ 5.9224e-03, -7.2677e-03,  5.4695e-03,  ..., -8.5657e-04,\n",
      "           3.4379e-03,  4.8821e-03],\n",
      "         [ 9.3848e-03, -3.3303e-03,  5.4354e-03,  ...,  1.3391e-04,\n",
      "           5.0443e-03,  4.6439e-03],\n",
      "         [ 6.6797e-03, -5.0657e-03,  4.6976e-03,  ...,  1.8626e-04,\n",
      "           3.1969e-03,  5.9035e-03]],\n",
      "\n",
      "        [[ 5.8841e-03, -5.0196e-03,  6.3362e-03,  ..., -4.0215e-04,\n",
      "           4.3602e-04,  3.5314e-03],\n",
      "         [ 7.9032e-03, -2.3608e-03,  5.9053e-03,  ..., -3.9186e-04,\n",
      "           4.3661e-03,  4.7182e-03],\n",
      "         [ 7.3355e-03, -4.8519e-03,  5.9414e-03,  ...,  6.8920e-04,\n",
      "           3.7747e-03,  4.2622e-03],\n",
      "         ...,\n",
      "         [ 8.8184e-03, -3.7336e-03,  6.0688e-03,  ...,  1.5856e-03,\n",
      "           5.0199e-03,  6.3751e-03],\n",
      "         [ 8.8424e-03, -3.7742e-03,  5.8046e-03,  ...,  9.3233e-04,\n",
      "           2.1582e-03,  5.9100e-03],\n",
      "         [ 9.1900e-03, -4.4206e-03,  7.0112e-03,  ..., -1.0471e-03,\n",
      "           4.2951e-03,  3.9244e-03]]], device='cuda:0', grad_fn=<AddBackward0>), tensor([[0.0080, 0.0055],\n",
      "        [0.0078, 0.0052],\n",
      "        [0.0071, 0.0058],\n",
      "        [0.0068, 0.0039],\n",
      "        [0.0084, 0.0063],\n",
      "        [0.0081, 0.0059],\n",
      "        [0.0066, 0.0055],\n",
      "        [0.0066, 0.0051]], device='cuda:0', grad_fn=<AddmmBackward>))\n",
      "ipdb> quit\n"
     ]
    }
   ],
   "source": [
    "%debug"
   ]
  },
  {
   "cell_type": "code",
   "execution_count": null,
   "metadata": {},
   "outputs": [],
   "source": []
  }
 ],
 "metadata": {
  "kernelspec": {
   "display_name": "Python 3",
   "language": "python",
   "name": "python3"
  },
  "language_info": {
   "codemirror_mode": {
    "name": "ipython",
    "version": 3
   },
   "file_extension": ".py",
   "mimetype": "text/x-python",
   "name": "python",
   "nbconvert_exporter": "python",
   "pygments_lexer": "ipython3",
   "version": "3.7.1"
  }
 },
 "nbformat": 4,
 "nbformat_minor": 2
}
