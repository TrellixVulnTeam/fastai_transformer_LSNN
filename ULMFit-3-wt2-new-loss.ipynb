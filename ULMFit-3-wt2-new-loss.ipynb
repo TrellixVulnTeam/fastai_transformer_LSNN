{
 "cells": [
  {
   "cell_type": "code",
   "execution_count": 1,
   "metadata": {},
   "outputs": [],
   "source": [
    "%reload_ext autoreload\n",
    "%autoreload 2"
   ]
  },
  {
   "cell_type": "code",
   "execution_count": 2,
   "metadata": {},
   "outputs": [],
   "source": [
    "import sys, os, re, csv, codecs, numpy as np, pandas as pd\n",
    "from fastai import *        # Quick accesss to most common functionality\n",
    "from fastai.text import *   # Quick accesss to NLP functionality\n",
    "import html"
   ]
  },
  {
   "cell_type": "markdown",
   "metadata": {},
   "source": [
    "## Data"
   ]
  },
  {
   "cell_type": "markdown",
   "metadata": {},
   "source": [
    "## Loading data"
   ]
  },
  {
   "cell_type": "code",
   "execution_count": 3,
   "metadata": {},
   "outputs": [],
   "source": [
    "PATH=Path('data/wikitext-2')"
   ]
  },
  {
   "cell_type": "code",
   "execution_count": 4,
   "metadata": {},
   "outputs": [],
   "source": [
    "bs = 64\n",
    "bptt = 70"
   ]
  },
  {
   "cell_type": "code",
   "execution_count": 5,
   "metadata": {},
   "outputs": [],
   "source": [
    "data = TextLMDataBunch.load(PATH, bs=bs, bptt=bptt)"
   ]
  },
  {
   "cell_type": "code",
   "execution_count": 6,
   "metadata": {},
   "outputs": [],
   "source": [
    "from fastai.callbacks import RNNTrainer\n",
    "def rnn_patch_on_loss_begin(self, last_output:Tuple[Tensor,Tensor,Tensor], **kwargs):\n",
    "    \"Save the extra outputs for later and only returns the true output.\"\n",
    "    self.raw_out,self.out = last_output[1],last_output[2]\n",
    "    return last_output[0], self.out\n",
    "\n",
    "\n",
    "RNNTrainer.on_loss_begin = rnn_patch_on_loss_begin\n",
    "\n",
    "\n",
    "# Need to find shortcut for monkey patching on individual instances - https://filippo.io/instance-monkey-patching-in-python/\n",
    "# or just subclass\n",
    "# learn.callbacks[0].on_loss_begin = rnn_patch_on_loss_begin"
   ]
  },
  {
   "cell_type": "code",
   "execution_count": 7,
   "metadata": {},
   "outputs": [],
   "source": [
    "learn = language_model_learner(data, clip=0.2)"
   ]
  },
  {
   "cell_type": "code",
   "execution_count": 8,
   "metadata": {},
   "outputs": [
    {
     "data": {
      "text/plain": [
       "<fastai.layers.FlattenedLoss at 0x7fd9aef4a208>"
      ]
     },
     "execution_count": 8,
     "metadata": {},
     "output_type": "execute_result"
    }
   ],
   "source": [
    "data.loss_func"
   ]
  },
  {
   "cell_type": "code",
   "execution_count": 9,
   "metadata": {},
   "outputs": [],
   "source": [
    "class CosSoftmaxLoss(nn.Module):\n",
    "    def __init__(self, emb_layer, base_loss):\n",
    "        super().__init__()\n",
    "        self.base_loss = base_loss\n",
    "        self.emb_layer = emb_layer\n",
    "        \n",
    "    def forward(self, input, target):\n",
    "        decoded, outputs = input\n",
    "        with torch.no_grad():\n",
    "            target_emb = self.emb_layer(target)\n",
    "        base_l = self.base_loss(decoded, target)\n",
    "        cos_l = (1 - torch.nn.functional.cosine_similarity(target_emb, outputs[-1].detach(), dim=2).mean())*5\n",
    "        return base_l + cos_l\n",
    "        "
   ]
  },
  {
   "cell_type": "code",
   "execution_count": 10,
   "metadata": {},
   "outputs": [],
   "source": [
    "r_emb = learn.model[0].encoder"
   ]
  },
  {
   "cell_type": "code",
   "execution_count": 11,
   "metadata": {},
   "outputs": [],
   "source": [
    "learn.loss_func = CosSoftmaxLoss(r_emb, learn.loss_func)"
   ]
  },
  {
   "cell_type": "code",
   "execution_count": 12,
   "metadata": {},
   "outputs": [],
   "source": [
    "# learn.opt_fn = partial(optim.Adam, betas=(0.8,0.99))\n",
    "# learn.callback_fns.extend([partial(GradientClipping, clip=0.12)])"
   ]
  },
  {
   "cell_type": "code",
   "execution_count": 13,
   "metadata": {},
   "outputs": [],
   "source": [
    "epoch = 12\n",
    "lr = 1e-3\n",
    "momentum = (0.8,0.7)\n",
    "weight_decay = 1.2e-6"
   ]
  },
  {
   "cell_type": "code",
   "execution_count": 14,
   "metadata": {},
   "outputs": [],
   "source": [
    "learn.metrics = [lambda input, targs: accuracy(input[0], targs)]"
   ]
  },
  {
   "cell_type": "code",
   "execution_count": 15,
   "metadata": {
    "scrolled": true
   },
   "outputs": [
    {
     "data": {
      "text/html": [
       "Total time: 11:49 <p><table style='width:300px; margin-bottom:10px'>\n",
       "  <tr>\n",
       "    <th>epoch</th>\n",
       "    <th>train_loss</th>\n",
       "    <th>valid_loss</th>\n",
       "    <th><lambda></th>\n",
       "  </tr>\n",
       "  <tr>\n",
       "    <th>1</th>\n",
       "    <th>10.653616</th>\n",
       "    <th>10.043700</th>\n",
       "    <th>0.113818</th>\n",
       "  </tr>\n",
       "  <tr>\n",
       "    <th>2</th>\n",
       "    <th>9.474977</th>\n",
       "    <th>8.903176</th>\n",
       "    <th>0.181585</th>\n",
       "  </tr>\n",
       "  <tr>\n",
       "    <th>3</th>\n",
       "    <th>8.835151</th>\n",
       "    <th>8.370964</th>\n",
       "    <th>0.216010</th>\n",
       "  </tr>\n",
       "  <tr>\n",
       "    <th>4</th>\n",
       "    <th>8.448569</th>\n",
       "    <th>8.107989</th>\n",
       "    <th>0.235085</th>\n",
       "  </tr>\n",
       "  <tr>\n",
       "    <th>5</th>\n",
       "    <th>8.217302</th>\n",
       "    <th>7.989928</th>\n",
       "    <th>0.246140</th>\n",
       "  </tr>\n",
       "  <tr>\n",
       "    <th>6</th>\n",
       "    <th>8.051781</th>\n",
       "    <th>7.944455</th>\n",
       "    <th>0.251464</th>\n",
       "  </tr>\n",
       "  <tr>\n",
       "    <th>7</th>\n",
       "    <th>7.922557</th>\n",
       "    <th>7.902966</th>\n",
       "    <th>0.257376</th>\n",
       "  </tr>\n",
       "  <tr>\n",
       "    <th>8</th>\n",
       "    <th>7.833813</th>\n",
       "    <th>7.901733</th>\n",
       "    <th>0.260447</th>\n",
       "  </tr>\n",
       "  <tr>\n",
       "    <th>9</th>\n",
       "    <th>7.718856</th>\n",
       "    <th>7.902232</th>\n",
       "    <th>0.262281</th>\n",
       "  </tr>\n",
       "  <tr>\n",
       "    <th>10</th>\n",
       "    <th>7.633715</th>\n",
       "    <th>7.904072</th>\n",
       "    <th>0.262709</th>\n",
       "  </tr>\n",
       "  <tr>\n",
       "    <th>11</th>\n",
       "    <th>7.587809</th>\n",
       "    <th>7.910986</th>\n",
       "    <th>0.263068</th>\n",
       "  </tr>\n",
       "  <tr>\n",
       "    <th>12</th>\n",
       "    <th>7.580851</th>\n",
       "    <th>7.910160</th>\n",
       "    <th>0.262975</th>\n",
       "  </tr>\n",
       "</table>\n"
      ],
      "text/plain": [
       "<IPython.core.display.HTML object>"
      ]
     },
     "metadata": {},
     "output_type": "display_data"
    }
   ],
   "source": [
    "learn.fit_one_cycle(epoch, lr, moms=momentum, wd=weight_decay)"
   ]
  },
  {
   "cell_type": "code",
   "execution_count": 16,
   "metadata": {},
   "outputs": [
    {
     "data": {
      "image/png": "[encoded data removed]",
      "text/plain": [
       "<Figure size 432x288 with 1 Axes>"
      ]
     },
     "metadata": {
      "needs_background": "light"
     },
     "output_type": "display_data"
    }
   ],
   "source": [
    "learn.recorder.plot_losses()"
   ]
  },
  {
   "cell_type": "code",
   "execution_count": 17,
   "metadata": {},
   "outputs": [],
   "source": [
    "learn.save('lstm_wt2_newloss')"
   ]
  },
  {
   "cell_type": "markdown",
   "metadata": {},
   "source": [
    "### Testing (for fun)"
   ]
  },
  {
   "cell_type": "code",
   "execution_count": 12,
   "metadata": {},
   "outputs": [],
   "source": [
    "learn.load('lstm_wt103'); learn.model.eval();"
   ]
  },
  {
   "cell_type": "code",
   "execution_count": 13,
   "metadata": {},
   "outputs": [],
   "source": [
    "x_str = \"The online encyclopedia project Wikipedia is the most popular wiki-based website, and is\""
   ]
  },
  {
   "cell_type": "code",
   "execution_count": 14,
   "metadata": {},
   "outputs": [],
   "source": [
    "pred_out = learn.predict(x_str, n_words=500)"
   ]
  },
  {
   "cell_type": "code",
   "execution_count": 15,
   "metadata": {},
   "outputs": [
    {
     "data": {
      "text/plain": [
       "'The online encyclopedia project Wikipedia is the most popular wiki-based website, and is an influence on the xxmaj winter xxmaj olympics for finishing necessities under the active organization of the goodwill season . xxmaj architecture is both a part of the xxmaj central xxmaj central xxmaj series , an action organising system which is televised in 2011 . xxmaj once xxmaj mill xxmaj county xxmaj jail has a working 2013 xxmaj london xxmaj university weekend , the xxmaj partnership has ended soloist wills given on the xxup list as far back as 2016 . xxbos xxmaj while many of her thousands extent it ended with fruits in the xxmaj cottages and xxmaj hobby structures . xxbos = xxmaj shadows ( 2012 puzzles ) = xxbos xxmaj discovery : xxmaj domestic form is law student ( xxup a- ) . xxmaj the gu is the registry of the xxmaj highest for marriage , which allows tony to enjoy money , and have fourteen months of tolerate joining with children . a search can be read and characterized by a member fountain . xxmaj the garden is armored , with concentric knees and slides without their horizontal ears , common shoes and imagine while all female adults along with the communion all only complete their hooked parts . xxbos xxmaj the race finished on 28 xxmaj january 1996 at the age of 19 , when the xxmaj newfoundland and xxmaj irish xxmaj indians themselves began to climb , and they were playing six times for the second time . xxmaj at xxmaj kurt xxmaj busch xxmaj international xxmaj airport , and wing climb for the 2000 xxmaj pacific xxmaj coast xxmaj championships on 7 xxmaj may , they formed an xxmaj ice xxmaj goods xxmaj mfr that had leading them up to xxmaj smoke xxup xi . xxmaj dreadnoughts were inserted into the crowd atop the underneath temporarily . xxmaj the editing was duets with xxmaj endless and xxmaj will xxmaj tongue who were attacking xxmaj autopilot and w. xxmaj foremost , michael xxmaj mackintosh . xxbos = = xxmaj short 03 and 3 : 20 xxup utc = = xxbos xxmaj the relationship between xxmaj anatomy and xxmaj angela and the xxmaj image was planned for xxmaj voyager 18 and a series of locations in xxmaj north xxmaj america , and it was not possible for the character to pay alcohol and breathing . xxmaj stefani \\'s uncle xxmaj linda , who suggested that she xxmaj mutation of xxmaj jura and xxmaj seasons in xxmaj black xxmaj lion \\'s rival , likened her to xxmaj a. xxmaj oscar xxmaj thomas of xxmaj the xxmaj times and xxmaj thrasher from her memoir , xxmaj about xxmaj sci - xxmaj fi ( 1989 ) . xxbos xxmaj later that month , xxup fbi special agent xxmaj kennedy xxmaj wright ( xxmaj david xxmaj duchovny ) attempted to express xxmaj carter \\'s plot quickly with the series \\' long ending , \" xxmaj the xxmaj dr. \" xxmaj mulder insists he should help him the worst of'"
      ]
     },
     "execution_count": 15,
     "metadata": {},
     "output_type": "execute_result"
    }
   ],
   "source": [
    "pred_out"
   ]
  },
  {
   "cell_type": "code",
   "execution_count": null,
   "metadata": {},
   "outputs": [],
   "source": []
  }
 ],
 "metadata": {
  "kernelspec": {
   "display_name": "Python 3",
   "language": "python",
   "name": "python3"
  },
  "language_info": {
   "codemirror_mode": {
    "name": "ipython",
    "version": 3
   },
   "file_extension": ".py",
   "mimetype": "text/x-python",
   "name": "python",
   "nbconvert_exporter": "python",
   "pygments_lexer": "ipython3",
   "version": "3.7.1"
  }
 },
 "nbformat": 4,
 "nbformat_minor": 2
}
