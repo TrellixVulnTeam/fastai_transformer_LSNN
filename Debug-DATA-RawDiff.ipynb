{
 "cells": [
  {
   "cell_type": "code",
   "execution_count": 1,
   "metadata": {},
   "outputs": [],
   "source": [
    "%reload_ext autoreload\n",
    "%autoreload 2"
   ]
  },
  {
   "cell_type": "code",
   "execution_count": 2,
   "metadata": {},
   "outputs": [],
   "source": [
    "import sys, os, re, csv, codecs, numpy as np, pandas as pd\n",
    "from fastai import *        # Quick accesss to most common functionality\n",
    "from fastai.text import *   # Quick accesss to NLP functionality\n",
    "import html"
   ]
  },
  {
   "cell_type": "code",
   "execution_count": 3,
   "metadata": {},
   "outputs": [],
   "source": [
    "tok_path=Path('data/wikitext-2')"
   ]
  },
  {
   "cell_type": "code",
   "execution_count": 4,
   "metadata": {},
   "outputs": [],
   "source": [
    "bs=2 \n",
    "bptt=8"
   ]
  },
  {
   "cell_type": "code",
   "execution_count": 5,
   "metadata": {},
   "outputs": [],
   "source": [
    "data_tok = TextLMDataBunch.load(tok_path, bs=bs, bptt=bptt)"
   ]
  },
  {
   "cell_type": "code",
   "execution_count": 30,
   "metadata": {},
   "outputs": [
    {
     "name": "stdout",
     "output_type": "stream",
     "text": [
      "torch.Size([2, 15]) tensor(31567, device='cuda:0') tensor(2147.6335, device='cuda:0') torch.cuda.LongTensor\n",
      "torch.Size([2, 15]) tensor(31567, device='cuda:0') tensor(2264.3667, device='cuda:0') torch.cuda.LongTensor\n",
      "torch.Size([2, 5]) tensor(6856, device='cuda:0') tensor(1088.2001, device='cuda:0') torch.cuda.LongTensor\n",
      "torch.Size([2, 5]) tensor(6856, device='cuda:0') tensor(1498.4000, device='cuda:0') torch.cuda.LongTensor\n",
      "torch.Size([2, 5]) tensor(7970, device='cuda:0') tensor(2224.1001, device='cuda:0') torch.cuda.LongTensor\n",
      "torch.Size([2, 5]) tensor(7970, device='cuda:0') tensor(1489.5000, device='cuda:0') torch.cuda.LongTensor\n",
      "torch.Size([2, 5]) tensor(31564, device='cuda:0') tensor(5171., device='cuda:0') torch.cuda.LongTensor\n",
      "torch.Size([2, 5]) tensor(31564, device='cuda:0') tensor(5307.8999, device='cuda:0') torch.cuda.LongTensor\n",
      "torch.Size([2, 5]) tensor(20278, device='cuda:0') tensor(2972.3000, device='cuda:0') torch.cuda.LongTensor\n",
      "torch.Size([2, 5]) tensor(20278, device='cuda:0') tensor(2820.5000, device='cuda:0') torch.cuda.LongTensor\n",
      "torch.Size([2, 5]) tensor(20083, device='cuda:0') tensor(3411.2000, device='cuda:0') torch.cuda.LongTensor\n",
      "torch.Size([2, 5]) tensor(20083, device='cuda:0') tensor(3391.9001, device='cuda:0') torch.cuda.LongTensor\n",
      "torch.Size([2, 12]) tensor(21849, device='cuda:0') tensor(1499.6250, device='cuda:0') torch.cuda.LongTensor\n",
      "torch.Size([2, 12]) tensor(21849, device='cuda:0') tensor(1625.5834, device='cuda:0') torch.cuda.LongTensor\n",
      "torch.Size([2, 16]) tensor(28500, device='cuda:0') tensor(2314.7812, device='cuda:0') torch.cuda.LongTensor\n",
      "torch.Size([2, 16]) tensor(28500, device='cuda:0') tensor(2252., device='cuda:0') torch.cuda.LongTensor\n"
     ]
    }
   ],
   "source": [
    "for i,(x,y) in enumerate(data_tok.train_dl):\n",
    "    print(x.shape, x.max(), x.float().mean(), x.type())\n",
    "    print(y.shape, y.max(), y.float().mean(), y.type())\n",
    "    if i > 6: break"
   ]
  },
  {
   "cell_type": "code",
   "execution_count": 6,
   "metadata": {},
   "outputs": [],
   "source": [
    "raw_path=Path('data/wikitext-2-raw')"
   ]
  },
  {
   "cell_type": "code",
   "execution_count": 7,
   "metadata": {},
   "outputs": [],
   "source": [
    "data_raw = TextLMDataBunch.load(raw_path, bs=bs, bptt=bptt)"
   ]
  },
  {
   "cell_type": "code",
   "execution_count": 29,
   "metadata": {},
   "outputs": [
    {
     "name": "stdout",
     "output_type": "stream",
     "text": [
      "torch.Size([2, 10]) tensor(4701, device='cuda:0') tensor(615.1000, device='cuda:0') torch.cuda.LongTensor\n",
      "torch.Size([2, 10]) tensor(4701, device='cuda:0') tensor(617.0500, device='cuda:0') torch.cuda.LongTensor\n",
      "torch.Size([2, 8]) tensor(6514, device='cuda:0') tensor(999.0625, device='cuda:0') torch.cuda.LongTensor\n",
      "torch.Size([2, 8]) tensor(6514, device='cuda:0') tensor(998.5000, device='cuda:0') torch.cuda.LongTensor\n",
      "torch.Size([2, 11]) tensor(2897, device='cuda:0') tensor(373.0455, device='cuda:0') torch.cuda.LongTensor\n",
      "torch.Size([2, 11]) tensor(5864, device='cuda:0') tensor(641.6364, device='cuda:0') torch.cuda.LongTensor\n",
      "torch.Size([2, 7]) tensor(5864, device='cuda:0') tensor(691.2858, device='cuda:0') torch.cuda.LongTensor\n",
      "torch.Size([2, 7]) tensor(1282, device='cuda:0') tensor(365.7857, device='cuda:0') torch.cuda.LongTensor\n",
      "torch.Size([2, 5]) tensor(7505, device='cuda:0') tensor(1183.8000, device='cuda:0') torch.cuda.LongTensor\n",
      "torch.Size([2, 5]) tensor(7505, device='cuda:0') tensor(1173., device='cuda:0') torch.cuda.LongTensor\n",
      "torch.Size([2, 5]) tensor(16299, device='cuda:0') tensor(1763.3000, device='cuda:0') torch.cuda.LongTensor\n",
      "torch.Size([2, 5]) tensor(22688, device='cuda:0') tensor(3961.3000, device='cuda:0') torch.cuda.LongTensor\n",
      "torch.Size([2, 7]) tensor(22688, device='cuda:0') tensor(2141.5000, device='cuda:0') torch.cuda.LongTensor\n",
      "torch.Size([2, 7]) tensor(4363, device='cuda:0') tensor(664.3572, device='cuda:0') torch.cuda.LongTensor\n",
      "torch.Size([2, 5]) tensor(2977, device='cuda:0') tensor(850.7000, device='cuda:0') torch.cuda.LongTensor\n",
      "torch.Size([2, 5]) tensor(2977, device='cuda:0') tensor(746.9000, device='cuda:0') torch.cuda.LongTensor\n"
     ]
    }
   ],
   "source": [
    "for i,(x,y) in enumerate(data_raw.train_dl):\n",
    "    print(x.shape, x.max(), x.float().mean(), x.type())\n",
    "    print(y.shape, y.max(), y.float().mean(), y.type())\n",
    "    if i > 6: break"
   ]
  },
  {
   "cell_type": "code",
   "execution_count": 16,
   "metadata": {},
   "outputs": [
    {
     "data": {
      "text/plain": [
       "(tensor([[4679,  319,   18, 1202, 9091,   18, 6078,   32, 6122,   27,  483,  663,\n",
       "          1585],\n",
       "         [  26,    8,  398,   13, 3462,   19,  789,   14,    8, 2313,   48, 4729,\n",
       "          3077]]),\n",
       " tensor([[ 319,   18, 1202, 9091,   18, 6078,   32, 6122,   27,  483,  663, 1585,\n",
       "            10],\n",
       "         [   8,  398,   13, 3462,   19,  789,   14,    8, 2313,   48, 4729, 3077,\n",
       "            99]]))"
      ]
     },
     "execution_count": 16,
     "metadata": {},
     "output_type": "execute_result"
    }
   ],
   "source": [
    "tok_ob = data_tok.one_batch(); tok_ob"
   ]
  },
  {
   "cell_type": "code",
   "execution_count": 24,
   "metadata": {},
   "outputs": [
    {
     "data": {
      "text/plain": [
       "[tensor([[1543,   24, 4174,  144,  869],\n",
       "         [  61, 6240,   14,  290,   22]], device='cuda:0'),\n",
       " tensor([[  24, 4174,  144,  869,  344],\n",
       "         [6240,   14,  290,   22,   37]], device='cuda:0')]"
      ]
     },
     "execution_count": 24,
     "metadata": {},
     "output_type": "execute_result"
    }
   ],
   "source": [
    "tok_ob_2 = next(iter(data_tok.train_dl)); tok_ob_2"
   ]
  },
  {
   "cell_type": "code",
   "execution_count": 15,
   "metadata": {},
   "outputs": [
    {
     "data": {
      "text/plain": [
       "(tensor([[   2,    4,    8,  735, 2630,  216],\n",
       "         [ 898, 7295, 8747,   96,   21,   15]]),\n",
       " tensor([[   4,    8,  735, 2630,  216, 1715],\n",
       "         [7295, 8747,   96,   21,   15,  289]]))"
      ]
     },
     "execution_count": 15,
     "metadata": {},
     "output_type": "execute_result"
    }
   ],
   "source": [
    "raw_ob = data_raw.one_batch(); raw_ob"
   ]
  },
  {
   "cell_type": "code",
   "execution_count": 23,
   "metadata": {},
   "outputs": [
    {
     "data": {
      "text/plain": [
       "[tensor([[   2,    4,    8,  319,   52,  651, 1100],\n",
       "         [  35,  253,    4, 5239,    9,    4, 7232]], device='cuda:0'),\n",
       " tensor([[   4,    8,  319,   52,  651, 1100,  819],\n",
       "         [ 253,    4, 5239,    9,    4, 7232,    9]], device='cuda:0')]"
      ]
     },
     "execution_count": 23,
     "metadata": {},
     "output_type": "execute_result"
    }
   ],
   "source": [
    "raw_ob_2 = next(iter(data_raw.train_dl)); raw_ob_2"
   ]
  },
  {
   "cell_type": "code",
   "execution_count": null,
   "metadata": {},
   "outputs": [],
   "source": []
  },
  {
   "cell_type": "code",
   "execution_count": 12,
   "metadata": {},
   "outputs": [
    {
     "data": {
      "text/plain": [
       "(torch.Size([2, 33]),\n",
       " 'torch.LongTensor',\n",
       " torch.Size([2, 33]),\n",
       " 'torch.LongTensor')"
      ]
     },
     "execution_count": 12,
     "metadata": {},
     "output_type": "execute_result"
    }
   ],
   "source": [
    "tok_ob[0].shape, tok_ob[0].type(), tok_ob[1].shape, tok_ob[1].type()"
   ]
  },
  {
   "cell_type": "code",
   "execution_count": 14,
   "metadata": {},
   "outputs": [
    {
     "data": {
      "text/plain": [
       "(torch.Size([2, 33]),\n",
       " 'torch.LongTensor',\n",
       " torch.Size([2, 33]),\n",
       " 'torch.LongTensor')"
      ]
     },
     "execution_count": 14,
     "metadata": {},
     "output_type": "execute_result"
    }
   ],
   "source": [
    "raw_ob[0].shape, raw_ob[0].type(), raw_ob[1].shape, raw_ob[1].type()"
   ]
  },
  {
   "cell_type": "code",
   "execution_count": 65,
   "metadata": {},
   "outputs": [
    {
     "data": {
      "text/html": [
       "<table>  <col width='5%'>  <col width='95%'>  <tr>\n",
       "    <th>idx</th>\n",
       "    <th>text</th>\n",
       "  </tr>\n",
       "  <tr>\n",
       "    <th>0</th>\n",
       "    <th>= = Villa Grande = = = =</th>\n",
       "  </tr>\n",
       "  <tr>\n",
       "    <th>1</th>\n",
       "    <th>a history of that period starting from Philip</th>\n",
       "  </tr>\n",
       "</table>\n"
      ],
      "text/plain": [
       "<IPython.core.display.HTML object>"
      ]
     },
     "metadata": {},
     "output_type": "display_data"
    }
   ],
   "source": [
    "data_tok.show_batch(rows=2)"
   ]
  },
  {
   "cell_type": "code",
   "execution_count": 66,
   "metadata": {},
   "outputs": [
    {
     "data": {
      "text/html": [
       "<table>  <col width='5%'>  <col width='95%'>  <tr>\n",
       "    <th>idx</th>\n",
       "    <th>text</th>\n",
       "  </tr>\n",
       "  <tr>\n",
       "    <th>0</th>\n",
       "    <th>xxbos = = xxmaj construction</th>\n",
       "  </tr>\n",
       "  <tr>\n",
       "    <th>1</th>\n",
       "    <th>status for the league in</th>\n",
       "  </tr>\n",
       "</table>\n"
      ],
      "text/plain": [
       "<IPython.core.display.HTML object>"
      ]
     },
     "metadata": {},
     "output_type": "display_data"
    }
   ],
   "source": [
    "data_raw.show_batch(rows=2)"
   ]
  },
  {
   "cell_type": "code",
   "execution_count": 41,
   "metadata": {},
   "outputs": [
    {
     "data": {
      "text/plain": [
       "['.', 'of', '<unk>', 'and', 'in', 'to', 'a', '=', '\"', 'was']"
      ]
     },
     "execution_count": 41,
     "metadata": {},
     "output_type": "execute_result"
    }
   ],
   "source": [
    "vocab_tok = data_tok.train_ds.vocab; vocab_tok.itos[10:20]"
   ]
  },
  {
   "cell_type": "code",
   "execution_count": 42,
   "metadata": {},
   "outputs": [
    {
     "data": {
      "text/plain": [
       "['.', 'of', 'and', 'in', 'to', 'a', '=', '\"', 'was', 'on']"
      ]
     },
     "execution_count": 42,
     "metadata": {},
     "output_type": "execute_result"
    }
   ],
   "source": [
    "vocab_raw = data_raw.train_ds.vocab; vocab_raw.itos[10:20]"
   ]
  },
  {
   "cell_type": "code",
   "execution_count": 48,
   "metadata": {},
   "outputs": [
    {
     "data": {
      "text/plain": [
       "['Note',\n",
       " ':',\n",
       " 'Flags',\n",
       " 'indicate',\n",
       " 'national',\n",
       " 'team',\n",
       " 'as',\n",
       " 'defined',\n",
       " 'under',\n",
       " 'FIFA',\n",
       " 'eligibility',\n",
       " 'rules',\n",
       " '.']"
      ]
     },
     "execution_count": 48,
     "metadata": {},
     "output_type": "execute_result"
    }
   ],
   "source": [
    "[vocab_tok.itos[i] for i in tok_ob[0][0]]"
   ]
  },
  {
   "cell_type": "code",
   "execution_count": 45,
   "metadata": {},
   "outputs": [
    {
     "data": {
      "text/plain": [
       "'Note : Flags indicate national team as defined under FIFA eligibility rules .'"
      ]
     },
     "execution_count": 45,
     "metadata": {},
     "output_type": "execute_result"
    }
   ],
   "source": [
    "vocab_tok.textify(tok_ob[0][0])"
   ]
  },
  {
   "cell_type": "code",
   "execution_count": 46,
   "metadata": {},
   "outputs": [
    {
     "data": {
      "text/plain": [
       "'xxbos xxmaj andrew xxmaj johnston'"
      ]
     },
     "execution_count": 46,
     "metadata": {},
     "output_type": "execute_result"
    }
   ],
   "source": [
    "vocab_raw.textify(raw_ob[0][0])"
   ]
  },
  {
   "cell_type": "code",
   "execution_count": null,
   "metadata": {},
   "outputs": [],
   "source": []
  }
 ],
 "metadata": {
  "kernelspec": {
   "display_name": "Python 3",
   "language": "python",
   "name": "python3"
  },
  "language_info": {
   "codemirror_mode": {
    "name": "ipython",
    "version": 3
   },
   "file_extension": ".py",
   "mimetype": "text/x-python",
   "name": "python",
   "nbconvert_exporter": "python",
   "pygments_lexer": "ipython3",
   "version": "3.7.1"
  }
 },
 "nbformat": 4,
 "nbformat_minor": 2
}
