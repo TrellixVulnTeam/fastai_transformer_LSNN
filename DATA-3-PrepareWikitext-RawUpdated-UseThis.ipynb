{
 "cells": [
  {
   "cell_type": "code",
   "execution_count": 2,
   "metadata": {},
   "outputs": [],
   "source": [
    "%reload_ext autoreload\n",
    "%autoreload 2"
   ]
  },
  {
   "cell_type": "code",
   "execution_count": 3,
   "metadata": {},
   "outputs": [],
   "source": [
    "import sys, os, re, csv, codecs, numpy as np, pandas as pd\n",
    "from fastai import *        # Quick accesss to most common functionality\n",
    "from fastai.text import *   # Quick accesss to NLP functionality\n",
    "import html"
   ]
  },
  {
   "cell_type": "code",
   "execution_count": 14,
   "metadata": {},
   "outputs": [],
   "source": [
    "from fastai.text import data"
   ]
  },
  {
   "cell_type": "markdown",
   "metadata": {},
   "source": [
    "Taken from here:  \n",
    "https://gist.github.com/bearpelican/48cd4c505aea7c94e7c1e6e5e24bfac0"
   ]
  },
  {
   "cell_type": "markdown",
   "metadata": {},
   "source": [
    "# Wikitext 103\n",
    "This notebook is for training the language model on most of Wikipedia.  \n",
    "The idea is to create a generalized language model before we fine tune it on a specialized task"
   ]
  },
  {
   "cell_type": "markdown",
   "metadata": {},
   "source": [
    "## Data - Wikitext-103"
   ]
  },
  {
   "cell_type": "markdown",
   "metadata": {},
   "source": [
    "Download the dataset [here](https://s3.amazonaws.com/research.metamind.io/wikitext/wikitext-103-v1.zip) and unzip it so it's in the folder wikitext.\n",
    "\n",
    "Blog:\n",
    "https://einstein.ai/research/blog/the-wikitext-long-term-dependency-language-modeling-dataset\n",
    "\n",
    "Original notebook:\n",
    "https://github.com/fastai/fastai_docs/blob/master/dev_nb/007_wikitext_2.ipynb"
   ]
  },
  {
   "cell_type": "markdown",
   "metadata": {},
   "source": [
    "Small helper function to read the tokens."
   ]
  },
  {
   "cell_type": "code",
   "execution_count": 17,
   "metadata": {},
   "outputs": [],
   "source": [
    "PATH=Path('data/wikitext-103-raw')"
   ]
  },
  {
   "cell_type": "code",
   "execution_count": 5,
   "metadata": {},
   "outputs": [],
   "source": [
    "# download_url('https://s3.amazonaws.com/research.metamind.io/wikitext/wikitext-103-v1.zip', PATH)"
   ]
  },
  {
   "cell_type": "code",
   "execution_count": 18,
   "metadata": {},
   "outputs": [],
   "source": [
    "def read_file(fn:PathOrStr, enc='utf-8'):\n",
    "    \"Read the text in `fn`.\"\n",
    "#     with open(fn,'r', encoding = enc) as f: return ''.join(f.read().splitlines())\n",
    "    tokens = []\n",
    "    with open(fn,'r', encoding = enc) as f: \n",
    "        for line in f.read().splitlines():\n",
    "            l = line.strip()\n",
    "            if len(l) == 0: continue\n",
    "            tokens.append(l.split())\n",
    "    return np.array(tokens)"
   ]
  },
  {
   "cell_type": "code",
   "execution_count": 19,
   "metadata": {},
   "outputs": [],
   "source": [
    "train_tok = read_file(PATH/'wiki.train.raw')\n",
    "valid_tok = read_file(PATH/'wiki.valid.raw')\n",
    "test_tok = read_file(PATH/'wiki.test.raw')"
   ]
  },
  {
   "cell_type": "code",
   "execution_count": 22,
   "metadata": {},
   "outputs": [
    {
     "data": {
      "text/plain": [
       "(1165029, 2461, 2891)"
      ]
     },
     "execution_count": 22,
     "metadata": {},
     "output_type": "execute_result"
    }
   ],
   "source": [
    "len(train_tok), len(valid_tok), len(test_tok)"
   ]
  },
  {
   "cell_type": "code",
   "execution_count": 23,
   "metadata": {
    "scrolled": true
   },
   "outputs": [
    {
     "data": {
      "text/plain": [
       "array([list(['=', 'Valkyria', 'Chronicles', 'III', '=']),\n",
       "       list(['Senjō', 'no', 'Valkyria', '3', ':', 'Unrecorded', 'Chronicles', '(', 'Japanese', ':', '戦場のヴァルキュリア3', ',', 'lit', '.', 'Valkyria', 'of', 'the', 'Battlefield', '3', ')', ',', 'commonly', 'referred', 'to', 'as', 'Valkyria', 'Chronicles', 'III', 'outside', 'Japan', ',', 'is', 'a', 'tactical', 'role', '@-@', 'playing', 'video', 'game', 'developed', 'by', 'Sega', 'and', 'Media.Vision', 'for', 'the', 'PlayStation', 'Portable', '.', 'Released', 'in', 'January', '2011', 'in', 'Japan', ',', 'it', 'is', 'the', 'third', 'game', 'in', 'the', 'Valkyria', 'series', '.', 'Employing', 'the', 'same', 'fusion', 'of', 'tactical', 'and', 'real', '@-@', 'time', 'gameplay', 'as', 'its', 'predecessors', ',', 'the', 'story', 'runs', 'parallel', 'to', 'the', 'first', 'game', 'and', 'follows', 'the', '\"', 'Nameless', '\"', ',', 'a', 'penal', 'military', 'unit', 'serving', 'the', 'nation', 'of', 'Gallia', 'during', 'the', 'Second', 'Europan', 'War', 'who', 'perform', 'secret', 'black', 'operations', 'and', 'are', 'pitted', 'against', 'the', 'Imperial', 'unit', '\"', 'Calamaty', 'Raven', '\"', '.'])],\n",
       "      dtype=object)"
      ]
     },
     "execution_count": 23,
     "metadata": {},
     "output_type": "execute_result"
    }
   ],
   "source": [
    "train_tok[:2][:2]"
   ]
  },
  {
   "cell_type": "code",
   "execution_count": null,
   "metadata": {},
   "outputs": [],
   "source": [
    "path = PATH\n",
    "# processor = data._get_processor(tokenizer=tok, vocab=None, max_vocab=60000)\n",
    "processor = data._get_processor(vocab=None)\n",
    "src = ItemLists(path, TextList(train_tok, path=path, processor=processor),\n",
    "                TextList(valid_tok, path=path, processor=processor))\n",
    "src = src.label_for_lm()\n",
    "if test_tok is not None: src.add_test(TextList(test_tok, path=path))\n",
    "text_data = src.databunch()"
   ]
  },
  {
   "cell_type": "code",
   "execution_count": 17,
   "metadata": {},
   "outputs": [],
   "source": [
    "# text_data = TextLMDataBunch.from_tokens(\n",
    "#     PATH, train_tok, valid_tok, test_tok, None, None)"
   ]
  },
  {
   "cell_type": "code",
   "execution_count": 18,
   "metadata": {},
   "outputs": [],
   "source": [
    "vocab = text_data.train_ds.vocab"
   ]
  },
  {
   "cell_type": "code",
   "execution_count": 19,
   "metadata": {},
   "outputs": [],
   "source": [
    "text_data.save()"
   ]
  },
  {
   "cell_type": "markdown",
   "metadata": {},
   "source": [
    "### Wikitext-2"
   ]
  },
  {
   "cell_type": "code",
   "execution_count": 7,
   "metadata": {},
   "outputs": [],
   "source": [
    "PATH=Path('data/wikitext-2-raw')"
   ]
  },
  {
   "cell_type": "code",
   "execution_count": 8,
   "metadata": {},
   "outputs": [],
   "source": [
    "# download_url('https://s3.amazonaws.com/research.metamind.io/wikitext/wikitext-2-v1.zip', PATH)"
   ]
  },
  {
   "cell_type": "code",
   "execution_count": 9,
   "metadata": {},
   "outputs": [],
   "source": [
    "train_tok = read_file(PATH/'wiki.train.raw')\n",
    "valid_tok = read_file(PATH/'wiki.valid.raw')\n",
    "test_tok = read_file(PATH/'wiki.test.raw')"
   ]
  },
  {
   "cell_type": "code",
   "execution_count": 10,
   "metadata": {},
   "outputs": [
    {
     "data": {
      "text/plain": [
       "array([list(['=', 'Valkyria', 'Chronicles', 'III', '=']),\n",
       "       list(['Senjō', 'no', 'Valkyria', '3', ':', 'Unrecorded', 'Chronicles', '(', 'Japanese', ':', '戦場のヴァルキュリア3', ',', 'lit', '.', 'Valkyria', 'of', 'the', 'Battlefield', '3', ')', ',', 'commonly', 'referred', 'to', 'as', 'Valkyria', 'Chronicles', 'III', 'outside', 'Japan', ',', 'is', 'a', 'tactical', 'role', '@-@', 'playing', 'video', 'game', 'developed', 'by', 'Sega', 'and', 'Media.Vision', 'for', 'the', 'PlayStation', 'Portable', '.', 'Released', 'in', 'January', '2011', 'in', 'Japan', ',', 'it', 'is', 'the', 'third', 'game', 'in', 'the', 'Valkyria', 'series', '.', 'Employing', 'the', 'same', 'fusion', 'of', 'tactical', 'and', 'real', '@-@', 'time', 'gameplay', 'as', 'its', 'predecessors', ',', 'the', 'story', 'runs', 'parallel', 'to', 'the', 'first', 'game', 'and', 'follows', 'the', '\"', 'Nameless', '\"', ',', 'a', 'penal', 'military', 'unit', 'serving', 'the', 'nation', 'of', 'Gallia', 'during', 'the', 'Second', 'Europan', 'War', 'who', 'perform', 'secret', 'black', 'operations', 'and', 'are', 'pitted', 'against', 'the', 'Imperial', 'unit', '\"', 'Calamaty', 'Raven', '\"', '.']),\n",
       "       list(['The', 'game', 'began', 'development', 'in', '2010', ',', 'carrying', 'over', 'a', 'large', 'portion', 'of', 'the', 'work', 'done', 'on', 'Valkyria', 'Chronicles', 'II', '.', 'While', 'it', 'retained', 'the', 'standard', 'features', 'of', 'the', 'series', ',', 'it', 'also', 'underwent', 'multiple', 'adjustments', ',', 'such', 'as', 'making', 'the', 'game', 'more', 'forgiving', 'for', 'series', 'newcomers', '.', 'Character', 'designer', 'Raita', 'Honjou', 'and', 'composer', 'Hitoshi', 'Sakimoto', 'both', 'returned', 'from', 'previous', 'entries', ',', 'along', 'with', 'Valkyria', 'Chronicles', 'II', 'director', 'Takeshi', 'Ozawa', '.', 'A', 'large', 'team', 'of', 'writers', 'handled', 'the', 'script', '.', 'The', 'game', \"'s\", 'opening', 'theme', 'was', 'sung', 'by', 'May', \"'n\", '.']),\n",
       "       list(['It', 'met', 'with', 'positive', 'sales', 'in', 'Japan', ',', 'and', 'was', 'praised', 'by', 'both', 'Japanese', 'and', 'western', 'critics', '.', 'After', 'release', ',', 'it', 'received', 'downloadable', 'content', ',', 'along', 'with', 'an', 'expanded', 'edition', 'in', 'November', 'of', 'that', 'year', '.', 'It', 'was', 'also', 'adapted', 'into', 'manga', 'and', 'an', 'original', 'video', 'animation', 'series', '.', 'Due', 'to', 'low', 'sales', 'of', 'Valkyria', 'Chronicles', 'II', ',', 'Valkyria', 'Chronicles', 'III', 'was', 'not', 'localized', ',', 'but', 'a', 'fan', 'translation', 'compatible', 'with', 'the', 'game', \"'s\", 'expanded', 'edition', 'was', 'released', 'in', '2014', '.', 'Media.Vision', 'would', 'return', 'to', 'the', 'franchise', 'with', 'the', 'development', 'of', 'Valkyria', ':', 'Azure', 'Revolution', 'for', 'the', 'PlayStation', '4', '.']),\n",
       "       ...,\n",
       "       list(['The', 'building', 'and', 'the', 'surrounding', 'park', 'were', 'used', 'for', 'many', 'public', 'purposes', 'throughout', 'the', 'early', '20th', 'century', '.', 'The', 'Tower', 'Building', 'served', 'as', 'headquarters', 'for', 'the', 'United', 'Confederate', 'Veterans', 'Reunion', ',', 'May', '15', '–', '18', ',', '1911', '.', 'Over', '106', '@,@', '000', 'Civil', 'War', 'veterans', ',', 'the', 'largest', 'popular', 'gathering', 'in', 'the', 'history', 'of', 'the', 'city', 'up', 'to', 'that', 'time', ',', 'attended', 'and', 'were', 'housed', 'in', 'the', 'building', 'or', 'camped', 'in', 'the', 'park', ',', 'which', 'had', 'also', 'become', 'a', 'popular', 'camping', 'area', '.', 'Later', 'the', 'building', 'served', 'as', 'an', 'armory', 'for', 'the', 'Arkansas', 'National', 'Guard', '.', 'In', '1912', ',', 'the', 'second', 'floor', 'of', 'the', 'Tower', 'Building', 'became', 'Little', 'Rock', \"'s\", 'first', 'public', 'library', '.', 'In', '1917', ',', 'Little', 'Rock', 'built', 'a', 'fire', 'station', 'in', 'the', 'park', ',', 'that', 'building', 'is', 'now', 'gone', '.', 'A', 'band', 'shell', 'named', 'for', 'H.', 'H.', 'Foster', 'also', 'was', 'built', 'in', 'the', 'park', 'during', 'this', 'time', ',', 'but', 'also', 'no', 'longer', 'exists', '.', 'In', '1936', ',', 'Works', 'Progress', 'Administration', 'built', 'the', 'Museum', 'of', 'Fine', 'Arts', ',', 'now', 'called', 'the', 'Arkansas', 'Arts', 'Center', ',', 'just', 'south', 'of', 'the', 'Tower', 'Building', '.']),\n",
       "       list(['The', 'arsenal', 'was', 'listed', 'in', 'the', 'National', 'Register', 'of', 'Historic', 'Places', 'in', '1970', '.', 'Due', 'to', 'its', 'association', 'with', 'the', 'Camden', 'Expedition', 'of', '1864', ',', 'the', 'arsenal', 'may', 'be', 'included', 'in', 'the', 'Camden', 'Expedition', 'Sites', 'National', 'Historic', 'Landmark', 'designated', 'in', '1994', '.']),\n",
       "       list(['In', '1942', ',', 'the', 'Tower', 'Building', 'was', 'renovated', 'due', 'to', 'the', 'efforts', 'of', 'the', 'Æsthetic', 'Club', ',', 'Little', 'Rock', 'philanthropist', 'Frederick', 'W.', 'Allsop', ',', 'and', 'the', 'Works', 'Progress', 'Administration', '.', 'It', 'became', 'the', 'new', 'home', 'of', 'The', 'Arkansas', 'Museum', 'of', 'Natural', 'History', 'and', 'Antiquities', ',', 'which', 'had', 'been', 'located', 'in', 'Little', 'Rock', 'City', 'Hall', '.', 'The', 'museum', 'remained', 'in', 'the', 'tower', 'building', 'for', 'approximately', 'fifty', '@-@', 'five', 'years', '.', 'The', 'area', 'surrounding', 'the', 'Tower', 'Building', 'had', 'been', 'known', 'as', 'Arsenal', 'Park', 'when', 'the', 'first', 'decommissioned', 'and', 'then', 'later', 'renamed', 'City', 'Park', '.', 'Due', 'to', 'the', 'efforts', 'of', 'Bernie', 'Babcock', ',', 'however', ',', 'the', 'city', 'finally', 'named', 'it', 'MacArthur', 'Park', 'in', '1942', 'in', 'honor', 'of', 'Douglas', 'MacArthur', '.']),\n",
       "       list(['In', '1997', ',', 'the', 'Museum', 'of', 'Science', 'and', 'Natural', 'History', 'merged', 'with', 'the', 'Little', 'Rock', 'Children', \"'s\", 'Museum', ',', 'which', 'had', 'been', 'located', 'in', 'Union', 'Station', ',', 'to', 'form', 'the', 'Arkansas', 'Museum', 'of', 'Discovery', '.', 'The', 'new', 'museum', 'was', 'relocated', 'to', 'a', 'historic', 'building', 'in', 'the', 'Little', 'Rock', 'River', 'Market', 'District', '.', 'The', 'MacArthur', 'Museum', 'of', 'Arkansas', 'Military', 'History', 'opened', 'on', 'May', '19', ',', '2001', 'in', 'the', 'Tower', 'Building', '.', 'The', 'new', 'museum', \"'s\", 'goal', 'is', 'to', 'educate', 'and', 'inform', 'visitors', 'about', 'the', 'military', 'history', 'of', 'Arkansas', ',', 'preserve', 'the', 'Tower', 'Building', ',', 'honor', 'servicemen', 'and', 'servicewomen', 'of', 'the', 'United', 'States', 'and', 'commemorate', 'the', 'birthplace', 'of', 'Douglas', 'MacArthur', '.'])],\n",
       "      dtype=object)"
      ]
     },
     "execution_count": 10,
     "metadata": {},
     "output_type": "execute_result"
    }
   ],
   "source": [
    "train_tok[:100]"
   ]
  },
  {
   "cell_type": "code",
   "execution_count": 11,
   "metadata": {},
   "outputs": [
    {
     "data": {
      "text/plain": [
       "(23767, 2461, 2891)"
      ]
     },
     "execution_count": 11,
     "metadata": {},
     "output_type": "execute_result"
    }
   ],
   "source": [
    "len(train_tok), len(valid_tok), len(test_tok)"
   ]
  },
  {
   "cell_type": "code",
   "execution_count": 12,
   "metadata": {},
   "outputs": [
    {
     "data": {
      "text/plain": [
       "'= = Gameplay = ='"
      ]
     },
     "execution_count": 12,
     "metadata": {},
     "output_type": "execute_result"
    }
   ],
   "source": [
    "' '.join(train_tok[4][:20])"
   ]
  },
  {
   "cell_type": "code",
   "execution_count": 15,
   "metadata": {},
   "outputs": [],
   "source": [
    "path = PATH\n",
    "processor = data._get_processor(vocab=None)\n",
    "src = ItemLists(path, TextList(train_tok, path=path, processor=processor),\n",
    "                TextList(valid_tok, path=path, processor=processor))\n",
    "src = src.label_for_lm()\n",
    "if test_tok is not None: src.add_test(TextList(test_tok, path=path))\n",
    "text_data = src.databunch()"
   ]
  },
  {
   "cell_type": "code",
   "execution_count": 10,
   "metadata": {},
   "outputs": [],
   "source": [
    "# text_data = TextLMDataBunch.from_tokens(\n",
    "#     PATH, train_tok, valid_tok, test_tok, None, None)"
   ]
  },
  {
   "cell_type": "code",
   "execution_count": 16,
   "metadata": {},
   "outputs": [],
   "source": [
    "text_data.save()"
   ]
  },
  {
   "cell_type": "markdown",
   "metadata": {},
   "source": [
    "## Loading data"
   ]
  },
  {
   "cell_type": "code",
   "execution_count": 20,
   "metadata": {},
   "outputs": [],
   "source": [
    "text_data = TextLMDataBunch.load(PATH)"
   ]
  },
  {
   "cell_type": "code",
   "execution_count": 21,
   "metadata": {},
   "outputs": [
    {
     "data": {
      "text/html": [
       "<table>  <col width='5%'>  <col width='95%'>  <tr>\n",
       "    <th>idx</th>\n",
       "    <th>text</th>\n",
       "  </tr>\n",
       "  <tr>\n",
       "    <th>0</th>\n",
       "    <th>xxbos xxmaj loch xxmaj leven xxmaj castle was given in to state care in 1939 , and is now managed by xxmaj historic xxmaj scotland . xxmaj today , the castle can be reached by a xxunk ferry operated from xxmaj kinross by xxmaj historic xxmaj scotland during the summer months . xxmaj the remains of the castle are protected as a xxmaj scheduled xxmaj ancient xxmaj monument , and</th>\n",
       "  </tr>\n",
       "  <tr>\n",
       "    <th>1</th>\n",
       "    <th>raise volunteers to fight with the xxmaj german xxmaj schutzstaffel ( xxup ss ) . xxmaj in xxmaj january , xxup ss head xxmaj heinrich xxmaj himmler travelled to xxmaj norway to oversee preparations . xxmaj quisling clearly believed that if xxmaj norway supported xxmaj nazi xxmaj germany on the battlefield , there would be no reason for xxmaj germany to annex her . xxmaj to this end , he</th>\n",
       "  </tr>\n",
       "  <tr>\n",
       "    <th>2</th>\n",
       "    <th>, through his experimentation with equipment and recording techniques . xxmaj xxunk , assisted by studio manager xxmaj david xxmaj harris , set up microphones an hour before the sessions began . xxmaj xxunk 's microphone choices were mostly different from those used by xxmaj smith to record the xxmaj beatles ' xxup emi sessions . xxmaj because of xxmaj barrett 's quiet voice , he was placed in a</th>\n",
       "  </tr>\n",
       "  <tr>\n",
       "    <th>3</th>\n",
       "    <th>retreating xxmaj germans after the xxmaj first xxmaj battle of the xxmaj marne . xxbos xxmaj empire gave the film 4 out of 5 stars with the verdict , \" xxmaj it ’ s certainly a xxmaj spike xxmaj lee film , but no xxmaj spike xxmaj lee xxmaj joint . xxmaj still , he ’ s delivered a xxunk , vigorous and frequently masterful take on a well -</th>\n",
       "  </tr>\n",
       "  <tr>\n",
       "    <th>4</th>\n",
       "    <th>purposes expressed as hcl , is estimated at 20 xxmaj mt / year , with 3 xxmaj mt / year from direct synthesis , and the rest as secondary product from organic and similar xxunk . xxmaj by far , most hydrochloric acid is consumed xxunk by the producer . xxmaj the open world market size is estimated at 5 xxmaj mt / year . xxbos xxmaj the failure of</th>\n",
       "  </tr>\n",
       "</table>\n"
      ],
      "text/plain": [
       "<IPython.core.display.HTML object>"
      ]
     },
     "metadata": {},
     "output_type": "display_data"
    }
   ],
   "source": [
    "text_data.show_batch()"
   ]
  },
  {
   "cell_type": "code",
   "execution_count": null,
   "metadata": {},
   "outputs": [],
   "source": []
  }
 ],
 "metadata": {
  "kernelspec": {
   "display_name": "Python 3",
   "language": "python",
   "name": "python3"
  },
  "language_info": {
   "codemirror_mode": {
    "name": "ipython",
    "version": 3
   },
   "file_extension": ".py",
   "mimetype": "text/x-python",
   "name": "python",
   "nbconvert_exporter": "python",
   "pygments_lexer": "ipython3",
   "version": "3.7.1"
  }
 },
 "nbformat": 4,
 "nbformat_minor": 2
}
