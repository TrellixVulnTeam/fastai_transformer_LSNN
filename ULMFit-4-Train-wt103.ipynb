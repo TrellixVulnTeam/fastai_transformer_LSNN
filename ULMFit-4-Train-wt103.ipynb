{
 "cells": [
  {
   "cell_type": "code",
   "execution_count": 1,
   "metadata": {},
   "outputs": [],
   "source": [
    "%reload_ext autoreload\n",
    "%autoreload 2"
   ]
  },
  {
   "cell_type": "code",
   "execution_count": 2,
   "metadata": {},
   "outputs": [],
   "source": [
    "import sys, os, re, csv, codecs, numpy as np, pandas as pd\n",
    "from fastai import *        # Quick accesss to most common functionality\n",
    "from fastai.text import *   # Quick accesss to NLP functionality\n",
    "import html"
   ]
  },
  {
   "cell_type": "markdown",
   "metadata": {},
   "source": [
    "## Data"
   ]
  },
  {
   "cell_type": "markdown",
   "metadata": {},
   "source": [
    "## Loading data"
   ]
  },
  {
   "cell_type": "code",
   "execution_count": 3,
   "metadata": {},
   "outputs": [],
   "source": [
    "PATH=Path('data/wikitext-103-raw')"
   ]
  },
  {
   "cell_type": "code",
   "execution_count": 4,
   "metadata": {},
   "outputs": [],
   "source": [
    "data = TextLMDataBunch.load(PATH)"
   ]
  },
  {
   "cell_type": "code",
   "execution_count": 5,
   "metadata": {},
   "outputs": [],
   "source": [
    "learn = language_model_learner(data, clip=0.2)"
   ]
  },
  {
   "cell_type": "code",
   "execution_count": 9,
   "metadata": {},
   "outputs": [],
   "source": [
    "# learn.opt_fn = partial(optim.Adam, betas=(0.8,0.99))\n",
    "# learn.callback_fns.extend([partial(GradientClipping, clip=0.12)])"
   ]
  },
  {
   "cell_type": "code",
   "execution_count": 6,
   "metadata": {},
   "outputs": [],
   "source": [
    "epoch = 1\n",
    "lr = 1e-3\n",
    "momentum = (0.8,0.7)\n",
    "weight_decay = 1.2e-6"
   ]
  },
  {
   "cell_type": "code",
   "execution_count": null,
   "metadata": {
    "scrolled": true
   },
   "outputs": [
    {
     "data": {
      "text/html": [
       "\n",
       "    <div>\n",
       "        <style>\n",
       "            /* Turns off some styling */\n",
       "            progress {\n",
       "                /* gets rid of default border in Firefox and Opera. */\n",
       "                border: none;\n",
       "                /* Needs to be in here for Safari polyfill so background images work as expected. */\n",
       "                background-size: auto;\n",
       "            }\n",
       "            .progress-bar-interrupted, .progress-bar-interrupted::-webkit-progress-bar {\n",
       "                background: #F44336;\n",
       "            }\n",
       "        </style>\n",
       "      <progress value='0' class='' max='1', style='width:300px; height:20px; vertical-align: middle;'></progress>\n",
       "      0.00% [0/1 00:00<00:00]\n",
       "    </div>\n",
       "    \n",
       "<table style='width:300px; margin-bottom:10px'>\n",
       "  <tr>\n",
       "    <th>epoch</th>\n",
       "    <th>train_loss</th>\n",
       "    <th>valid_loss</th>\n",
       "    <th>accuracy</th>\n",
       "  </tr>\n",
       "</table>\n",
       "\n",
       "\n",
       "    <div>\n",
       "        <style>\n",
       "            /* Turns off some styling */\n",
       "            progress {\n",
       "                /* gets rid of default border in Firefox and Opera. */\n",
       "                border: none;\n",
       "                /* Needs to be in here for Safari polyfill so background images work as expected. */\n",
       "                background-size: auto;\n",
       "            }\n",
       "            .progress-bar-interrupted, .progress-bar-interrupted::-webkit-progress-bar {\n",
       "                background: #F44336;\n",
       "            }\n",
       "        </style>\n",
       "      <progress value='12493' class='' max='26527', style='width:300px; height:20px; vertical-align: middle;'></progress>\n",
       "      47.10% [12493/26527 49:38<55:45 4.0965]\n",
       "    </div>\n",
       "    "
      ],
      "text/plain": [
       "<IPython.core.display.HTML object>"
      ]
     },
     "metadata": {},
     "output_type": "display_data"
    }
   ],
   "source": [
    "learn.fit_one_cycle(epoch, lr, moms=momentum, wd=weight_decay)"
   ]
  },
  {
   "cell_type": "code",
   "execution_count": null,
   "metadata": {},
   "outputs": [],
   "source": [
    "learn.recorder.plot_losses()"
   ]
  },
  {
   "cell_type": "code",
   "execution_count": null,
   "metadata": {},
   "outputs": [],
   "source": [
    "learn.save('lstm_wt103')"
   ]
  },
  {
   "cell_type": "markdown",
   "metadata": {},
   "source": [
    "### Testing (for fun)"
   ]
  },
  {
   "cell_type": "code",
   "execution_count": null,
   "metadata": {},
   "outputs": [],
   "source": [
    "learn.load('lstm_wt103'); learn.model.eval();"
   ]
  },
  {
   "cell_type": "code",
   "execution_count": 16,
   "metadata": {},
   "outputs": [],
   "source": [
    "x_str = \"The online encyclopedia project Wikipedia is the most popular wiki-based website, and is\""
   ]
  },
  {
   "cell_type": "code",
   "execution_count": 17,
   "metadata": {},
   "outputs": [],
   "source": [
    "pred_out = learn.predict(x_str, n_words=500)"
   ]
  },
  {
   "cell_type": "code",
   "execution_count": 18,
   "metadata": {},
   "outputs": [
    {
     "data": {
      "text/plain": [
       "'The online encyclopedia project Wikipedia is the most popular wiki-based website, and is placed in 1965 on xxup cbs , xxmaj israel , xxmaj michigan , and xxmaj guatemala . xxbos = = = xxmaj losses = = = xxbos xxmaj the xxmaj assembly xxmaj rooms of the xxmaj state of xxmaj maryland established in the israel being located outside the parish \\'s adjoining mud industry from the summer of 1656 to 1890s . xxmaj their survey novels xxmaj john xxmaj berlin and the local historian xxmaj peter xxmaj baker intracellular offerings in the city \\'s parliament , including the city of xxmaj westminster . xxmaj the xxmaj archaeology of xxmaj fine xxmaj arts and the xxmaj removes xxmaj tooth of the xxmaj old xxmaj king , the xxmaj ancient xxmaj society des xxmaj san xxmaj francisco , who was known as the xxmaj city of xxmaj london , volunteered for legal popularity . xxmaj one collection of constitution speaks of xxmaj oldham , with aim of archaeology , describes its grasp and power to improve the attention of the museum . xxbos = = = xxmaj pursuing xxmaj free xxmaj state = = = xxbos xxmaj the administration moved from the xxmaj post xxmaj office company funds in xxmaj june 1941 to marry the xxmaj incumbent xxmaj department of xxmaj staff is opposed to the constitution . xxmaj the three shop residents often granted money to fund chapters , allowing xxmaj pennsylvania to return to the government chosen for the funds of the program . xxmaj the xxmaj canadian xxmaj red xxmaj cross commented that the xxup missionaries \\'s xxmaj tactics xxmaj bandicoot xxmaj committee would have demanded an entire plotting and stated that the new rights would be responsible for support xxmaj ali xxmaj kusanagi on the campaign . xxmaj the group also stated that \" after we were kusanagi and distract the puppet \" , they could not publish the results by tenths of them . xxmaj to suggest that two deadly patrons had been single to share in the paper number , xxmaj gordon abandoned the idea , deep to the concrete centre , and explained the original was \" kidnapped \" . xxmaj his photograph at the time was well established , and xxmaj weir explained — \" i make a section of my action disadvantages , i endeavor it \\' , largely \" . xxmaj wilde was also signed to present the camp , over which he protected the new - name company \\'s successor xxmaj paul xxmaj romero , who would match the pint quality of a new dissenting wrought critically called \" xxmaj salary xxmaj down \" . xxmaj innis died in recognition of the management \\'s membership , and was a xxup ghq member of the xxmaj 1947 xxmaj cabinet until the 1968 election . xxbos xxmaj named as kitsune , can be described as tend in the ground . xxmaj grade and age of piano stores are mentioned in the expansion of high school - colored bodies , observed , and meaning .'"
      ]
     },
     "execution_count": 18,
     "metadata": {},
     "output_type": "execute_result"
    }
   ],
   "source": [
    "pred_out"
   ]
  }
 ],
 "metadata": {
  "kernelspec": {
   "display_name": "Python 3",
   "language": "python",
   "name": "python3"
  },
  "language_info": {
   "codemirror_mode": {
    "name": "ipython",
    "version": 3
   },
   "file_extension": ".py",
   "mimetype": "text/x-python",
   "name": "python",
   "nbconvert_exporter": "python",
   "pygments_lexer": "ipython3",
   "version": "3.7.1"
  }
 },
 "nbformat": 4,
 "nbformat_minor": 2
}
