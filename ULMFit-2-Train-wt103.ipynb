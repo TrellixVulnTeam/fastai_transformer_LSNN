{
 "cells": [
  {
   "cell_type": "code",
   "execution_count": 1,
   "metadata": {},
   "outputs": [],
   "source": [
    "%reload_ext autoreload\n",
    "%autoreload 2"
   ]
  },
  {
   "cell_type": "code",
   "execution_count": 2,
   "metadata": {},
   "outputs": [],
   "source": [
    "import sys, os, re, csv, codecs, numpy as np, pandas as pd\n",
    "from fastai import *        # Quick accesss to most common functionality\n",
    "from fastai.text import *   # Quick accesss to NLP functionality\n",
    "import html"
   ]
  },
  {
   "cell_type": "markdown",
   "metadata": {},
   "source": [
    "## Data"
   ]
  },
  {
   "cell_type": "markdown",
   "metadata": {},
   "source": [
    "## Loading data"
   ]
  },
  {
   "cell_type": "code",
   "execution_count": 3,
   "metadata": {},
   "outputs": [],
   "source": [
    "PATH=Path('data/wikitext-103')"
   ]
  },
  {
   "cell_type": "code",
   "execution_count": null,
   "metadata": {},
   "outputs": [],
   "source": [
    "bs = 64\n",
    "bptt = 70"
   ]
  },
  {
   "cell_type": "code",
   "execution_count": null,
   "metadata": {},
   "outputs": [],
   "source": [
    "data = TextLMDataBunch.load(PATH, bs=bs, bptt=bptt)"
   ]
  },
  {
   "cell_type": "code",
   "execution_count": 5,
   "metadata": {},
   "outputs": [],
   "source": [
    "learn = language_model_learner(data, clip=0.2)"
   ]
  },
  {
   "cell_type": "code",
   "execution_count": 9,
   "metadata": {},
   "outputs": [],
   "source": [
    "# learn.opt_fn = partial(optim.Adam, betas=(0.8,0.99))\n",
    "# learn.callback_fns.extend([partial(GradientClipping, clip=0.12)])"
   ]
  },
  {
   "cell_type": "code",
   "execution_count": 6,
   "metadata": {},
   "outputs": [],
   "source": [
    "epoch = 1\n",
    "lr = 1e-3\n",
    "momentum = (0.8,0.7)\n",
    "weight_decay = 1.2e-6"
   ]
  },
  {
   "cell_type": "code",
   "execution_count": 7,
   "metadata": {
    "scrolled": true
   },
   "outputs": [
    {
     "data": {
      "text/html": [
       "Total time: 1:45:11 <p><table style='width:300px; margin-bottom:10px'>\n",
       "  <tr>\n",
       "    <th>epoch</th>\n",
       "    <th>train_loss</th>\n",
       "    <th>valid_loss</th>\n",
       "    <th>accuracy</th>\n",
       "  </tr>\n",
       "  <tr>\n",
       "    <th>1</th>\n",
       "    <th>3.949853</th>\n",
       "    <th>3.688789</th>\n",
       "    <th>0.371008</th>\n",
       "  </tr>\n",
       "</table>\n"
      ],
      "text/plain": [
       "<IPython.core.display.HTML object>"
      ]
     },
     "metadata": {},
     "output_type": "display_data"
    }
   ],
   "source": [
    "learn.fit_one_cycle(epoch, lr, moms=momentum, wd=weight_decay)"
   ]
  },
  {
   "cell_type": "code",
   "execution_count": 8,
   "metadata": {},
   "outputs": [
    {
     "data": {
      "image/png": "[encoded data removed]",
      "text/plain": [
       "<Figure size 432x288 with 1 Axes>"
      ]
     },
     "metadata": {
      "needs_background": "light"
     },
     "output_type": "display_data"
    }
   ],
   "source": [
    "learn.recorder.plot_losses()"
   ]
  },
  {
   "cell_type": "code",
   "execution_count": 9,
   "metadata": {},
   "outputs": [],
   "source": [
    "learn.save('lstm_wt103')"
   ]
  },
  {
   "cell_type": "markdown",
   "metadata": {},
   "source": [
    "### Testing (for fun)"
   ]
  },
  {
   "cell_type": "code",
   "execution_count": 12,
   "metadata": {},
   "outputs": [],
   "source": [
    "learn.load('lstm_wt103'); learn.model.eval();"
   ]
  },
  {
   "cell_type": "code",
   "execution_count": 13,
   "metadata": {},
   "outputs": [],
   "source": [
    "x_str = \"The online encyclopedia project Wikipedia is the most popular wiki-based website, and is\""
   ]
  },
  {
   "cell_type": "code",
   "execution_count": 14,
   "metadata": {},
   "outputs": [],
   "source": [
    "pred_out = learn.predict(x_str, n_words=500)"
   ]
  },
  {
   "cell_type": "code",
   "execution_count": 15,
   "metadata": {},
   "outputs": [
    {
     "data": {
      "text/plain": [
       "'The online encyclopedia project Wikipedia is the most popular wiki-based website, and is an influence on the xxmaj winter xxmaj olympics for finishing necessities under the active organization of the goodwill season . xxmaj architecture is both a part of the xxmaj central xxmaj central xxmaj series , an action organising system which is televised in 2011 . xxmaj once xxmaj mill xxmaj county xxmaj jail has a working 2013 xxmaj london xxmaj university weekend , the xxmaj partnership has ended soloist wills given on the xxup list as far back as 2016 . xxbos xxmaj while many of her thousands extent it ended with fruits in the xxmaj cottages and xxmaj hobby structures . xxbos = xxmaj shadows ( 2012 puzzles ) = xxbos xxmaj discovery : xxmaj domestic form is law student ( xxup a- ) . xxmaj the gu is the registry of the xxmaj highest for marriage , which allows tony to enjoy money , and have fourteen months of tolerate joining with children . a search can be read and characterized by a member fountain . xxmaj the garden is armored , with concentric knees and slides without their horizontal ears , common shoes and imagine while all female adults along with the communion all only complete their hooked parts . xxbos xxmaj the race finished on 28 xxmaj january 1996 at the age of 19 , when the xxmaj newfoundland and xxmaj irish xxmaj indians themselves began to climb , and they were playing six times for the second time . xxmaj at xxmaj kurt xxmaj busch xxmaj international xxmaj airport , and wing climb for the 2000 xxmaj pacific xxmaj coast xxmaj championships on 7 xxmaj may , they formed an xxmaj ice xxmaj goods xxmaj mfr that had leading them up to xxmaj smoke xxup xi . xxmaj dreadnoughts were inserted into the crowd atop the underneath temporarily . xxmaj the editing was duets with xxmaj endless and xxmaj will xxmaj tongue who were attacking xxmaj autopilot and w. xxmaj foremost , michael xxmaj mackintosh . xxbos = = xxmaj short 03 and 3 : 20 xxup utc = = xxbos xxmaj the relationship between xxmaj anatomy and xxmaj angela and the xxmaj image was planned for xxmaj voyager 18 and a series of locations in xxmaj north xxmaj america , and it was not possible for the character to pay alcohol and breathing . xxmaj stefani \\'s uncle xxmaj linda , who suggested that she xxmaj mutation of xxmaj jura and xxmaj seasons in xxmaj black xxmaj lion \\'s rival , likened her to xxmaj a. xxmaj oscar xxmaj thomas of xxmaj the xxmaj times and xxmaj thrasher from her memoir , xxmaj about xxmaj sci - xxmaj fi ( 1989 ) . xxbos xxmaj later that month , xxup fbi special agent xxmaj kennedy xxmaj wright ( xxmaj david xxmaj duchovny ) attempted to express xxmaj carter \\'s plot quickly with the series \\' long ending , \" xxmaj the xxmaj dr. \" xxmaj mulder insists he should help him the worst of'"
      ]
     },
     "execution_count": 15,
     "metadata": {},
     "output_type": "execute_result"
    }
   ],
   "source": [
    "pred_out"
   ]
  },
  {
   "cell_type": "code",
   "execution_count": null,
   "metadata": {},
   "outputs": [],
   "source": []
  }
 ],
 "metadata": {
  "kernelspec": {
   "display_name": "Python 3",
   "language": "python",
   "name": "python3"
  },
  "language_info": {
   "codemirror_mode": {
    "name": "ipython",
    "version": 3
   },
   "file_extension": ".py",
   "mimetype": "text/x-python",
   "name": "python",
   "nbconvert_exporter": "python",
   "pygments_lexer": "ipython3",
   "version": "3.7.1"
  }
 },
 "nbformat": 4,
 "nbformat_minor": 2
}
