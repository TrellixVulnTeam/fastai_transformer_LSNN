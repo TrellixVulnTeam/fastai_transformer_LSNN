{
 "cells": [
  {
   "cell_type": "markdown",
   "metadata": {},
   "source": [
    "# Tokenize and save data"
   ]
  },
  {
   "cell_type": "markdown",
   "metadata": {},
   "source": [
    "Data borrowed from here: https://github.com/mcleavey/musical-neural-net/  \n",
    "http://www.christinemcleavey.com/files/notewise_piano_solo.tar.gz  \n",
    "http://www.christinemcleavey.com/files/jazz.tar.gz  \n",
    "http://www.christinemcleavey.com/files/notewise_chamber.tar.gz  \n",
    "\n",
    "Notebook is a combined implementation from:\n",
    "https://github.com/fastai/course-v3/blob/master/nbs/dl1/lesson3-imdb.ipynb  \n",
    "https://github.com/mcleavey/musical-neural-net/blob/master/train.py"
   ]
  },
  {
   "cell_type": "code",
   "execution_count": 1,
   "metadata": {},
   "outputs": [],
   "source": [
    "%reload_ext autoreload\n",
    "%autoreload 2\n",
    "%matplotlib inline"
   ]
  },
  {
   "cell_type": "code",
   "execution_count": 2,
   "metadata": {},
   "outputs": [],
   "source": [
    "from fastai.text import *"
   ]
  },
  {
   "cell_type": "markdown",
   "metadata": {},
   "source": [
    "## Preparing the data"
   ]
  },
  {
   "cell_type": "code",
   "execution_count": 3,
   "metadata": {},
   "outputs": [],
   "source": [
    "class MusicTokenizer():\n",
    "    def __init__(self):\n",
    "        super().__init__()\n",
    "        self.n_cpus = num_cpus()\n",
    "        \n",
    "    def process_text(self, t:str) -> List[str]:\n",
    "        return t.split(\" \")\n",
    "    \n",
    "    def _process_all_1(self, texts:Collection[str]) -> List[List[str]]:\n",
    "        return [self.process_text(t) for t in texts]\n",
    "\n",
    "    def process_all(self, texts:Collection[str]) -> List[List[str]]:\n",
    "        \"Process a list of `texts`.\"\n",
    "        if self.n_cpus <= 1: return self._process_all_1(texts)\n",
    "        with ProcessPoolExecutor(self.n_cpus) as e:\n",
    "            return sum(e.map(self._process_all_1, partition_by_cores(texts, self.n_cpus)), [])\n"
   ]
  },
  {
   "cell_type": "code",
   "execution_count": 4,
   "metadata": {},
   "outputs": [
    {
     "data": {
      "text/plain": [
       "[PosixPath('data/composers/notewise/piano_solo/note_range62/sample_freq12/jazz'),\n",
       " PosixPath('data/composers/notewise/piano_solo/note_range62/sample_freq12/ravel'),\n",
       " PosixPath('data/composers/notewise/piano_solo/note_range62/sample_freq12/bach'),\n",
       " PosixPath('data/composers/notewise/piano_solo/note_range62/sample_freq12/schumann'),\n",
       " PosixPath('data/composers/notewise/piano_solo/note_range62/sample_freq12/liszt')]"
      ]
     },
     "execution_count": 4,
     "metadata": {},
     "output_type": "execute_result"
    }
   ],
   "source": [
    "path = Path('data/composers/notewise/piano_solo/note_range62/sample_freq12')\n",
    "path.ls()[:5]"
   ]
  },
  {
   "cell_type": "code",
   "execution_count": 5,
   "metadata": {},
   "outputs": [],
   "source": [
    "bs=32"
   ]
  },
  {
   "cell_type": "code",
   "execution_count": 6,
   "metadata": {},
   "outputs": [
    {
     "data": {
      "text/plain": [
       "(1797, 94, 158)"
      ]
     },
     "execution_count": 6,
     "metadata": {},
     "output_type": "execute_result"
    }
   ],
   "source": [
    "if (path/'tmp/itos.pkl').exists():\n",
    "# if False:\n",
    "    data = TextLMDataBunch.load(path, bs=bs)\n",
    "else:\n",
    "    p = [OpenFileProcessor(), TokenizeProcessor(tokenizer=MusicTokenizer(), chunksize=10), NumericalizeProcessor(vocab=None, max_vocab=500)]\n",
    "\n",
    "    data = (TextList.from_folder(path, recurse=True, processor=p)\n",
    "            .random_split_by_pct(0.05, seed=6)\n",
    "            .label_for_lm()\n",
    "            .databunch(bs=bs))\n",
    "    data.save('tmp')\n",
    "vocab = data.train_ds.vocab\n",
    "len(data.train_ds), len(data.valid_ds), len(data.train_ds.vocab.itos)"
   ]
  },
  {
   "cell_type": "code",
   "execution_count": 7,
   "metadata": {},
   "outputs": [
    {
     "data": {
      "text/plain": [
       "('xxbos wait25 wait25 wait25 wait25 wait25 wait25 wa',\n",
       " array([  2, 124, 124, 124, ...,   9, 105,   9, 157]))"
      ]
     },
     "execution_count": 7,
     "metadata": {},
     "output_type": "execute_result"
    }
   ],
   "source": [
    "t = data.train_ds[0][0]\n",
    "t.text[:50], t.data"
   ]
  },
  {
   "cell_type": "code",
   "execution_count": 8,
   "metadata": {},
   "outputs": [
    {
     "data": {
      "text/html": [
       "<table>  <col width='5%'>  <col width='95%'>  <tr>\n",
       "    <th>idx</th>\n",
       "    <th>text</th>\n",
       "  </tr>\n",
       "  <tr>\n",
       "    <th>0</th>\n",
       "    <th>xxbos p21 p28 p36 wait7 endp36 wait2 p29 p36 wait6 endp28 wait25 endp29 endp36 wait1 endp21 wait1 p28 wait2 p27 endp28 wait2 endp27 wait2 p20 p28 wait18 p29 p35 wait14 endp28 wait6 endp29 endp35 wait2 p28 wait5 endp28 wait2 endp20 wait1 p19 p28 wait7 endp28 wait4 endp19 wait7 p40 p47 wait2 p35 p36 p43 wait2 endp43 wait9 endp35 wait2 endp40 endp47 wait2 endp36 wait5 p33 p36 p40 p45 wait2 endp33</th>\n",
       "  </tr>\n",
       "  <tr>\n",
       "    <th>1</th>\n",
       "    <th>p24 wait8 endp24 wait4 p24 wait5 endp24 wait1 p20 wait3 endp20 wait3 p20 wait1 endp34 wait1 endp25 endp30 wait4 p36 wait2 endp20 endp36 wait4 p13 p20 p24 endp24 p28 p31 p36 wait2 endp28 endp31 endp36 wait1 endp20 wait3 p22 p27 p32 p37 wait2 endp32 endp37 wait1 endp22 endp27 wait3 p13 p23 p28 p32 wait2 endp23 wait4 p23 endp23 wait1 endp13 wait1 endp28 wait4 p6 p22 p28 wait6 p13 wait1 endp22</th>\n",
       "  </tr>\n",
       "  <tr>\n",
       "    <th>2</th>\n",
       "    <th>wait1 endp27 wait2 endp34 wait1 p39 p43 wait3 endp39 endp43 wait2 p22 p27 p31 wait3 endp22 endp27 endp31 wait1 endp19 wait2 p34 wait2 endp34 wait2 endp46 wait2 p39 endp39 p43 endp43 wait9 p14 p38 wait6 p26 wait1 endp14 wait2 endp26 wait1 p33 wait1 endp38 wait3 p7 p19 p39 wait1 endp33 wait2 endp7 wait1 p27 wait1 endp19 wait2 endp27 wait3 p34 wait3 endp34 p43 wait6 p27 wait1 endp43 wait1 endp27 wait1</th>\n",
       "  </tr>\n",
       "  <tr>\n",
       "    <th>3</th>\n",
       "    <th>p4 p35 wait3 endp35 wait1 p32 wait2 endp16 wait1 endp4 p9 endp32 p33 wait6 p12 wait1 endp9 wait6 endp12 wait2 p16 wait6 p21 wait1 endp16 wait5 endp33 wait1 endp21 wait1 p9 p16 p40 wait7 endp40 p45 wait6 p9 p21 wait1 endp16 wait4 endp45 wait1 p36 wait3 p35 endp36 wait3 p33 endp35 wait2 endp9 endp21 wait1 p20 p23 endp33 p35 wait4 p44 wait1 endp35 wait2 endp44 wait1 p47 wait7 p16 p20</th>\n",
       "  </tr>\n",
       "  <tr>\n",
       "    <th>4</th>\n",
       "    <th>endp52 endp56 wait6 p44 p47 p52 p56 wait1 p23 p28 p32 p35 wait3 endp35 wait2 endp28 endp32 wait2 endp47 endp56 wait1 endp23 wait2 endp44 endp52 wait14 p4 wait2 endp4 wait10 p52 wait3 p24 p28 p31 p36 p40 wait2 endp24 endp28 endp31 endp36 endp40 endp52 wait6 p24 endp24 p28 p31 p36 p40 p50 wait2 endp28 endp31 endp36 wait1 endp40 endp50 wait4 p24 endp24 p28 p31 p36 p40 p48 wait2 endp28 endp31</th>\n",
       "  </tr>\n",
       "</table>\n"
      ],
      "text/plain": [
       "<IPython.core.display.HTML object>"
      ]
     },
     "metadata": {},
     "output_type": "display_data"
    }
   ],
   "source": [
    "data.show_batch()"
   ]
  }
 ],
 "metadata": {
  "kernelspec": {
   "display_name": "Python 3",
   "language": "python",
   "name": "python3"
  },
  "language_info": {
   "codemirror_mode": {
    "name": "ipython",
    "version": 3
   },
   "file_extension": ".py",
   "mimetype": "text/x-python",
   "name": "python",
   "nbconvert_exporter": "python",
   "pygments_lexer": "ipython3",
   "version": "3.7.1"
  }
 },
 "nbformat": 4,
 "nbformat_minor": 2
}
