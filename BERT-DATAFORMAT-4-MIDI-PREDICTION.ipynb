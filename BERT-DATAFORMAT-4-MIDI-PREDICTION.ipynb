{
 "cells": [
  {
   "cell_type": "markdown",
   "metadata": {},
   "source": [
    "# Attention Architecture"
   ]
  },
  {
   "cell_type": "code",
   "execution_count": 1,
   "metadata": {},
   "outputs": [],
   "source": [
    "%reload_ext autoreload\n",
    "%autoreload 2\n",
    "%matplotlib inline"
   ]
  },
  {
   "cell_type": "code",
   "execution_count": 2,
   "metadata": {},
   "outputs": [
    {
     "name": "stdout",
     "output_type": "stream",
     "text": [
      "Better speed can be achieved with apex installed from https://www.github.com/nvidia/apex.\n"
     ]
    }
   ],
   "source": [
    "from fastai.text import *\n",
    "import bert"
   ]
  },
  {
   "cell_type": "code",
   "execution_count": 3,
   "metadata": {},
   "outputs": [],
   "source": [
    "bs=64\n",
    "bptt=512"
   ]
  },
  {
   "cell_type": "code",
   "execution_count": 4,
   "metadata": {},
   "outputs": [],
   "source": [
    "# PATH=Path('data/wikitext-2-raw')\n",
    "# PATH = Path('../midi_generator/data/composers/notewise/piano_solo/note_range62/sample_freq12')\n",
    "PATH = Path('data/composers/notewise/piano_solo/note_range62/sample_freq12')\n",
    "# data = TextLMDataBunch.load(PATH, cache_name='tmp_nocap', bs=bs, bptt=bptt)"
   ]
  },
  {
   "cell_type": "code",
   "execution_count": 5,
   "metadata": {},
   "outputs": [],
   "source": [
    "def __maskgetitem__(self, k:int):\n",
    "    if self.item is not None: return self.dataset[0]\n",
    "    if not hasattr(self, 'idxs'): self.on_epoch_begin()\n",
    "    #The dataloader will send (batch_index) * bs + sample_index, converting to where to read in the stream \n",
    "    read_idx = (k//self.bs) * self.bptt\n",
    "    i = read_idx  + (k % self.bs) * self.n \n",
    "    seq_len = min(self.bptt, self.n-read_idx-1)\n",
    "    #Getting the indexes of the texts that start and finish the portion i---i+seq_len in the stream \n",
    "    start,end = np.argmax(self.text_idx >= i)-1,np.argmin(self.text_idx <= i+seq_len+1)\n",
    "    start = max(0,start)\n",
    "    if end == 0: end = len(self.idxs) # (AS) sometimes end is 0\n",
    "    #Grabbing the texts we need in the dataset\n",
    "    if self.backwards: concat = np.concatenate([self.dataset.x.items[j][::-1] for j in self.idxs[start:end]])\n",
    "    else: concat = np.concatenate([self.dataset.x.items[j] for j in self.idxs[start:end]])\n",
    "    #Returning the right portion.\n",
    "    start_idx = i-self.text_idx[start]\n",
    "    return mask_input_np(concat[start_idx:start_idx+seq_len])"
   ]
  },
  {
   "cell_type": "code",
   "execution_count": 6,
   "metadata": {},
   "outputs": [],
   "source": [
    "path = PATH\n",
    "# cache_name='tmp_nocap'"
   ]
  },
  {
   "cell_type": "code",
   "execution_count": 7,
   "metadata": {},
   "outputs": [],
   "source": [
    "LanguageModelPreLoader.__getitem__ = __maskgetitem__"
   ]
  },
  {
   "cell_type": "code",
   "execution_count": 8,
   "metadata": {},
   "outputs": [
    {
     "name": "stdout",
     "output_type": "stream",
     "text": [
      "You can deactivate this warning by passing `no_check=True`.\n"
     ]
    },
    {
     "name": "stderr",
     "output_type": "stream",
     "text": [
      "/home/ubuntu/fastai/fastai/basic_data.py:215: UserWarning: There seems to be something wrong with your dataset, can't access self.train_ds[i] for all i in [0, 1, 2, 3, 4, 5, 6, 7, 8, 9, 10, 11, 12, 13, 14, 15, 16, 17, 18, 19, 20, 21, 22, 23, 24, 25, 26, 27, 28, 29, 30, 31, 32, 33, 34, 35, 36, 37, 38, 39, 40, 41, 42, 43, 44, 45, 46, 47, 48, 49, 50, 51, 52, 53, 54, 55, 56, 57, 58, 59, 60, 61, 62, 63]\n",
      "  warn(f\"There seems to be something wrong with your dataset, can't access self.train_ds[i] for all i in {idx}\")\n"
     ]
    }
   ],
   "source": [
    "data = TextLMDataBunch.load(PATH, bs=bs, bptt=bptt)"
   ]
  },
  {
   "cell_type": "code",
   "execution_count": 9,
   "metadata": {},
   "outputs": [
    {
     "data": {
      "text/plain": [
       "158"
      ]
     },
     "execution_count": 9,
     "metadata": {},
     "output_type": "execute_result"
    }
   ],
   "source": [
    "vocab = data.train_ds.vocab\n",
    "vocab_size = len(vocab.itos); vocab_size"
   ]
  },
  {
   "cell_type": "code",
   "execution_count": 10,
   "metadata": {},
   "outputs": [],
   "source": [
    "MASK = 'xxfld'\n",
    "MASK_IDX = vocab.stoi[MASK]\n",
    "spec_tok_len = len(defaults.text_spec_tok)\n",
    "vocab_size = len(vocab.stoi)\n",
    "def mask_input(x):\n",
    "    y = x.clone()\n",
    "    rand = torch.rand(x.shape)\n",
    "    y[rand > .15] = -1\n",
    "    x[rand <= (.15*.8)] = MASK_IDX # 80% = mask\n",
    "    wrong_word = (rand > (.15*.8)) & (rand <= .15*.9) # 10% = wrong word\n",
    "    x[wrong_word] = torch.randint(spec_tok_len, vocab_size, [wrong_word.sum().item()])\n",
    "    return x,y\n",
    "\n",
    "def mask_input_np(x, mask_last=True):\n",
    "    # always mask last one to train model to predict next word (for language modeling)\n",
    "    x = x.copy()\n",
    "    y = x.copy()\n",
    "    rand = np.random.rand(*x.shape)\n",
    "    pct = .2\n",
    "    if mask_last:\n",
    "        rand[-1] *= pct\n",
    "    y[rand > pct] = -1\n",
    "    x[rand <= (pct*.8)] = MASK_IDX # 80% = mask\n",
    "    wrong_word = (rand > (pct*.8)) & (rand <= pct*.9) # 10% = wrong word\n",
    "    x[wrong_word] = np.random.randint(spec_tok_len, vocab_size, [wrong_word.sum()])\n",
    "    return x,y"
   ]
  },
  {
   "cell_type": "code",
   "execution_count": 11,
   "metadata": {},
   "outputs": [
    {
     "data": {
      "text/plain": [
       "('xxbos wait25 wait25 wait25 wait25 wait25 wait25 wa',\n",
       " array([  2, 124, 124, 124, ...,   9, 105,   9, 157]))"
      ]
     },
     "execution_count": 11,
     "metadata": {},
     "output_type": "execute_result"
    }
   ],
   "source": [
    "t = data.train_ds[0][0]\n",
    "t.text[:50], t.data"
   ]
  },
  {
   "cell_type": "code",
   "execution_count": 12,
   "metadata": {},
   "outputs": [
    {
     "data": {
      "text/html": [
       "<table>  <col width='5%'>  <col width='95%'>  <tr>\n",
       "    <th>idx</th>\n",
       "    <th>text</th>\n",
       "  </tr>\n",
       "  <tr>\n",
       "    <th>0</th>\n",
       "    <th>xxbos xxfld p16 wait2 xxfld wait4 p23 p28 p30 p32 xxfld p25 endp25 wait3 p27 p31 p59 p35 wait5 endp28 xxfld endp32 xxfld p11 p23 xxfld endp11 endp23 wait3 endp27 endp31 endp33 endp35 wait1 p16 xxfld endp16 p28 xxfld xxfld p30 p32 xxfld p25 endp25 wait3 p27 p31 p33 p35 wait5 endp28 endp30 endp32 wait1 p11 p23 xxfld endp11 endp23 wait3 xxfld xxfld endp33 xxfld xxfld p16 wait2 endp16 wait4</th>\n",
       "  </tr>\n",
       "  <tr>\n",
       "    <th>1</th>\n",
       "    <th>wait3 endp17 endp48 wait3 p21 p39 xxfld endp21 wait1 xxfld xxfld p39 wait3 endp37 endp39 wait2 p36 wait3 endp10 endp36 xxfld xxfld p34 p37 wait3 p15 endp18 endp34 p36 endp37 p39 wait3 endp36 endp39 xxfld p34 p37 wait2 xxfld wait1 endp34 xxfld wait1 p17 p33 p36 wait3 endp17 endp33 endp36 wait2 p10 p34 wait6 p46 wait2 endp34 wait1 endp46 wait2 p42 wait3 xxfld wait1 p41 wait6 p46 wait1 endp41 wait2</th>\n",
       "  </tr>\n",
       "  <tr>\n",
       "    <th>2</th>\n",
       "    <th>wait1 p23 p26 p30 p33 p37 p44 xxfld p49 p52 wait3 endp26 endp30 endp33 xxfld endp44 xxfld endp49 endp52 wait3 endp37 wait3 endp23 wait1 p20 endp22 xxfld p31 p34 p37 p40 p43 p46 p42 wait2 endp28 xxfld wait3 endp31 endp40 xxfld endp34 endp43 endp46 xxfld wait5 p17 p27 p31 xxfld p38 p43 p47 wait7 endp31 xxfld endp43 wait1 endp17 endp38 wait4 p17 p27 p31 p33 p34 p38 p43 wait2 endp33</th>\n",
       "  </tr>\n",
       "  <tr>\n",
       "    <th>3</th>\n",
       "    <th>xxfld xxfld p22 wait6 p26 p34 p44 wait5 endp26 xxfld xxfld wait2 endp34 endp44 xxfld endp22 endp29 wait1 p15 xxfld xxfld p34 xxfld xxfld endp22 wait1 p27 wait2 endp34 endp43 wait3 endp15 xxfld wait1 p31 p51 wait5 endp31 wait1 p34 wait5 endp34 wait1 p39 wait5 endp51 wait1 p8 xxfld wait5 xxfld wait1 p20 p47 endp1 endp20 endp47 wait1 p27 p48 wait5 endp8 endp27 endp39 endp48 wait1 p26 p41 p46 wait5</th>\n",
       "  </tr>\n",
       "  <tr>\n",
       "    <th>4</th>\n",
       "    <th>endp39 wait1 p33 p35 p44 wait2 endp44 xxfld p39 endp35 p42 wait2 endp42 wait1 p33 p35 p44 wait2 endp44 wait1 endp33 endp35 p42 xxfld endp42 wait1 p32 p35 wait3 endp32 endp35 p40 wait2 endp40 wait1 p32 p35 p39 wait2 endp39 xxfld endp32 endp35 p40 wait2 endp40 wait1 p32 p35 p45 wait2 endp45 wait1 endp32 endp35 p44 wait2 endp44 wait1 p32 p35 p45 wait2 endp45 wait1 endp32 xxfld p44 wait2 endp44</th>\n",
       "  </tr>\n",
       "</table>\n"
      ],
      "text/plain": [
       "<IPython.core.display.HTML object>"
      ]
     },
     "metadata": {},
     "output_type": "display_data"
    }
   ],
   "source": [
    "data.show_batch()"
   ]
  },
  {
   "cell_type": "markdown",
   "metadata": {},
   "source": [
    "## Sanity - make sure outputs match"
   ]
  },
  {
   "cell_type": "code",
   "execution_count": 13,
   "metadata": {},
   "outputs": [],
   "source": [
    "# learn = language_model_learner(data, drop_mult=1, clip=.5, bptt=250)\n",
    "\n",
    "# ob = data.one_batch()\n",
    "\n",
    "# out = learn.model(ob[0].cuda())\n",
    "\n",
    "# out[0].shape\n",
    "\n",
    "# len(out[1])"
   ]
  },
  {
   "cell_type": "markdown",
   "metadata": {},
   "source": [
    "### Transformer Arch\n",
    "Paper: https://arxiv.org/abs/1706.03762  \n",
    "Inspiration: https://github.com/jadore801120/attention-is-all-you-need-pytorch"
   ]
  },
  {
   "cell_type": "code",
   "execution_count": 14,
   "metadata": {},
   "outputs": [],
   "source": [
    "# config = gpt.OpenAIGPTConfig(vocab_size)\n",
    "config = bert.BertConfig(vocab_size)"
   ]
  },
  {
   "cell_type": "code",
   "execution_count": 15,
   "metadata": {},
   "outputs": [],
   "source": [
    "config.num_hidden_layers = 6\n",
    "config.num_attention_heads = 8\n",
    "config.hidden_size = 512\n",
    "config.intermediate_size = config.hidden_size*4"
   ]
  },
  {
   "cell_type": "code",
   "execution_count": 16,
   "metadata": {},
   "outputs": [
    {
     "data": {
      "text/plain": [
       "{\n",
       "  \"attention_probs_dropout_prob\": 0.1,\n",
       "  \"hidden_act\": \"gelu\",\n",
       "  \"hidden_dropout_prob\": 0.1,\n",
       "  \"hidden_size\": 512,\n",
       "  \"initializer_range\": 0.02,\n",
       "  \"intermediate_size\": 2048,\n",
       "  \"max_position_embeddings\": 512,\n",
       "  \"num_attention_heads\": 8,\n",
       "  \"num_hidden_layers\": 6,\n",
       "  \"type_vocab_size\": 2,\n",
       "  \"vocab_size\": 158\n",
       "}"
      ]
     },
     "execution_count": 16,
     "metadata": {},
     "output_type": "execute_result"
    }
   ],
   "source": [
    "config"
   ]
  },
  {
   "cell_type": "code",
   "execution_count": 17,
   "metadata": {},
   "outputs": [],
   "source": [
    "# model = bert.BertForPreTraining(config).cuda()\n",
    "model = bert.BertForMaskedLM(config).cuda()\n",
    "# model = gpt.OpenAIGPTLMHeadModel(config).cuda()\n",
    "model.reset = lambda: None"
   ]
  },
  {
   "cell_type": "code",
   "execution_count": 22,
   "metadata": {},
   "outputs": [],
   "source": [
    "# model"
   ]
  },
  {
   "cell_type": "code",
   "execution_count": 23,
   "metadata": {},
   "outputs": [],
   "source": [
    "# ob = data.one_batch(); ob[0].shape\n",
    "\n",
    "# out = model(ob[0].cuda())\n",
    "\n",
    "# len(out)\n",
    "\n",
    "# out[1].shape\n",
    "\n",
    "# out[0].shape"
   ]
  },
  {
   "cell_type": "markdown",
   "metadata": {},
   "source": [
    "### Create Language learner"
   ]
  },
  {
   "cell_type": "code",
   "execution_count": 18,
   "metadata": {},
   "outputs": [],
   "source": [
    "class GPTLoss():\n",
    "    def __init__(self):#, model):\n",
    "#         self.model = model\n",
    "        self.loss_fct = torch.nn.CrossEntropyLoss(ignore_index=-1)\n",
    "    def __call__(self, lm_logits, lm_labels):\n",
    "        loss = self.loss_fct(lm_logits.view(-1, lm_logits.size(-1)), lm_labels.view(-1))\n",
    "        return loss.float()"
   ]
  },
  {
   "cell_type": "code",
   "execution_count": 19,
   "metadata": {},
   "outputs": [],
   "source": [
    "def accuracy(input:Tensor, targs:Tensor)->Rank0Tensor:\n",
    "    \"Compute accuracy with `targs` when `input` is bs * n_classes.\"\n",
    "    n = targs.shape[0]\n",
    "    input = input.argmax(dim=-1).view(n,-1)\n",
    "    targs = targs.view(n,-1)\n",
    "    return (input==targs)[targs != -1].float().mean()"
   ]
  },
  {
   "cell_type": "code",
   "execution_count": 20,
   "metadata": {},
   "outputs": [],
   "source": [
    "from fastai.text.learner import DatasetType\n",
    "def show_results(self, ds_type=DatasetType.Valid, rows:int=5, max_len:int=20):\n",
    "    from IPython.display import display, HTML\n",
    "    \"Show `rows` result of predictions on `ds_type` dataset.\"\n",
    "    ds = self.dl(ds_type).dataset\n",
    "    x,y = self.data.one_batch(ds_type, detach=False, denorm=False)\n",
    "    preds = self.pred_batch(batch=(x,y))\n",
    "    y = y.view(*x.size())\n",
    "    z = preds.view(*x.size(),-1).argmax(dim=2)\n",
    "    \n",
    "#     x[y != -1] = y[y != -1] # put in real values\n",
    "    x[y != -1] = MASK_IDX # put in mask values\n",
    "    xs = []\n",
    "    ys = []\n",
    "    zs = []\n",
    "    for i in range(rows):\n",
    "        xs.append(ds.x.reconstruct(grab_idx(x, i)))\n",
    "        y_idxs = grab_idx(y, i)\n",
    "        z_idxs = grab_idx(z, i)\n",
    "        ys.append(ds.x.reconstruct(y_idxs[y_idxs != -1]))\n",
    "        zs.append(ds.x.reconstruct(z_idxs[y_idxs != -1]))\n",
    "        \n",
    "#     xs = [ds.x.reconstruct(grab_idx(x, i)) for i in range(rows)]\n",
    "#     ys = [ds.x.reconstruct(grab_idx(y, i)) for i in range(rows)]\n",
    "#     zs = [ds.x.reconstruct(grab_idx(z, i)) for i in range(rows)]\n",
    "\n",
    "    items = [['text', 'target', 'pred']]\n",
    "    for i, (x,y,z) in enumerate(zip(xs,ys,zs)):\n",
    "        txt_x = ' '.join(x.text.split(' ')[:max_len])\n",
    "        txt_y = ' '.join(y.text.split(' ')[:max_len])\n",
    "        txt_z = ' '.join(z.text.split(' ')[:max_len])\n",
    "        items.append([str(txt_x), str(txt_y), str(txt_z)])\n",
    "    display(HTML(text2html_table(items, ([34,33,33]))))"
   ]
  },
  {
   "cell_type": "code",
   "execution_count": 28,
   "metadata": {},
   "outputs": [],
   "source": [
    "def lmpredict(self, text:str, n_words:int=1, no_unk:bool=True, temperature:float=1., min_p:float=None):\n",
    "    \"Return the `n_words` that come after `text`.\"\n",
    "    ds = self.data.single_dl.dataset\n",
    "    self.model.reset()\n",
    "    for _ in progress_bar(range(n_words), leave=False):\n",
    "        xb, yb = self.data.one_item(text)\n",
    "        xb = torch.cat([xb, torch.full((1,1), fill_value=MASK_IDX, dtype=xb.dtype, device=xb.device)], dim=1)\n",
    "        res = self.pred_batch(batch=(xb[:, -400:],yb))[0][-1]\n",
    "#         res = self.pred_batch(batch=(xb,yb))[0,-1]\n",
    "        res = F.softmax(res)\n",
    "        if no_unk: res[self.data.vocab.stoi[UNK]] = 0.\n",
    "        if min_p is not None: res[res < min_p] = 0.\n",
    "        if temperature != 1.: res.pow_(1 / temperature)\n",
    "        idx = torch.multinomial(res, 1).item()\n",
    "        text += f' {self.data.vocab.itos[idx]}'\n",
    "    return text"
   ]
  },
  {
   "cell_type": "code",
   "execution_count": 29,
   "metadata": {},
   "outputs": [],
   "source": [
    "LanguageLearner.predict = lmpredict"
   ]
  },
  {
   "cell_type": "code",
   "execution_count": 23,
   "metadata": {},
   "outputs": [],
   "source": [
    "LanguageLearner.show_results = show_results"
   ]
  },
  {
   "cell_type": "code",
   "execution_count": 24,
   "metadata": {},
   "outputs": [],
   "source": [
    "# learn = LanguageLearner(data, model, bptt)\n",
    "learn = LanguageLearner(data, model, bptt, loss_func=GPTLoss(), metrics=[accuracy])"
   ]
  },
  {
   "cell_type": "code",
   "execution_count": 25,
   "metadata": {},
   "outputs": [],
   "source": [
    "learn.callbacks = []"
   ]
  },
  {
   "cell_type": "code",
   "execution_count": 26,
   "metadata": {},
   "outputs": [],
   "source": [
    "learn.metrics = [accuracy]"
   ]
  },
  {
   "cell_type": "code",
   "execution_count": 27,
   "metadata": {},
   "outputs": [],
   "source": [
    "# learn = learn.to_fp16(512)\n",
    "learn = learn.to_fp16(16384.0/32)"
   ]
  },
  {
   "cell_type": "code",
   "execution_count": 64,
   "metadata": {},
   "outputs": [
    {
     "data": {
      "text/html": [
       "<table>  <col width='34%'>  <col width='33%'>  <col width='33%'>  <tr>\n",
       "    <th>text</th>\n",
       "    <th>target</th>\n",
       "    <th>pred</th>\n",
       "  </tr>\n",
       "  <tr>\n",
       "    <th>xxfld p28 p44 p47 wait3 p52 wait4 endp47 wait1 endp28 endp44 endp52 wait4 p23 xxfld wait2 endp52 wait1 p51 wait2 endp51 wait1 xxfld wait2 endp23 endp49 wait1 p47 wait2 xxfld wait1 xxfld p52 wait5 endp28 endp52 wait1 xxfld p47 wait5 endp23 endp47 wait1 p20 p44 xxfld endp20 endp44 xxfld xxfld</th>\n",
       "    <th>xxbos p52 p49 endp47 p28 p23 wait5 wait1 p16 p49 p28 endp49 wait4 endp28 endp44 endp52 endp35 wait5 endp32 p28 wait1 p23 p27 wait2 wait1 p28 wait1 wait5 endp27 endp54 endp23 p27 wait1 wait2 wait1 endp56 endp28 p54 p23 p51 endp23 p11 p23 endp47 p23 endp11 wait4 wait1 wait4 wait2</th>\n",
       "    <th>wait4 p52 p49 endp47 p28 p23 wait5 wait1 p16 p49 p28 endp49 wait4 endp28 endp44 endp52 endp35 wait5 endp32 p28 wait1 p23 p27 wait2 wait1 p28 wait1 wait5 endp27 endp54 endp23 p27 wait1 wait2 wait1 endp56 endp28 p54 p23 p51 endp23 p11 p23 endp47 p23 endp11 wait4 wait1 wait4 wait2</th>\n",
       "  </tr>\n",
       "  <tr>\n",
       "    <th>wait3 endp41 p42 wait3 endp42 xxfld p44 wait3 endp44 p45 wait3 xxfld xxfld wait5 endp34 endp46 wait1 p27 p30 wait3 p42 wait3 endp42 wait1 endp27 endp30 wait2 p29 p32 p41 wait3 p39 endp41 xxfld p30 xxfld endp39 xxfld endp29 endp32 wait2 endp37 wait3 xxfld xxfld endp30 wait2 xxfld xxfld endp36</th>\n",
       "    <th>wait3 endp45 p46 wait3 p37 wait1 p36 wait1 p29 p32 wait2 endp43 p44 p44 wait3 endp44 wait1 wait3 endp30 p39 endp39 endp29 endp38 p39 endp41 wait1 p42 endp42 p46 endp34 p27 endp29 endp36 wait3 p39 wait3 endp41 wait3 wait3 endp42 endp29 wait1 endp44 p25 endp41 p39 wait1 endp17 endp25 p37</th>\n",
       "    <th>wait3 endp45 p46 wait3 p37 wait1 p36 wait1 p29 p32 wait1 endp43 p44 p44 wait2 endp44 wait1 wait3 endp30 p39 endp39 endp29 endp38 p39 endp41 wait1 p42 endp42 p46 p46 p27 endp29 endp36 wait3 p39 wait3 endp41 wait3 wait3 endp42 endp29 wait1 endp44 p25 endp41 p39 wait1 endp17 endp25 p37</th>\n",
       "  </tr>\n",
       "  <tr>\n",
       "    <th>endp27 wait1 endp30 wait1 p31 wait2 endp31 wait1 p25 wait1 p34 xxfld endp8 endp20 endp25 xxfld xxfld xxfld endp34 p37 wait2 p28 endp37 wait1 p32 wait1 endp28 wait1 endp32 wait1 p33 wait2 endp33 wait1 p27 wait1 p39 wait1 xxfld endp22 endp27 wait1 p12 xxfld endp39 p42 wait2 p30 endp42 wait1</th>\n",
       "    <th>wait1 wait1 p10 p22 endp10 p24 p32 wait1 endp30 wait1 wait1 wait1 wait1 endp40 p34 p41 p14 p35 p38 endp32 wait1 wait2 p35 p37 wait1 endp39 p43 wait1 endp46 endp27 wait1 p34 wait1 wait1 p27 endp43 wait2 wait1 endp39 wait2 endp47 wait1 p43 wait2 endp23 p22 endp49 p45 endp22 endp39</th>\n",
       "    <th>wait1 wait1 p10 p22 endp10 p24 p32 wait1 endp30 wait1 wait1 wait1 wait1 endp40 p34 p41 p14 p35 p38 endp32 wait1 wait2 p35 p37 wait1 endp39 p43 wait1 endp46 endp27 wait1 p34 wait1 wait1 p27 endp43 wait2 wait1 endp39 wait2 endp47 wait1 p43 wait2 endp23 p22 endp49 p45 endp22 endp39</th>\n",
       "  </tr>\n",
       "  <tr>\n",
       "    <th>wait1 xxfld xxfld wait1 endp27 endp33 wait1 endp28 xxfld p41 endp42 wait3 endp29 endp41 xxfld p10 p22 p49 wait2 xxfld wait1 xxfld endp22 p37 wait1 p48 wait1 endp37 wait1 p30 p46 endp48 xxfld endp30 endp46 wait3 p42 p46 wait2 xxfld xxfld xxfld p30 xxfld xxfld xxfld p44 xxfld endp30 wait1</th>\n",
       "    <th>p28 p42 p29 wait3 endp49 endp10 wait3 endp42 endp46 wait1 p34 wait1 p32 wait1 p49 wait1 p48 wait3 endp46 endp46 wait1 p34 endp30 wait1 endp32 endp42 p22 p49 wait1 endp22 p48 endp37 wait1 wait3 wait2 p30 wait1 endp42 p42 wait1 p41 endp29 p30 wait3 endp39 wait1 p27 p37 endp36 wait2</th>\n",
       "    <th>p28 p42 p29 wait3 endp49 endp10 wait3 endp42 endp46 wait1 p34 wait1 p32 wait1 p49 wait1 p48 wait3 endp46 endp46 wait1 p34 endp30 wait1 endp32 endp42 p22 p49 wait1 endp22 p48 endp37 wait1 wait3 wait2 p30 wait1 endp42 p42 wait1 p41 endp29 p30 wait3 endp39 wait1 p27 p37 endp36 wait2</th>\n",
       "  </tr>\n",
       "  <tr>\n",
       "    <th>wait1 p7 p31 p36 wait3 xxfld endp36 wait3 p34 p38 wait3 endp34 endp38 wait6 p39 wait2 endp39 wait1 p36 p43 wait3 xxfld endp43 wait3 p34 xxfld wait3 endp34 endp38 wait6 p31 wait2 endp31 wait1 p7 p26 xxfld wait3 endp26 endp34 wait2 endp2 endp7 xxfld p0 p33 xxfld xxfld wait6 p33</th>\n",
       "    <th>endp31 endp36 p38 p34 wait1 wait3 endp33 endp36 endp30 p2 p7 wait3 wait6 wait3 endp17 p22 wait3 wait2 wait1 wait1 endp0 p14 p3 wait6 endp15 p10 p24 wait6 wait3 endp34 endp19 endp3 wait1 p21 wait3 endp12 endp29 endp5 endp17 p22 p10 p14 wait3 wait2 wait1 endp34 wait1 wait1 p26 endp12</th>\n",
       "    <th>endp31 endp36 p38 p34 wait1 wait3 endp33 endp36 endp30 p2 p7 wait3 wait6 wait3 endp17 p22 wait3 wait2 wait1 wait1 endp0 p14 p3 wait6 endp15 p10 p24 wait6 wait3 endp34 endp19 endp3 wait1 p21 wait3 endp12 endp29 endp5 endp17 p22 p10 p14 wait3 wait2 wait1 endp34 wait1 wait1 p26 endp12</th>\n",
       "  </tr>\n",
       "</table>\n"
      ],
      "text/plain": [
       "<IPython.core.display.HTML object>"
      ]
     },
     "metadata": {},
     "output_type": "display_data"
    }
   ],
   "source": [
    "learn.show_results(max_len=50)"
   ]
  },
  {
   "cell_type": "markdown",
   "metadata": {},
   "source": [
    "## LR Finder"
   ]
  },
  {
   "cell_type": "code",
   "execution_count": null,
   "metadata": {},
   "outputs": [],
   "source": [
    "learn.lr_find(num_it=500)"
   ]
  },
  {
   "cell_type": "code",
   "execution_count": 32,
   "metadata": {},
   "outputs": [
    {
     "data": {
      "image/png": "[encoded data removed]",
      "text/plain": [
       "<Figure size 432x288 with 1 Axes>"
      ]
     },
     "metadata": {
      "needs_background": "light"
     },
     "output_type": "display_data"
    }
   ],
   "source": [
    "learn.recorder.plot()"
   ]
  },
  {
   "cell_type": "markdown",
   "metadata": {},
   "source": [
    "## Must remeber that BERT is bidirectional, so we must modifythe architechture so it won't cheat"
   ]
  },
  {
   "cell_type": "code",
   "execution_count": 33,
   "metadata": {
    "scrolled": true
   },
   "outputs": [
    {
     "data": {
      "text/html": [
       "Total time: 51:39 <p><table style='width:300px; margin-bottom:10px'>\n",
       "  <tr>\n",
       "    <th>epoch</th>\n",
       "    <th>train_loss</th>\n",
       "    <th>valid_loss</th>\n",
       "    <th>accuracy</th>\n",
       "  </tr>\n",
       "  <tr>\n",
       "    <th>1</th>\n",
       "    <th>3.141718</th>\n",
       "    <th>3.007392</th>\n",
       "    <th>0.225771</th>\n",
       "  </tr>\n",
       "</table>\n"
      ],
      "text/plain": [
       "<IPython.core.display.HTML object>"
      ]
     },
     "metadata": {},
     "output_type": "display_data"
    }
   ],
   "source": [
    "learn.fit_one_cycle(1, 1e-4, moms=(0.7,0.5))"
   ]
  },
  {
   "cell_type": "code",
   "execution_count": 46,
   "metadata": {},
   "outputs": [
    {
     "data": {
      "text/html": [
       "<table>  <col width='34%'>  <col width='33%'>  <col width='33%'>  <tr>\n",
       "    <th>text</th>\n",
       "    <th>target</th>\n",
       "    <th>pred</th>\n",
       "  </tr>\n",
       "  <tr>\n",
       "    <th>xxbos p28 p44 p47 wait3 p52 wait4 xxfld wait1 xxfld endp44 endp52 wait4 p23 p52 wait2 endp52 xxfld xxfld wait2</th>\n",
       "    <th>endp47 endp28 wait1 p51 p49 endp49 p47 p47 endp23 wait1 wait1 wait5 p45 p28 wait4 p52 wait4 wait5 endp44 p27</th>\n",
       "    <th>p47 endp28 wait1 p51 p49 endp49 p47 p47 endp23 wait1 wait1 wait5 p45 p28 wait4 p52 wait4 wait5 endp44 p27</th>\n",
       "  </tr>\n",
       "  <tr>\n",
       "    <th>wait3 endp41 p42 wait3 endp42 wait3 p44 wait3 endp44 xxfld wait3 endp45 xxfld wait5 endp34 endp46 xxfld p27 p30 xxfld</th>\n",
       "    <th>p45 p46 wait1 wait3 wait1 wait2 p36 p32 wait2 endp41 p44 wait2 p29 endp25 endp44 p42 endp29 p39 endp39 p41</th>\n",
       "    <th>p45 p46 wait1 wait4 wait1 wait2 p36 p32 wait2 endp41 p44 wait1 p29 endp25 endp44 p42 endp29 p39 endp39 p41</th>\n",
       "  </tr>\n",
       "  <tr>\n",
       "    <th>endp27 wait1 endp30 wait1 p31 wait2 endp31 wait1 p25 wait1 p34 wait1 endp8 xxfld xxfld wait1 p10 p22 endp34 p37</th>\n",
       "    <th>endp20 endp25 wait1 wait2 wait1 wait2 p13 p25 endp40 endp32 wait1 wait1 wait1 endp29 p44 wait2 p37 wait1 endp37 p44</th>\n",
       "    <th>endp20 endp25 wait1 wait2 wait1 wait2 p13 p25 endp40 endp32 wait1 wait1 wait1 endp29 p44 wait2 p34 wait1 endp37 p44</th>\n",
       "  </tr>\n",
       "  <tr>\n",
       "    <th>xxfld xxfld p42 wait1 endp27 endp33 wait1 endp28 p29 p41 endp42 wait3 endp29 endp41 wait3 p10 p22 p49 wait2 endp49</th>\n",
       "    <th>wait1 p28 p37 endp48 wait3 p46 wait2 endp46 wait1 endp44 endp42 p22 endp49 wait1 p37 wait3 endp46 p46 wait1 p34</th>\n",
       "    <th>wait1 p28 p37 endp48 wait3 p46 wait2 endp46 wait1 endp44 endp42 p22 endp49 wait1 p37 wait3 endp46 p46 wait1 p34</th>\n",
       "  </tr>\n",
       "  <tr>\n",
       "    <th>wait1 p7 p31 xxfld wait3 xxfld xxfld wait3 p34 p38 wait3 endp34 endp38 wait6 p39 xxfld endp39 wait1 p36 p43</th>\n",
       "    <th>p36 endp31 endp36 wait2 p31 p34 wait2 endp30 p2 p24 wait2 p19 p17 endp22 p34 wait1 p26 p19 wait2 wait2</th>\n",
       "    <th>p39 endp31 endp43 wait2 p31 p34 wait2 endp30 p2 endp30 wait2 p19 p17 endp22 p34 wait1 p26 p19 wait2 wait2</th>\n",
       "  </tr>\n",
       "</table>\n"
      ],
      "text/plain": [
       "<IPython.core.display.HTML object>"
      ]
     },
     "metadata": {},
     "output_type": "display_data"
    }
   ],
   "source": [
    "learn.show_results()"
   ]
  },
  {
   "cell_type": "code",
   "execution_count": 35,
   "metadata": {},
   "outputs": [],
   "source": [
    "learn.save('bert_epoch_1')"
   ]
  },
  {
   "cell_type": "code",
   "execution_count": null,
   "metadata": {},
   "outputs": [],
   "source": [
    "learn.load('bert_epoch_1')"
   ]
  },
  {
   "cell_type": "code",
   "execution_count": 28,
   "metadata": {
    "scrolled": true
   },
   "outputs": [
    {
     "data": {
      "text/html": [
       "Total time: 1:43:04 <p><table style='width:300px; margin-bottom:10px'>\n",
       "  <tr>\n",
       "    <th>epoch</th>\n",
       "    <th>train_loss</th>\n",
       "    <th>valid_loss</th>\n",
       "    <th>accuracy</th>\n",
       "  </tr>\n",
       "  <tr>\n",
       "    <th>1</th>\n",
       "    <th>2.380979</th>\n",
       "    <th>2.257844</th>\n",
       "    <th>0.400657</th>\n",
       "  </tr>\n",
       "  <tr>\n",
       "    <th>2</th>\n",
       "    <th>1.253272</th>\n",
       "    <th>1.079871</th>\n",
       "    <th>0.698453</th>\n",
       "  </tr>\n",
       "</table>\n"
      ],
      "text/plain": [
       "<IPython.core.display.HTML object>"
      ]
     },
     "metadata": {},
     "output_type": "display_data"
    }
   ],
   "source": [
    "learn.fit_one_cycle(2, 1e-4, moms=(0.7,0.5))"
   ]
  },
  {
   "cell_type": "code",
   "execution_count": 29,
   "metadata": {},
   "outputs": [],
   "source": [
    "learn.save('bert_epoch_2')"
   ]
  },
  {
   "cell_type": "code",
   "execution_count": 29,
   "metadata": {},
   "outputs": [],
   "source": [
    "learn = learn.load('bert_epoch_2')"
   ]
  },
  {
   "cell_type": "code",
   "execution_count": 30,
   "metadata": {
    "scrolled": true
   },
   "outputs": [
    {
     "data": {
      "text/html": [
       "Total time: 5:45:00 <p><table style='width:300px; margin-bottom:10px'>\n",
       "  <tr>\n",
       "    <th>epoch</th>\n",
       "    <th>train_loss</th>\n",
       "    <th>valid_loss</th>\n",
       "    <th>accuracy</th>\n",
       "  </tr>\n",
       "  <tr>\n",
       "    <th>1</th>\n",
       "    <th>1.134367</th>\n",
       "    <th>0.921649</th>\n",
       "    <th>0.740523</th>\n",
       "  </tr>\n",
       "  <tr>\n",
       "    <th>2</th>\n",
       "    <th>0.919515</th>\n",
       "    <th>0.741058</th>\n",
       "    <th>0.790631</th>\n",
       "  </tr>\n",
       "  <tr>\n",
       "    <th>3</th>\n",
       "    <th>0.727951</th>\n",
       "    <th>0.592146</th>\n",
       "    <th>0.831317</th>\n",
       "  </tr>\n",
       "  <tr>\n",
       "    <th>4</th>\n",
       "    <th>0.607121</th>\n",
       "    <th>0.496664</th>\n",
       "    <th>0.857642</th>\n",
       "  </tr>\n",
       "  <tr>\n",
       "    <th>5</th>\n",
       "    <th>0.573800</th>\n",
       "    <th>0.440116</th>\n",
       "    <th>0.873767</th>\n",
       "  </tr>\n",
       "  <tr>\n",
       "    <th>6</th>\n",
       "    <th>0.493392</th>\n",
       "    <th>0.388303</th>\n",
       "    <th>0.887584</th>\n",
       "  </tr>\n",
       "  <tr>\n",
       "    <th>7</th>\n",
       "    <th>0.453076</th>\n",
       "    <th>0.362355</th>\n",
       "    <th>0.895146</th>\n",
       "  </tr>\n",
       "  <tr>\n",
       "    <th>8</th>\n",
       "    <th>0.388987</th>\n",
       "    <th>0.347326</th>\n",
       "    <th>0.899181</th>\n",
       "  </tr>\n",
       "  <tr>\n",
       "    <th>9</th>\n",
       "    <th>0.424208</th>\n",
       "    <th>0.336593</th>\n",
       "    <th>0.901880</th>\n",
       "  </tr>\n",
       "  <tr>\n",
       "    <th>10</th>\n",
       "    <th>0.428322</th>\n",
       "    <th>0.335391</th>\n",
       "    <th>0.902473</th>\n",
       "  </tr>\n",
       "</table>\n"
      ],
      "text/plain": [
       "<IPython.core.display.HTML object>"
      ]
     },
     "metadata": {},
     "output_type": "display_data"
    }
   ],
   "source": [
    "learn.fit_one_cycle(10, 1e-4, div_factor=5, moms=(0.7,0.5))"
   ]
  },
  {
   "cell_type": "code",
   "execution_count": 31,
   "metadata": {},
   "outputs": [],
   "source": [
    "learn.save('bert_epoch_10_overnight')"
   ]
  },
  {
   "cell_type": "code",
   "execution_count": 32,
   "metadata": {},
   "outputs": [
    {
     "data": {
      "text/html": [
       "<table>  <col width='34%'>  <col width='33%'>  <col width='33%'>  <tr>\n",
       "    <th>text</th>\n",
       "    <th>target</th>\n",
       "    <th>pred</th>\n",
       "  </tr>\n",
       "  <tr>\n",
       "    <th>xxbos xxfld p44 p47 xxfld p52 wait4 xxfld wait1 endp28 endp44 endp52 wait4 p23 p52 xxfld endp52 wait1 p51 wait2</th>\n",
       "    <th> p28   wait3   endp47     wait4   wait2    </th>\n",
       "    <th>wait1 p28 p44 p47 wait3 p52 wait4 endp47 wait1 endp28 endp44 endp52 wait4 p23 p52 wait2 endp52 wait1 p51 wait2</th>\n",
       "  </tr>\n",
       "  <tr>\n",
       "    <th>wait3 endp41 p42 wait3 xxfld wait3 p44 wait3 endp44 p45 wait3 xxfld p46 wait5 endp34 xxfld wait1 p27 p30 wait3</th>\n",
       "    <th>    endp42       endp45    endp46    </th>\n",
       "    <th>wait3 endp41 p42 wait3 endp42 wait3 p44 wait3 endp44 p45 wait3 endp45 p46 wait5 endp34 endp46 wait1 p27 p30 wait3</th>\n",
       "  </tr>\n",
       "  <tr>\n",
       "    <th>endp27 wait1 endp30 wait1 p31 wait2 endp31 wait1 p25 xxfld xxfld wait1 endp8 endp20 endp25 wait1 p10 p22 endp51 p37</th>\n",
       "    <th>         wait1 p34        endp34 </th>\n",
       "    <th>endp27 wait1 endp30 wait1 p31 wait2 endp31 wait1 p25 wait1 p32 wait1 endp8 endp20 endp25 wait1 p10 p22 endp32 p37</th>\n",
       "  </tr>\n",
       "  <tr>\n",
       "    <th>wait1 p28 p42 wait1 endp27 endp33 wait1 endp28 p29 p41 endp42 xxfld endp29 endp41 wait3 p10 p22 p49 wait2 endp49</th>\n",
       "    <th>           wait3   wait3     </th>\n",
       "    <th>wait1 p28 p42 wait1 endp27 endp33 wait1 endp28 p29 p41 endp42 wait3 endp29 endp41 wait3 p10 p22 p49 wait2 endp49</th>\n",
       "  </tr>\n",
       "  <tr>\n",
       "    <th>wait1 p7 p31 p36 wait3 endp31 xxfld wait3 p34 p38 wait3 endp34 endp38 wait6 p39 wait2 xxfld wait1 p36 p43</th>\n",
       "    <th>      endp36          endp39   </th>\n",
       "    <th>wait1 p7 p31 p36 wait3 endp31 endp36 wait3 p34 p38 wait3 endp34 endp38 wait6 p39 wait2 endp39 wait1 p36 p43</th>\n",
       "  </tr>\n",
       "</table>\n"
      ],
      "text/plain": [
       "<IPython.core.display.HTML object>"
      ]
     },
     "metadata": {},
     "output_type": "display_data"
    }
   ],
   "source": [
    "learn.show_results()"
   ]
  },
  {
   "cell_type": "code",
   "execution_count": 39,
   "metadata": {},
   "outputs": [],
   "source": [
    "learn.load('bert_epoch_10_overnight')\n",
    "learn.unfreeze()"
   ]
  },
  {
   "cell_type": "code",
   "execution_count": 86,
   "metadata": {
    "scrolled": true
   },
   "outputs": [
    {
     "data": {
      "text/html": [
       "\n",
       "    <div>\n",
       "        <style>\n",
       "            /* Turns off some styling */\n",
       "            progress {\n",
       "                /* gets rid of default border in Firefox and Opera. */\n",
       "                border: none;\n",
       "                /* Needs to be in here for Safari polyfill so background images work as expected. */\n",
       "                background-size: auto;\n",
       "            }\n",
       "            .progress-bar-interrupted, .progress-bar-interrupted::-webkit-progress-bar {\n",
       "                background: #F44336;\n",
       "            }\n",
       "        </style>\n",
       "      <progress value='2' class='' max='5', style='width:300px; height:20px; vertical-align: middle;'></progress>\n",
       "      40.00% [2/5 1:08:35<1:42:53]\n",
       "    </div>\n",
       "    \n",
       "<table style='width:300px; margin-bottom:10px'>\n",
       "  <tr>\n",
       "    <th>epoch</th>\n",
       "    <th>train_loss</th>\n",
       "    <th>valid_loss</th>\n",
       "    <th>accuracy</th>\n",
       "  </tr>\n",
       "  <tr>\n",
       "    <th>1</th>\n",
       "    <th>0.477270</th>\n",
       "    <th>0.353203</th>\n",
       "    <th>0.897735</th>\n",
       "  </tr>\n",
       "  <tr>\n",
       "    <th>2</th>\n",
       "    <th>0.436281</th>\n",
       "    <th>0.345406</th>\n",
       "    <th>0.900068</th>\n",
       "  </tr>\n",
       "</table>\n",
       "\n",
       "\n",
       "    <div>\n",
       "        <style>\n",
       "            /* Turns off some styling */\n",
       "            progress {\n",
       "                /* gets rid of default border in Firefox and Opera. */\n",
       "                border: none;\n",
       "                /* Needs to be in here for Safari polyfill so background images work as expected. */\n",
       "                background-size: auto;\n",
       "            }\n",
       "            .progress-bar-interrupted, .progress-bar-interrupted::-webkit-progress-bar {\n",
       "                background: #F44336;\n",
       "            }\n",
       "        </style>\n",
       "      <progress value='0' class='progress-bar-interrupted' max='4557', style='width:300px; height:20px; vertical-align: middle;'></progress>\n",
       "      Interrupted\n",
       "    </div>\n",
       "    "
      ],
      "text/plain": [
       "<IPython.core.display.HTML object>"
      ]
     },
     "metadata": {},
     "output_type": "display_data"
    },
    {
     "ename": "KeyboardInterrupt",
     "evalue": "",
     "output_type": "error",
     "traceback": [
      "\u001b[0;31m---------------------------------------------------------------------------\u001b[0m",
      "\u001b[0;31mKeyboardInterrupt\u001b[0m                         Traceback (most recent call last)",
      "\u001b[0;32m<ipython-input-86-fc2e145a1b20>\u001b[0m in \u001b[0;36m<module>\u001b[0;34m\u001b[0m\n\u001b[0;32m----> 1\u001b[0;31m \u001b[0mlearn\u001b[0m\u001b[0;34m.\u001b[0m\u001b[0mfit_one_cycle\u001b[0m\u001b[0;34m(\u001b[0m\u001b[0;36m5\u001b[0m\u001b[0;34m,\u001b[0m \u001b[0;36m5e-5\u001b[0m\u001b[0;34m,\u001b[0m \u001b[0mmoms\u001b[0m\u001b[0;34m=\u001b[0m\u001b[0;34m(\u001b[0m\u001b[0;36m0.7\u001b[0m\u001b[0;34m,\u001b[0m\u001b[0;36m0.5\u001b[0m\u001b[0;34m)\u001b[0m\u001b[0;34m)\u001b[0m\u001b[0;34m\u001b[0m\u001b[0;34m\u001b[0m\u001b[0m\n\u001b[0m",
      "\u001b[0;32m~/fastai/fastai/train.py\u001b[0m in \u001b[0;36mfit_one_cycle\u001b[0;34m(learn, cyc_len, max_lr, moms, div_factor, pct_start, wd, callbacks, **kwargs)\u001b[0m\n\u001b[1;32m     20\u001b[0m     callbacks.append(OneCycleScheduler(learn, max_lr, moms=moms, div_factor=div_factor,\n\u001b[1;32m     21\u001b[0m                                         pct_start=pct_start, **kwargs))\n\u001b[0;32m---> 22\u001b[0;31m     \u001b[0mlearn\u001b[0m\u001b[0;34m.\u001b[0m\u001b[0mfit\u001b[0m\u001b[0;34m(\u001b[0m\u001b[0mcyc_len\u001b[0m\u001b[0;34m,\u001b[0m \u001b[0mmax_lr\u001b[0m\u001b[0;34m,\u001b[0m \u001b[0mwd\u001b[0m\u001b[0;34m=\u001b[0m\u001b[0mwd\u001b[0m\u001b[0;34m,\u001b[0m \u001b[0mcallbacks\u001b[0m\u001b[0;34m=\u001b[0m\u001b[0mcallbacks\u001b[0m\u001b[0;34m)\u001b[0m\u001b[0;34m\u001b[0m\u001b[0;34m\u001b[0m\u001b[0m\n\u001b[0m\u001b[1;32m     23\u001b[0m \u001b[0;34m\u001b[0m\u001b[0m\n\u001b[1;32m     24\u001b[0m \u001b[0;32mdef\u001b[0m \u001b[0mlr_find\u001b[0m\u001b[0;34m(\u001b[0m\u001b[0mlearn\u001b[0m\u001b[0;34m:\u001b[0m\u001b[0mLearner\u001b[0m\u001b[0;34m,\u001b[0m \u001b[0mstart_lr\u001b[0m\u001b[0;34m:\u001b[0m\u001b[0mFloats\u001b[0m\u001b[0;34m=\u001b[0m\u001b[0;36m1e-7\u001b[0m\u001b[0;34m,\u001b[0m \u001b[0mend_lr\u001b[0m\u001b[0;34m:\u001b[0m\u001b[0mFloats\u001b[0m\u001b[0;34m=\u001b[0m\u001b[0;36m10\u001b[0m\u001b[0;34m,\u001b[0m \u001b[0mnum_it\u001b[0m\u001b[0;34m:\u001b[0m\u001b[0mint\u001b[0m\u001b[0;34m=\u001b[0m\u001b[0;36m100\u001b[0m\u001b[0;34m,\u001b[0m \u001b[0mstop_div\u001b[0m\u001b[0;34m:\u001b[0m\u001b[0mbool\u001b[0m\u001b[0;34m=\u001b[0m\u001b[0;32mTrue\u001b[0m\u001b[0;34m,\u001b[0m \u001b[0;34m**\u001b[0m\u001b[0mkwargs\u001b[0m\u001b[0;34m:\u001b[0m\u001b[0mAny\u001b[0m\u001b[0;34m)\u001b[0m\u001b[0;34m:\u001b[0m\u001b[0;34m\u001b[0m\u001b[0;34m\u001b[0m\u001b[0m\n",
      "\u001b[0;32m~/fastai/fastai/basic_train.py\u001b[0m in \u001b[0;36mfit\u001b[0;34m(self, epochs, lr, wd, callbacks)\u001b[0m\n\u001b[1;32m    172\u001b[0m         \u001b[0mcallbacks\u001b[0m \u001b[0;34m=\u001b[0m \u001b[0;34m[\u001b[0m\u001b[0mcb\u001b[0m\u001b[0;34m(\u001b[0m\u001b[0mself\u001b[0m\u001b[0;34m)\u001b[0m \u001b[0;32mfor\u001b[0m \u001b[0mcb\u001b[0m \u001b[0;32min\u001b[0m \u001b[0mself\u001b[0m\u001b[0;34m.\u001b[0m\u001b[0mcallback_fns\u001b[0m\u001b[0;34m]\u001b[0m \u001b[0;34m+\u001b[0m \u001b[0mlistify\u001b[0m\u001b[0;34m(\u001b[0m\u001b[0mcallbacks\u001b[0m\u001b[0;34m)\u001b[0m\u001b[0;34m\u001b[0m\u001b[0;34m\u001b[0m\u001b[0m\n\u001b[1;32m    173\u001b[0m         fit(epochs, self.model, self.loss_func, opt=self.opt, data=self.data, metrics=self.metrics,\n\u001b[0;32m--> 174\u001b[0;31m             callbacks=self.callbacks+callbacks)\n\u001b[0m\u001b[1;32m    175\u001b[0m \u001b[0;34m\u001b[0m\u001b[0m\n\u001b[1;32m    176\u001b[0m     \u001b[0;32mdef\u001b[0m \u001b[0mcreate_opt\u001b[0m\u001b[0;34m(\u001b[0m\u001b[0mself\u001b[0m\u001b[0;34m,\u001b[0m \u001b[0mlr\u001b[0m\u001b[0;34m:\u001b[0m\u001b[0mFloats\u001b[0m\u001b[0;34m,\u001b[0m \u001b[0mwd\u001b[0m\u001b[0;34m:\u001b[0m\u001b[0mFloats\u001b[0m\u001b[0;34m=\u001b[0m\u001b[0;36m0.\u001b[0m\u001b[0;34m)\u001b[0m\u001b[0;34m->\u001b[0m\u001b[0;32mNone\u001b[0m\u001b[0;34m:\u001b[0m\u001b[0;34m\u001b[0m\u001b[0;34m\u001b[0m\u001b[0m\n",
      "\u001b[0;32m~/fastai/fastai/basic_train.py\u001b[0m in \u001b[0;36mfit\u001b[0;34m(epochs, model, loss_func, opt, data, callbacks, metrics)\u001b[0m\n\u001b[1;32m     84\u001b[0m             \u001b[0;32mfor\u001b[0m \u001b[0mxb\u001b[0m\u001b[0;34m,\u001b[0m\u001b[0myb\u001b[0m \u001b[0;32min\u001b[0m \u001b[0mprogress_bar\u001b[0m\u001b[0;34m(\u001b[0m\u001b[0mdata\u001b[0m\u001b[0;34m.\u001b[0m\u001b[0mtrain_dl\u001b[0m\u001b[0;34m,\u001b[0m \u001b[0mparent\u001b[0m\u001b[0;34m=\u001b[0m\u001b[0mpbar\u001b[0m\u001b[0;34m)\u001b[0m\u001b[0;34m:\u001b[0m\u001b[0;34m\u001b[0m\u001b[0;34m\u001b[0m\u001b[0m\n\u001b[1;32m     85\u001b[0m                 \u001b[0mxb\u001b[0m\u001b[0;34m,\u001b[0m \u001b[0myb\u001b[0m \u001b[0;34m=\u001b[0m \u001b[0mcb_handler\u001b[0m\u001b[0;34m.\u001b[0m\u001b[0mon_batch_begin\u001b[0m\u001b[0;34m(\u001b[0m\u001b[0mxb\u001b[0m\u001b[0;34m,\u001b[0m \u001b[0myb\u001b[0m\u001b[0;34m)\u001b[0m\u001b[0;34m\u001b[0m\u001b[0;34m\u001b[0m\u001b[0m\n\u001b[0;32m---> 86\u001b[0;31m                 \u001b[0mloss\u001b[0m \u001b[0;34m=\u001b[0m \u001b[0mloss_batch\u001b[0m\u001b[0;34m(\u001b[0m\u001b[0mmodel\u001b[0m\u001b[0;34m,\u001b[0m \u001b[0mxb\u001b[0m\u001b[0;34m,\u001b[0m \u001b[0myb\u001b[0m\u001b[0;34m,\u001b[0m \u001b[0mloss_func\u001b[0m\u001b[0;34m,\u001b[0m \u001b[0mopt\u001b[0m\u001b[0;34m,\u001b[0m \u001b[0mcb_handler\u001b[0m\u001b[0;34m)\u001b[0m\u001b[0;34m\u001b[0m\u001b[0;34m\u001b[0m\u001b[0m\n\u001b[0m\u001b[1;32m     87\u001b[0m                 \u001b[0;32mif\u001b[0m \u001b[0mcb_handler\u001b[0m\u001b[0;34m.\u001b[0m\u001b[0mon_batch_end\u001b[0m\u001b[0;34m(\u001b[0m\u001b[0mloss\u001b[0m\u001b[0;34m)\u001b[0m\u001b[0;34m:\u001b[0m \u001b[0;32mbreak\u001b[0m\u001b[0;34m\u001b[0m\u001b[0;34m\u001b[0m\u001b[0m\n\u001b[1;32m     88\u001b[0m \u001b[0;34m\u001b[0m\u001b[0m\n",
      "\u001b[0;32m~/fastai/fastai/basic_train.py\u001b[0m in \u001b[0;36mloss_batch\u001b[0;34m(model, xb, yb, loss_func, opt, cb_handler)\u001b[0m\n\u001b[1;32m     25\u001b[0m     \u001b[0;32mif\u001b[0m \u001b[0mopt\u001b[0m \u001b[0;32mis\u001b[0m \u001b[0;32mnot\u001b[0m \u001b[0;32mNone\u001b[0m\u001b[0;34m:\u001b[0m\u001b[0;34m\u001b[0m\u001b[0;34m\u001b[0m\u001b[0m\n\u001b[1;32m     26\u001b[0m         \u001b[0mloss\u001b[0m \u001b[0;34m=\u001b[0m \u001b[0mcb_handler\u001b[0m\u001b[0;34m.\u001b[0m\u001b[0mon_backward_begin\u001b[0m\u001b[0;34m(\u001b[0m\u001b[0mloss\u001b[0m\u001b[0;34m)\u001b[0m\u001b[0;34m\u001b[0m\u001b[0;34m\u001b[0m\u001b[0m\n\u001b[0;32m---> 27\u001b[0;31m         \u001b[0mloss\u001b[0m\u001b[0;34m.\u001b[0m\u001b[0mbackward\u001b[0m\u001b[0;34m(\u001b[0m\u001b[0;34m)\u001b[0m\u001b[0;34m\u001b[0m\u001b[0;34m\u001b[0m\u001b[0m\n\u001b[0m\u001b[1;32m     28\u001b[0m         \u001b[0mcb_handler\u001b[0m\u001b[0;34m.\u001b[0m\u001b[0mon_backward_end\u001b[0m\u001b[0;34m(\u001b[0m\u001b[0;34m)\u001b[0m\u001b[0;34m\u001b[0m\u001b[0;34m\u001b[0m\u001b[0m\n\u001b[1;32m     29\u001b[0m         \u001b[0mopt\u001b[0m\u001b[0;34m.\u001b[0m\u001b[0mstep\u001b[0m\u001b[0;34m(\u001b[0m\u001b[0;34m)\u001b[0m\u001b[0;34m\u001b[0m\u001b[0;34m\u001b[0m\u001b[0m\n",
      "\u001b[0;32m~/anaconda3/envs/fastai/lib/python3.7/site-packages/torch/tensor.py\u001b[0m in \u001b[0;36mbackward\u001b[0;34m(self, gradient, retain_graph, create_graph)\u001b[0m\n\u001b[1;32m    100\u001b[0m                 \u001b[0mproducts\u001b[0m\u001b[0;34m.\u001b[0m \u001b[0mDefaults\u001b[0m \u001b[0mto\u001b[0m\u001b[0;31m \u001b[0m\u001b[0;31m`\u001b[0m\u001b[0;31m`\u001b[0m\u001b[0;32mFalse\u001b[0m\u001b[0;31m`\u001b[0m\u001b[0;31m`\u001b[0m\u001b[0;34m.\u001b[0m\u001b[0;34m\u001b[0m\u001b[0;34m\u001b[0m\u001b[0m\n\u001b[1;32m    101\u001b[0m         \"\"\"\n\u001b[0;32m--> 102\u001b[0;31m         \u001b[0mtorch\u001b[0m\u001b[0;34m.\u001b[0m\u001b[0mautograd\u001b[0m\u001b[0;34m.\u001b[0m\u001b[0mbackward\u001b[0m\u001b[0;34m(\u001b[0m\u001b[0mself\u001b[0m\u001b[0;34m,\u001b[0m \u001b[0mgradient\u001b[0m\u001b[0;34m,\u001b[0m \u001b[0mretain_graph\u001b[0m\u001b[0;34m,\u001b[0m \u001b[0mcreate_graph\u001b[0m\u001b[0;34m)\u001b[0m\u001b[0;34m\u001b[0m\u001b[0;34m\u001b[0m\u001b[0m\n\u001b[0m\u001b[1;32m    103\u001b[0m \u001b[0;34m\u001b[0m\u001b[0m\n\u001b[1;32m    104\u001b[0m     \u001b[0;32mdef\u001b[0m \u001b[0mregister_hook\u001b[0m\u001b[0;34m(\u001b[0m\u001b[0mself\u001b[0m\u001b[0;34m,\u001b[0m \u001b[0mhook\u001b[0m\u001b[0;34m)\u001b[0m\u001b[0;34m:\u001b[0m\u001b[0;34m\u001b[0m\u001b[0;34m\u001b[0m\u001b[0m\n",
      "\u001b[0;32m~/anaconda3/envs/fastai/lib/python3.7/site-packages/torch/autograd/__init__.py\u001b[0m in \u001b[0;36mbackward\u001b[0;34m(tensors, grad_tensors, retain_graph, create_graph, grad_variables)\u001b[0m\n\u001b[1;32m     88\u001b[0m     Variable._execution_engine.run_backward(\n\u001b[1;32m     89\u001b[0m         \u001b[0mtensors\u001b[0m\u001b[0;34m,\u001b[0m \u001b[0mgrad_tensors\u001b[0m\u001b[0;34m,\u001b[0m \u001b[0mretain_graph\u001b[0m\u001b[0;34m,\u001b[0m \u001b[0mcreate_graph\u001b[0m\u001b[0;34m,\u001b[0m\u001b[0;34m\u001b[0m\u001b[0;34m\u001b[0m\u001b[0m\n\u001b[0;32m---> 90\u001b[0;31m         allow_unreachable=True)  # allow_unreachable flag\n\u001b[0m\u001b[1;32m     91\u001b[0m \u001b[0;34m\u001b[0m\u001b[0m\n\u001b[1;32m     92\u001b[0m \u001b[0;34m\u001b[0m\u001b[0m\n",
      "\u001b[0;31mKeyboardInterrupt\u001b[0m: "
     ]
    }
   ],
   "source": [
    "learn.fit_one_cycle(5, 5e-5, moms=(0.7,0.5))"
   ]
  },
  {
   "cell_type": "code",
   "execution_count": null,
   "metadata": {},
   "outputs": [],
   "source": [
    "learn.save('bert_epoch_2_finetune_last')"
   ]
  },
  {
   "cell_type": "markdown",
   "metadata": {},
   "source": [
    "### Predictions"
   ]
  },
  {
   "cell_type": "code",
   "execution_count": 58,
   "metadata": {},
   "outputs": [],
   "source": [
    "learn = learn.load('bert_epoch_2_finetune_last')"
   ]
  },
  {
   "cell_type": "code",
   "execution_count": 59,
   "metadata": {},
   "outputs": [
    {
     "data": {
      "text/html": [
       "<table>  <col width='34%'>  <col width='33%'>  <col width='33%'>  <tr>\n",
       "    <th>text</th>\n",
       "    <th>target</th>\n",
       "    <th>pred</th>\n",
       "  </tr>\n",
       "  <tr>\n",
       "    <th>xxfld p28 p44 p47 wait3 xxfld xxfld endp47 xxfld endp28 endp44 endp52 wait4 xxfld p52 wait2 xxfld wait1 p51 wait2</th>\n",
       "    <th>xxbos p52 wait4 wait1 p23 endp52 p28 p52 wait1 endp23 wait5 endp20 endp40 p28 wait2 endp45 p52 wait2 wait4 p44</th>\n",
       "    <th>wait4 p52 wait4 wait1 p23 endp52 p28 p52 wait1 endp23 wait5 endp20 endp40 p28 wait2 endp45 p52 wait2 wait4 p44</th>\n",
       "  </tr>\n",
       "  <tr>\n",
       "    <th>wait3 endp41 p42 wait3 endp42 wait3 p44 wait3 endp44 p45 wait3 endp45 p46 xxfld endp34 endp46 wait1 p27 p30 wait3</th>\n",
       "    <th>wait5 endp42 endp30 endp41 wait2 p29 p32 wait2 wait3 endp41 wait3 endp43 endp44 wait3 wait3 endp39 wait1 p38 wait3 p42</th>\n",
       "    <th>wait3 endp42 endp30 endp41 wait2 p29 p32 wait2 wait3 endp41 wait3 endp43 endp44 wait3 wait3 endp39 wait1 p38 wait3 p42</th>\n",
       "  </tr>\n",
       "  <tr>\n",
       "    <th>endp27 xxfld endp30 wait1 p31 wait2 xxfld wait1 p25 wait1 p34 wait1 endp8 endp20 xxfld wait1 p10 p22 endp34 p37</th>\n",
       "    <th>wait1 endp31 endp25 p42 wait1 endp32 wait1 wait1 p40 wait1 wait1 endp35 endp38 p32 p44 p27 p47 p37 endp37 p43</th>\n",
       "    <th>wait1 endp31 endp25 p42 wait1 endp32 wait1 wait1 p40 wait1 wait1 endp35 endp38 p32 p44 p27 p47 p37 endp37 p43</th>\n",
       "  </tr>\n",
       "  <tr>\n",
       "    <th>xxfld p28 p42 wait1 endp27 endp33 wait1 xxfld xxfld p41 endp42 wait3 endp29 endp41 wait3 p10 p22 p49 wait2 xxfld</th>\n",
       "    <th>wait1 endp28 p29 endp49 endp22 endp37 wait3 wait1 wait2 endp22 endp37 wait1 wait1 wait1 wait1 p42 wait3 endp42 wait3 p22</th>\n",
       "    <th>wait1 endp28 p29 endp49 endp22 endp37 wait3 wait1 wait2 endp22 endp37 wait1 wait1 wait1 wait1 p42 wait3 endp42 wait3 p22</th>\n",
       "  </tr>\n",
       "  <tr>\n",
       "    <th>wait1 p7 p31 p36 wait3 endp31 endp36 wait3 p34 p38 wait3 endp34 endp38 wait6 p39 xxfld endp39 wait1 xxfld p43</th>\n",
       "    <th>wait2 p36 p38 wait3 endp34 p34 wait1 wait6 p34 wait6 p31 p22 endp22 endp26 wait3 wait3 endp34 p0 wait1 p12</th>\n",
       "    <th>wait2 p36 p38 wait3 endp34 p34 wait1 wait6 p34 wait6 p31 p19 endp19 endp26 wait3 wait3 endp34 endp34 wait1 p12</th>\n",
       "  </tr>\n",
       "</table>\n"
      ],
      "text/plain": [
       "<IPython.core.display.HTML object>"
      ]
     },
     "metadata": {},
     "output_type": "display_data"
    }
   ],
   "source": [
    "learn.show_results()"
   ]
  },
  {
   "cell_type": "code",
   "execution_count": 49,
   "metadata": {},
   "outputs": [
    {
     "data": {
      "text/plain": [
       "(33,\n",
       " 12,\n",
       " PosixPath('data/composers/notewise/piano_solo/note_range62/sample_freq12/bach/813_5bm2.txt'))"
      ]
     },
     "execution_count": 49,
     "metadata": {},
     "output_type": "execute_result"
    }
   ],
   "source": [
    "idx = 12\n",
    "folder_idx = 2 # 2 = bach\n",
    "seed_len = 50\n",
    "\n",
    "file = path.ls()[folder_idx].ls()[idx]\n",
    "with open(file, 'r') as f:\n",
    "    txt_out = f.read()\n",
    "notes = txt_out.split(' ')\n",
    "seed = ' '.join(notes[:seed_len])\n",
    "\n",
    "note_offset = 45 if 'note_range38' in str(file) else 33\n",
    "sample_freq = 12 if 'sample_freq12' in str(file) else 4\n",
    "\n",
    "note_offset, sample_freq, file"
   ]
  },
  {
   "cell_type": "code",
   "execution_count": 50,
   "metadata": {},
   "outputs": [],
   "source": [
    "pred_out = learn.predict(seed, n_words=50)"
   ]
  },
  {
   "cell_type": "markdown",
   "metadata": {},
   "source": [
    "### Testing"
   ]
  },
  {
   "cell_type": "code",
   "execution_count": 51,
   "metadata": {},
   "outputs": [
    {
     "data": {
      "text/plain": [
       "'p24 p36 wait5 endp36 wait1 p24 p36 wait6 p24 p36 wait6 p24 p36 wait6 p24 p36 wait6 p24 p36 wait6 p24 p36 wait6 p24 p36 wait6 p24 p36 wait6 p24 p36 wait6 p24 p36 wait6 p24 p36 wait6 p24 p36 wait6 p24 p36 wait6 p24 p36 wait6 p24 p36 wait6'"
      ]
     },
     "execution_count": 51,
     "metadata": {},
     "output_type": "execute_result"
    }
   ],
   "source": [
    "pred_only = pred_out.replace(seed, '').strip(); pred_only"
   ]
  },
  {
   "cell_type": "code",
   "execution_count": 52,
   "metadata": {},
   "outputs": [],
   "source": [
    "from utils import *\n",
    "import music21\n",
    "from music21 import *\n",
    "from IPython.display import Image, Audio"
   ]
  },
  {
   "cell_type": "code",
   "execution_count": 53,
   "metadata": {},
   "outputs": [],
   "source": [
    "pred_format = pred_only.replace('xxbos ', '')"
   ]
  },
  {
   "cell_type": "code",
   "execution_count": 54,
   "metadata": {},
   "outputs": [],
   "source": [
    "note_stream = arrToStreamNotewise(pred_format.split(' '), sample_freq=sample_freq/2, note_offset=45)"
   ]
  },
  {
   "cell_type": "code",
   "execution_count": 55,
   "metadata": {},
   "outputs": [
    {
     "data": {
      "image/png": "[encoded data removed]",
      "text/plain": [
       "<IPython.core.display.Image object>"
      ]
     },
     "execution_count": 55,
     "metadata": {},
     "output_type": "execute_result"
    }
   ],
   "source": [
    "Image(filename=str(note_stream.write('lily.png')))"
   ]
  },
  {
   "cell_type": "code",
   "execution_count": 56,
   "metadata": {},
   "outputs": [
    {
     "data": {
      "text/html": [
       "\n",
       "                <div id='midiPlayerDiv4086'></div>\n",
       "                <link rel=\"stylesheet\" href=\"//cuthbertLab.github.io/music21j/css/m21.css\"\n",
       "                    type=\"text/css\" />\n",
       "                <script>\n",
       "                require.config({\n",
       "                    paths: {'music21': '//cuthbertLab.github.io/music21j/src/music21'}\n",
       "                });\n",
       "                require(['music21'], function() {\n",
       "                               mp = new music21.miditools.MidiPlayer();\n",
       "                               mp.addPlayer('#midiPlayerDiv4086');\n",
       "                               mp.base64Load('data:audio/midi;base64,TVRoZAAAAAYAAQABBABNVHJrAAABLAD/AwAA4ABAAJBFWgCQUVqIAIBRAACQRVoAkFFagSuARQCGVZBFWgCQUVqBK4BFAACAUQCGVZBFWgCQUVqBK4BFAACAUQCGVZBFWgCQUVqBK4BFAACAUQCGVZBFWgCQUVqBK4BFAACAUQCGVZBFWgCQUVqBK4BFAACAUQCGVZBFWgCQUVqBK4BFAACAUQCGVZBFWgCQUVqBK4BFAACAUQCGVZBFWgCQUVqBK4BFAACAUQCGVZBFWgCQUVqBK4BFAACAUQCGVZBFWgCQUVqBK4BFAACAUQCGVZBFWgCQUVqBK4BFAACAUQCGVZBFWgCQUVqBK4BFAACAUQCGVZBFWgCQUVqBK4BFAACAUQCGVZBFWgCQUVqBK4BFAACAUQCOVYBFAACAUQCIAP8vAA==');\n",
       "                        });\n",
       "                </script>"
      ],
      "text/plain": [
       "<IPython.core.display.HTML object>"
      ]
     },
     "metadata": {},
     "output_type": "display_data"
    }
   ],
   "source": [
    "note_stream.show('midi')"
   ]
  },
  {
   "cell_type": "code",
   "execution_count": 41,
   "metadata": {},
   "outputs": [
    {
     "data": {
      "image/png": "[encoded data removed]",
      "text/plain": [
       "<IPython.core.display.Image object>"
      ]
     },
     "execution_count": 41,
     "metadata": {},
     "output_type": "execute_result"
    }
   ],
   "source": [
    "Image(filename=str(note_stream.chordify().write('lily.png')))"
   ]
  },
  {
   "cell_type": "code",
   "execution_count": 33,
   "metadata": {},
   "outputs": [
    {
     "data": {
      "text/plain": [
       "torch.Size([64, 512, 158])"
      ]
     },
     "execution_count": 33,
     "metadata": {},
     "output_type": "execute_result"
    }
   ],
   "source": [
    "ob = data.one_batch(cpu=False)\n",
    "\n",
    "out = learn.pred_batch(batch=ob)\n",
    "\n",
    "out.shape"
   ]
  },
  {
   "cell_type": "code",
   "execution_count": 34,
   "metadata": {},
   "outputs": [],
   "source": [
    "z = out.view(*ob[0].size(),-1).argmax(dim=-1)"
   ]
  },
  {
   "cell_type": "code",
   "execution_count": 42,
   "metadata": {},
   "outputs": [
    {
     "data": {
      "text/plain": [
       "torch.Size([16, 250, 33548])"
      ]
     },
     "execution_count": 42,
     "metadata": {},
     "output_type": "execute_result"
    }
   ],
   "source": [
    "out.shape"
   ]
  },
  {
   "cell_type": "code",
   "execution_count": 35,
   "metadata": {},
   "outputs": [
    {
     "data": {
      "text/plain": [
       "tensor([[124, 124, 146,  ...,   8,  59,   9],\n",
       "        [ 41,  26,   8,  ...,  66,   9,  56],\n",
       "        [ 53,   9, 120,  ...,  12,  70,  15],\n",
       "        ...,\n",
       "        [  9,  79,  57,  ...,  61,   8,  22],\n",
       "        [ 49,  36,   8,  ...,   8,  79,  63],\n",
       "        [ 31,   8,  24,  ...,  43,  10,  46]])"
      ]
     },
     "execution_count": 35,
     "metadata": {},
     "output_type": "execute_result"
    }
   ],
   "source": [
    "z"
   ]
  },
  {
   "cell_type": "code",
   "execution_count": null,
   "metadata": {},
   "outputs": [],
   "source": []
  },
  {
   "cell_type": "code",
   "execution_count": 33,
   "metadata": {},
   "outputs": [
    {
     "data": {
      "text/html": [
       "<table>  <col width='34%'>  <col width='33%'>  <col width='33%'>  <tr>\n",
       "    <th>text</th>\n",
       "    <th>target</th>\n",
       "    <th>pred</th>\n",
       "  </tr>\n",
       "  <tr>\n",
       "    <th>xxfld = xxfld gammarus = xxbos Homarus gammarus , known as xxfld European lobster or common lobster , is a</th>\n",
       "    <th>gallinae gallinae gallinae gallinae gallinae gallinae gallinae gallinae Ocean gallinae gallinae Sea gallinae gallinae gallinae gallinae gallinae gallinae gallinae gallinae</th>\n",
       "    <th>the the the the the the the the the the the the the the the the the the the the</th>\n",
       "  </tr>\n",
       "  <tr>\n",
       "    <th>, when a No . 38 Squadron Dakota he was co - xxunk on a supply drop xxfld - landed</th>\n",
       "    <th>gallinae gallinae gallinae gallinae xxunk gallinae following gallinae gallinae . In gallinae 1951 he gallinae gallinae gallinae gallinae gallinae gallinae</th>\n",
       "    <th>the the the the the the the the the the the the the the the the the the the the</th>\n",
       "  </tr>\n",
       "  <tr>\n",
       "    <th>xxfld xxunk referred to xxunk as one of his xxfld characters from xxunk . xxbos Several publications for xxfld ,</th>\n",
       "    <th>gallinae gallinae gallinae gallinae gallinae gallinae gallinae gallinae gallinae gallinae gallinae gallinae gallinae gallinae gallinae . gallinae gallinae gallinae that</th>\n",
       "    <th>the the the the the the the the the the the the the the the the the the the the</th>\n",
       "  </tr>\n",
       "  <tr>\n",
       "    <th>xxfld xxunk , xxfld from xxfld xxfld . The xxfld clerk is Pam xxunk . In total , the city</th>\n",
       "    <th>gallinae gallinae gallinae gallinae gallinae gallinae gallinae gallinae a gallinae of gallinae gallinae gallinae gallinae gallinae gallinae gallinae after Hurricane</th>\n",
       "    <th>the the the the the the the the the the the the the the the the the the the the</th>\n",
       "  </tr>\n",
       "  <tr>\n",
       "    <th>xxfld . After closing in the late 1920s due to the Great Depression , the opera house was xxfld for</th>\n",
       "    <th>gallinae 70 gallinae gallinae gallinae gallinae gallinae gallinae gallinae gallinae gallinae gallinae gallinae gallinae gallinae , a gallinae foundation gallinae</th>\n",
       "    <th>the the the the the the the the the the the the the the the the the the the the</th>\n",
       "  </tr>\n",
       "</table>\n"
      ],
      "text/plain": [
       "<IPython.core.display.HTML object>"
      ]
     },
     "metadata": {},
     "output_type": "display_data"
    }
   ],
   "source": [
    "learn.show_results()"
   ]
  }
 ],
 "metadata": {
  "kernelspec": {
   "display_name": "Python 3",
   "language": "python",
   "name": "python3"
  },
  "language_info": {
   "codemirror_mode": {
    "name": "ipython",
    "version": 3
   },
   "file_extension": ".py",
   "mimetype": "text/x-python",
   "name": "python",
   "nbconvert_exporter": "python",
   "pygments_lexer": "ipython3",
   "version": "3.7.1"
  }
 },
 "nbformat": 4,
 "nbformat_minor": 2
}
